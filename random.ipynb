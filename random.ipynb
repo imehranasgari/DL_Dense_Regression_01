{
 "cells": [
  {
   "cell_type": "code",
   "execution_count": 1,
   "id": "c98bc23a-6709-4818-8ade-044b83be66bf",
   "metadata": {},
   "outputs": [],
   "source": [
    "import numpy as np\n",
    "import tensorflow as tf\n",
    "import tensorboard as tb\n",
    "from tensorflow import keras\n",
    "from sklearn.model_selection import train_test_split\n",
    "import datetime"
   ]
  },
  {
   "cell_type": "code",
   "execution_count": 2,
   "id": "a81910cc-33d2-4e89-9235-f555dfedc034",
   "metadata": {},
   "outputs": [],
   "source": [
    "np.random.seed(42)\n",
    "\n",
    "# تعداد نمونه‌ها و ویژگی‌ها\n",
    "number_dates = 10000\n",
    "input_feature = 15\n",
    "input_feature = 3\n",
    "output_feature = 1\n",
    "\n",
    "# داده‌های ورودی\n",
    "X = np.random.rand(number_dates, input_feature).astype(np.float32)\n",
    "\n",
    "# ایجاد رابطه خطی بین X و Y با نویز\n",
    "weights_ = np.array([2.0, -3.5, 1.0]).astype(np.float32)  # وزن‌های دلخواه\n",
    "bias_ = 5.0  # بایاس\n",
    "noise_ = np.random.normal(0, 0.1, size=(number_dates,)).astype(np.float32)  # نویز\n",
    "\n",
    "# محاسبه Y با رابطه خطی\n",
    "Y = (X @ weights_.reshape(-1, 1) + bias_ + noise_.reshape(-1, 1)).astype(np.float32)"
   ]
  },
  {
   "cell_type": "code",
   "execution_count": 3,
   "id": "224a3b87-a4c0-4af1-b47e-c4fb68b4e7cc",
   "metadata": {},
   "outputs": [],
   "source": [
    "X_train,X_test,Y_train,Y_test = train_test_split(X,Y,random_state=32,test_size=0.2)"
   ]
  },
  {
   "cell_type": "code",
   "execution_count": 4,
   "id": "57e0442c-5098-423e-932c-2347f8147aea",
   "metadata": {},
   "outputs": [],
   "source": [
    "X_train_1, X_validaion, y_train_1, y_validaion = train_test_split(\n",
    "                                                                 X_train,\n",
    "                                                                 Y_train)"
   ]
  },
  {
   "cell_type": "code",
   "execution_count": 5,
   "id": "b2ab9147-a7de-4ed9-b15f-06bd84d6b541",
   "metadata": {},
   "outputs": [],
   "source": [
    "input_=keras.layers.Input(X_train_1.shape[1:])\n",
    "\n",
    "hidden_layer_1=keras.layers.Dense(100,activation='relu')(input_)\n",
    "hidden_layer_2=keras.layers.Dense(150,activation='relu')(hidden_layer_1)\n",
    "hidden_layer_3=keras.layers.Dense(75,activation='relu')(hidden_layer_2)\n",
    "\n",
    "output_=keras.layers.Dense(1)(hidden_layer_3)\n",
    "\n",
    "model_reg=keras.Model(inputs=input_,outputs=output_,name=\"regression_model\")"
   ]
  },
  {
   "cell_type": "code",
   "execution_count": 6,
   "id": "1220dcf0-fdaf-4439-bf71-f95a22be4958",
   "metadata": {},
   "outputs": [],
   "source": [
    "model_reg.compile(\n",
    "    optimizer=keras.optimizers.Adam(learning_rate=0.01),\n",
    "    loss='mean_squared_error',\n",
    "    metrics=['mean_absolute_error']\n",
    ")"
   ]
  },
  {
   "cell_type": "markdown",
   "id": "bfec392d-be82-4177-97d2-7dbd96d19cf5",
   "metadata": {},
   "source": [
    "## callback"
   ]
  },
  {
   "cell_type": "code",
   "execution_count": 7,
   "id": "22c84efc-8403-469a-a10c-3d5ad1bf5356",
   "metadata": {},
   "outputs": [],
   "source": [
    "model_Checkpoint_callback = keras.callbacks.ModelCheckpoint('model_regresion_p1.h5'\n",
    "                                                            ,save_best_only=True)"
   ]
  },
  {
   "cell_type": "code",
   "execution_count": 8,
   "id": "072b6637-7598-44eb-8e3d-5ef16407ce36",
   "metadata": {},
   "outputs": [],
   "source": [
    "earlystopping_callback_ = keras.callbacks.EarlyStopping(monitor=\"val_loss\",\n",
    "                                                        patience=6,\n",
    "                                                      restore_best_weights=True)"
   ]
  },
  {
   "cell_type": "code",
   "execution_count": 9,
   "id": "63983b16-5b1e-42c7-9f8d-4e57d021fae3",
   "metadata": {},
   "outputs": [],
   "source": [
    "# مسیر ذخیره لاگ‌ها\n",
    "log_dir = \"logs/fit/\" + datetime.datetime.now().strftime(\"%Y%m%d-%H%M%S\")\n",
    "tensorboard_callback = tf.keras.callbacks.TensorBoard(log_dir=log_dir, histogram_freq=1)"
   ]
  },
  {
   "cell_type": "markdown",
   "id": "33a13aa2-e626-4866-b543-bdf3ed6a4229",
   "metadata": {},
   "source": [
    "## fit"
   ]
  },
  {
   "cell_type": "code",
   "execution_count": 10,
   "id": "c583f8db-388e-417b-964a-49897e6d1fc2",
   "metadata": {},
   "outputs": [
    {
     "name": "stdout",
     "output_type": "stream",
     "text": [
      "Epoch 1/100\n",
      "172/172 [==============================] - 1s 2ms/step - loss: 0.7235 - mean_absolute_error: 0.3862 - val_loss: 0.0111 - val_mean_absolute_error: 0.0847\n",
      "Epoch 2/100\n",
      "122/172 [====================>.........] - ETA: 0s - loss: 0.0122 - mean_absolute_error: 0.0884"
     ]
    },
    {
     "name": "stderr",
     "output_type": "stream",
     "text": [
      "D:\\anacoda\\envs\\a.i\\lib\\site-packages\\keras\\src\\engine\\training.py:3000: UserWarning: You are saving your model as an HDF5 file via `model.save()`. This file format is considered legacy. We recommend using instead the native Keras format, e.g. `model.save('my_model.keras')`.\n",
      "  saving_api.save_model(\n"
     ]
    },
    {
     "name": "stdout",
     "output_type": "stream",
     "text": [
      "172/172 [==============================] - 0s 1ms/step - loss: 0.0123 - mean_absolute_error: 0.0884 - val_loss: 0.0114 - val_mean_absolute_error: 0.0858\n",
      "Epoch 3/100\n",
      "172/172 [==============================] - 0s 1ms/step - loss: 0.0127 - mean_absolute_error: 0.0900 - val_loss: 0.0113 - val_mean_absolute_error: 0.0852\n",
      "Epoch 4/100\n",
      "172/172 [==============================] - 0s 1ms/step - loss: 0.0125 - mean_absolute_error: 0.0890 - val_loss: 0.0117 - val_mean_absolute_error: 0.0859\n",
      "Epoch 5/100\n",
      "172/172 [==============================] - 0s 1ms/step - loss: 0.0157 - mean_absolute_error: 0.0989 - val_loss: 0.0226 - val_mean_absolute_error: 0.1238\n",
      "Epoch 6/100\n",
      "172/172 [==============================] - 0s 1ms/step - loss: 0.0139 - mean_absolute_error: 0.0939 - val_loss: 0.0112 - val_mean_absolute_error: 0.0852\n",
      "Epoch 7/100\n",
      "172/172 [==============================] - 0s 1ms/step - loss: 0.0125 - mean_absolute_error: 0.0890 - val_loss: 0.0106 - val_mean_absolute_error: 0.0820\n",
      "Epoch 8/100\n",
      "172/172 [==============================] - 0s 2ms/step - loss: 0.0131 - mean_absolute_error: 0.0910 - val_loss: 0.0108 - val_mean_absolute_error: 0.0826\n",
      "Epoch 9/100\n",
      "172/172 [==============================] - 0s 2ms/step - loss: 0.0167 - mean_absolute_error: 0.1033 - val_loss: 0.0125 - val_mean_absolute_error: 0.0897\n",
      "Epoch 10/100\n",
      "172/172 [==============================] - 0s 2ms/step - loss: 0.0176 - mean_absolute_error: 0.1053 - val_loss: 0.0682 - val_mean_absolute_error: 0.2317\n",
      "Epoch 11/100\n",
      "172/172 [==============================] - 0s 2ms/step - loss: 0.0168 - mean_absolute_error: 0.1028 - val_loss: 0.0149 - val_mean_absolute_error: 0.0987\n",
      "Epoch 12/100\n",
      "172/172 [==============================] - 0s 2ms/step - loss: 0.0176 - mean_absolute_error: 0.1058 - val_loss: 0.0322 - val_mean_absolute_error: 0.1541\n",
      "Epoch 13/100\n",
      "172/172 [==============================] - 0s 2ms/step - loss: 0.0147 - mean_absolute_error: 0.0961 - val_loss: 0.0206 - val_mean_absolute_error: 0.1180\n"
     ]
    }
   ],
   "source": [
    "history = model_reg.fit(\n",
    "    x=X_train_1,\n",
    "    y=y_train_1,\n",
    "    epochs=100,\n",
    "    batch_size=35,\n",
    "    validation_data=(X_validaion, y_validaion),\n",
    "        callbacks=[model_Checkpoint_callback,\n",
    "               earlystopping_callback_,\n",
    "                tensorboard_callback\n",
    "              ]\n",
    ")"
   ]
  },
  {
   "cell_type": "markdown",
   "id": "3ee34ac7-1831-4ef2-90dc-b8ec266a3f75",
   "metadata": {},
   "source": [
    "## evaluate"
   ]
  },
  {
   "cell_type": "code",
   "execution_count": 11,
   "id": "335a9eb0-f6d6-4f0c-8c01-2ae9a180c007",
   "metadata": {},
   "outputs": [
    {
     "name": "stdout",
     "output_type": "stream",
     "text": [
      "Test Loss (MSE): 0.010380505584180355\n",
      "Test Mean Absolute Error (MAE): 0.08154017478227615\n"
     ]
    }
   ],
   "source": [
    "# ارزیابی مدل\n",
    "test_loss, test_mae = model_reg.evaluate(X_test, Y_test, verbose=0)\n",
    "print(f\"Test Loss (MSE): {test_loss}\")\n",
    "print(f\"Test Mean Absolute Error (MAE): {test_mae}\")\n"
   ]
  },
  {
   "cell_type": "code",
   "execution_count": 12,
   "id": "1bfe17c4-aa8f-4aea-9181-ac24cd97917c",
   "metadata": {},
   "outputs": [
    {
     "name": "stdout",
     "output_type": "stream",
     "text": [
      "63/63 [==============================] - 0s 852us/step\n",
      "Actual: [4.7478204], Predicted: [4.91477]\n",
      "Actual: [6.3260946], Predicted: [6.4038734]\n",
      "Actual: [4.967318], Predicted: [4.753159]\n",
      "Actual: [2.7396567], Predicted: [2.6539526]\n",
      "Actual: [3.858327], Predicted: [3.834468]\n"
     ]
    }
   ],
   "source": [
    "# پیش‌بینی روی داده‌های تست\n",
    "y_pred = model_reg.predict(X_test)\n",
    "\n",
    "# نمایش چند نمونه از مقادیر واقعی و پیش‌بینی‌شده\n",
    "for i in range(5):\n",
    "    print(f\"Actual: {Y_test[i]}, Predicted: {y_pred[i]}\")\n"
   ]
  },
  {
   "cell_type": "code",
   "execution_count": 14,
   "id": "edf9c0a1-5ad2-4f3a-b25b-479b773b41f5",
   "metadata": {},
   "outputs": [
    {
     "name": "stdout",
     "output_type": "stream",
     "text": [
      "Root Mean Squared Error (RMSE): 0.10188477486371994\n"
     ]
    }
   ],
   "source": [
    "from sklearn.metrics import mean_squared_error\n",
    "rmse = mean_squared_error(Y_test, y_pred, squared=False)\n",
    "print(f\"Root Mean Squared Error (RMSE): {rmse}\")\n"
   ]
  },
  {
   "cell_type": "code",
   "execution_count": 15,
   "id": "d69f1174-d4b5-442d-9e81-4993d3d1a577",
   "metadata": {},
   "outputs": [
    {
     "name": "stdout",
     "output_type": "stream",
     "text": [
      "63/63 [==============================] - 0s 933us/step\n",
      "R² Score: 0.9929919925408142\n"
     ]
    }
   ],
   "source": [
    "from sklearn.metrics import r2_score  # ایمپورت r2_score\n",
    "\n",
    "# پیش‌بینی مقادیر توسط مدل\n",
    "y_pred = model_reg.predict(X_test)\n",
    "\n",
    "# محاسبه R² Score\n",
    "r2 = r2_score(Y_test, y_pred)\n",
    "\n",
    "# چاپ R² Score\n",
    "print(f\"R² Score: {r2}\")\n"
   ]
  },
  {
   "cell_type": "markdown",
   "id": "8a369440-f366-4a71-bdd2-e215b065b5b6",
   "metadata": {},
   "source": [
    "## plot evaluate"
   ]
  },
  {
   "cell_type": "markdown",
   "id": "5ebb80bf-c2c3-4a3c-aa74-9b76bbd57dbe",
   "metadata": {},
   "source": [
    "الف. مقایسه مقادیر واقعی و پیش‌بینی‌شده"
   ]
  },
  {
   "cell_type": "code",
   "execution_count": 16,
   "id": "9db2e410-1b25-427c-bd14-451b75d3c42a",
   "metadata": {},
   "outputs": [
    {
     "data": {
      "image/png": "[encoded data removed]",
      "text/plain": [
       "<Figure size 640x480 with 1 Axes>"
      ]
     },
     "metadata": {},
     "output_type": "display_data"
    }
   ],
   "source": [
    "import matplotlib.pyplot as plt\n",
    "\n",
    "plt.scatter(Y_test, y_pred, alpha=0.5)\n",
    "plt.plot([Y_test.min(), Y_test.max()], [Y_test.min(), Y_test.max()], color='red', linestyle='--')\n",
    "plt.xlabel(\"Actual Values\")\n",
    "plt.ylabel(\"Predicted Values\")\n",
    "plt.title(\"Actual vs Predicted Values\")\n",
    "plt.show()\n"
   ]
  },
  {
   "cell_type": "markdown",
   "id": "223d38f3-ffde-477e-bee0-1cdba75d1bf8",
   "metadata": {},
   "source": [
    "ب. توزیع خطاها"
   ]
  },
  {
   "cell_type": "code",
   "execution_count": 17,
   "id": "64de2a08-93cd-419b-ba06-ab5b1693386d",
   "metadata": {},
   "outputs": [
    {
     "data": {
      "image/png": "[encoded data removed]",
      "text/plain": [
       "<Figure size 640x480 with 1 Axes>"
      ]
     },
     "metadata": {},
     "output_type": "display_data"
    }
   ],
   "source": [
    "errors = Y_test - y_pred\n",
    "plt.hist(errors, bins=20, alpha=0.7)\n",
    "plt.xlabel(\"Prediction Error\")\n",
    "plt.ylabel(\"Frequency\")\n",
    "plt.title(\"Distribution of Prediction Errors\")\n",
    "plt.show()\n"
   ]
  },
  {
   "cell_type": "code",
   "execution_count": 18,
   "id": "abb33388-0da3-418a-95e6-2be04f84d6db",
   "metadata": {},
   "outputs": [
    {
     "data": {
      "image/png": "[encoded data removed]",
      "text/plain": [
       "<Figure size 640x480 with 1 Axes>"
      ]
     },
     "metadata": {},
     "output_type": "display_data"
    }
   ],
   "source": [
    "# رسم نمودار Loss\n",
    "plt.plot(history.history['loss'], label='Training Loss')\n",
    "plt.plot(history.history['val_loss'], label='Validation Loss')\n",
    "plt.xlabel('Epochs')\n",
    "plt.ylabel('Loss')\n",
    "plt.legend()\n",
    "plt.title(\"Training and Validation Loss\")\n",
    "plt.show()\n"
   ]
  },
  {
   "cell_type": "code",
   "execution_count": 19,
   "id": "0f210f75-59ee-476c-bfd0-0a6a505d5193",
   "metadata": {},
   "outputs": [
    {
     "name": "stdout",
     "output_type": "stream",
     "text": [
      "Actual: [[4.7478204]], Predicted: [[4.91477]], Error: [[0.16694975]]\n",
      "Actual: [[4.7478204]], Predicted: [[4.91477]], Error: [[0.16694975]]\n",
      "Actual: [[4.7478204]], Predicted: [[4.91477]], Error: [[0.16694975]]\n",
      "Actual: [[4.7478204]], Predicted: [[4.91477]], Error: [[0.16694975]]\n",
      "Actual: [[4.7478204]], Predicted: [[4.91477]], Error: [[0.16694975]]\n"
     ]
    }
   ],
   "source": [
    "\n",
    "# محاسبه خطاها\n",
    "errors = np.abs(Y_test - y_pred)\n",
    "\n",
    "# یافتن نمونه‌هایی با بیشترین خطا\n",
    "largest_errors_indices = np.argsort(errors)[-5:]  # 5 نمونه با بیشترین خطا\n",
    "for i in largest_errors_indices:\n",
    "    print(f\"Actual: {Y_test[i]}, Predicted: {y_pred[i]}, Error: {errors[i]}\")\n"
   ]
  },
  {
   "cell_type": "code",
   "execution_count": 20,
   "id": "19aeee5d-680b-40d2-a6b5-a5496e30904b",
   "metadata": {
    "scrolled": true
   },
   "outputs": [
    {
     "name": "stdout",
     "output_type": "stream",
     "text": [
      "Layer input_1 has no trainable weights.\n",
      "Weights: [[ 6.80414364e-02 -1.53464228e-01  1.50288060e-01 -2.16391191e-01\n",
      "   7.41588464e-03  2.17265487e-01 -7.55265355e-04  1.99511200e-02\n",
      "  -2.16678560e-01 -2.42847607e-01 -6.67995512e-02 -2.60681599e-01\n",
      "  -2.21028224e-01 -4.60616685e-02 -1.57826707e-01  7.96295926e-02\n",
      "  -2.62860805e-02 -1.11179268e-02 -9.52117890e-02  2.87443260e-03\n",
      "   1.10922180e-01 -2.09292158e-01  5.25926724e-02 -1.55223444e-01\n",
      "   8.68828744e-02 -6.57357275e-02  4.16874550e-02 -6.83963299e-03\n",
      "  -2.87463695e-01 -2.12085605e-01 -1.63628936e-01  1.89534485e-01\n",
      "  -1.19264505e-03 -1.98543757e-01 -2.64622003e-01 -2.98326433e-01\n",
      "  -1.90524846e-01 -3.63142416e-02  5.32810986e-02  5.14139198e-02\n",
      "   1.47287771e-01 -6.61312267e-02  2.15099305e-01  1.92955621e-02\n",
      "  -5.07494994e-02  5.20876348e-02  1.73121363e-01 -2.69967020e-02\n",
      "   4.73749079e-02 -1.52016461e-01 -3.95061827e-04 -9.19125136e-03\n",
      "  -1.78719744e-01  7.33235702e-02 -1.73508406e-01 -1.80140212e-01\n",
      "   8.55622962e-02 -1.07324637e-01 -2.89819539e-02  2.24476736e-02\n",
      "   1.02737851e-01  9.21893567e-02  5.00799902e-02 -2.71018595e-01\n",
      "   2.14848757e-01 -1.94937289e-01  5.27515933e-02  9.39711481e-02\n",
      "   1.44118264e-01 -8.93634856e-02  1.18318103e-01 -1.08235799e-01\n",
      "   1.11294221e-02  2.08365828e-01 -3.07278782e-02 -1.03680082e-01\n",
      "  -1.38188779e-01 -4.02032882e-02 -9.10091251e-02 -1.69245273e-01\n",
      "  -2.88785994e-02  1.61845595e-01 -2.69822925e-01 -1.55874521e-01\n",
      "  -1.56375587e-01 -4.21403944e-02 -1.22502297e-02 -2.08906084e-01\n",
      "  -3.21755335e-02  1.53617561e-01 -1.50910929e-01 -1.27422079e-01\n",
      "   2.30830207e-01 -3.02408151e-02 -7.60833025e-02  1.56405464e-01\n",
      "  -1.43358231e-01 -1.56788200e-01  3.68841551e-02  4.70452793e-02]\n",
      " [-8.56210887e-02  4.78016958e-03 -1.91522196e-01 -1.53943479e-01\n",
      "  -1.44336179e-01  9.70461816e-02 -1.24166623e-01  6.85012564e-02\n",
      "  -1.22894794e-01  3.28374989e-02 -8.71702284e-02  2.34978974e-01\n",
      "  -7.49000907e-02 -2.23512605e-01  1.52986199e-01  6.97513223e-02\n",
      "  -2.11290538e-01  1.41917244e-01  3.21484208e-02 -6.24285117e-02\n",
      "   1.18747028e-02 -5.16434871e-02 -9.27462280e-02 -4.16597128e-02\n",
      "   1.36649728e-01  1.60061747e-01 -1.36656985e-01 -6.18916601e-02\n",
      "   2.02661425e-01 -1.07592329e-01 -4.50136065e-02  5.71013093e-02\n",
      "   1.40378371e-01 -6.47654012e-02  5.98723143e-02 -1.76009923e-01\n",
      "   7.16502080e-03  2.50017226e-01 -1.23582110e-01 -2.30273068e-01\n",
      "  -2.28831872e-01 -3.89587111e-03 -2.49004021e-01 -3.62027697e-02\n",
      "  -1.55126706e-01  1.01824619e-01 -2.80877829e-01 -2.20945880e-01\n",
      "   3.67841907e-02 -4.68160957e-02 -2.85767138e-01  4.83664637e-03\n",
      "  -2.23454088e-01 -1.05667301e-03 -1.03119505e-03 -9.61008845e-05\n",
      "  -2.35584036e-01  7.33182579e-02 -2.40016058e-01 -2.48256847e-02\n",
      "  -2.58342952e-01 -2.60210574e-01  4.98388112e-02  7.68561736e-02\n",
      "  -1.24957837e-01  2.37366073e-02 -1.49618745e-01 -1.22182429e-01\n",
      "   3.67070250e-02  3.26970577e-01 -2.07840905e-01 -2.61917531e-01\n",
      "  -7.74691477e-02  7.60843605e-02 -8.08439404e-02  2.13310182e-01\n",
      "   1.48269117e-01 -3.05039957e-02 -6.32847995e-02  1.80548161e-01\n",
      "   4.16085944e-02 -4.09065783e-02  9.93172079e-02 -1.43558085e-02\n",
      "  -1.34158740e-03 -1.88839734e-02  1.87128782e-04 -3.32423747e-02\n",
      "  -8.24294388e-02 -2.13358283e-01 -1.75272539e-01  2.35725418e-01\n",
      "  -1.25521958e-01  6.33686036e-02 -2.08382607e-02 -2.02579483e-01\n",
      "  -1.59887046e-01 -1.55724570e-01 -5.53600416e-02 -1.67962939e-01]\n",
      " [-3.48241329e-02 -2.09004134e-01  9.91107300e-02 -5.53710461e-02\n",
      "   1.67243883e-01 -2.65236050e-01 -3.83173674e-02 -1.86621532e-01\n",
      "  -2.35054940e-01  1.03483200e-02 -1.60621360e-01  1.46955131e-02\n",
      "  -9.61185992e-03  2.78694071e-02  1.92305356e-01  1.62278220e-01\n",
      "   1.42889380e-01 -2.40849689e-01 -2.66049683e-01  2.08567619e-01\n",
      "   1.31404251e-01  1.55431956e-01  7.24532828e-02 -1.18734166e-02\n",
      "  -2.33478665e-01 -6.52270243e-02 -1.68745130e-01 -1.53321669e-01\n",
      "  -6.36306331e-02 -2.75953859e-02 -6.65507317e-02  4.59207073e-02\n",
      "  -1.92988455e-01  9.05090198e-03 -1.89138502e-01  1.16769522e-01\n",
      "  -9.96047482e-02 -1.03302985e-01  3.92613485e-02  1.60829037e-01\n",
      "   1.06161751e-01 -3.46776724e-01  2.74366103e-02  2.53273137e-02\n",
      "  -9.61913317e-02  1.23544239e-01  8.74979496e-02 -2.35374302e-01\n",
      "   1.21955514e-01 -2.15439931e-01 -2.64484257e-01 -2.05516726e-01\n",
      "  -2.21306965e-01 -2.58041173e-01  6.27817735e-02 -2.59298384e-01\n",
      "   1.62625894e-01 -3.56533587e-01 -1.66157007e-01 -2.21803039e-02\n",
      "   1.46097630e-01 -1.32705525e-01  6.65971637e-02 -3.01121082e-02\n",
      "   1.83024317e-01 -7.16062188e-02  2.89608222e-02 -3.92016359e-02\n",
      "  -3.55432361e-01 -1.61209717e-01  7.32657388e-02 -3.81911658e-02\n",
      "   2.45142374e-02  1.67865083e-01 -5.06404489e-02 -1.94810137e-01\n",
      "  -3.66934910e-02  1.09437570e-01  1.46564037e-01 -1.58079386e-01\n",
      "   3.08520123e-02 -2.34698087e-01  9.67136696e-02 -1.00548416e-01\n",
      "  -2.34079495e-01  5.70774078e-04 -2.16058925e-01 -1.14585325e-01\n",
      "  -2.80764550e-01 -3.04043174e-01 -2.51247156e-02  1.72876537e-01\n",
      "   9.26447436e-02 -1.92221582e-01 -4.85692769e-02 -9.47634429e-02\n",
      "  -5.66322953e-02 -1.52314022e-01 -2.41761252e-01  8.27471241e-02]], Biases: [-0.06006643 -0.10229862  0.12408829  0.          0.08666857  0.03159634\n",
      "  0.         -0.04014046  0.         -0.07864854  0.         -0.09775028\n",
      "  0.          0.23200734 -0.01736755  0.04727454  0.07037432 -0.02120158\n",
      " -0.1349716   0.08292756  0.08468819 -0.08138754  0.07780956 -0.10512571\n",
      " -0.02269443 -0.01083901  0.23227067  0.         -0.21546431  0.\n",
      "  0.          0.06828781 -0.01815859 -0.08930769 -0.0506089   0.07304788\n",
      " -0.03973349 -0.10737219  0.10683493  0.13663204  0.11146161 -0.08812293\n",
      "  0.13495713  0.01651876 -0.06004806  0.04329153  0.01508505  0.\n",
      "  0.05859929  0.         -0.06003838 -0.08914366  0.          0.00426019\n",
      " -0.07821512 -0.04741094  0.043458   -0.13696162  0.          0.042185\n",
      "  0.10587486 -0.03521961  0.05057961 -0.0354825   0.07944422 -0.14010367\n",
      "  0.12876801 -0.10949311 -0.08164366 -0.19090012  0.15067786 -0.05415963\n",
      " -0.01420478  0.07157392  0.         -0.02580697 -0.08589225  0.05683279\n",
      "  0.04669174 -0.05855024  0.00326886 -0.02364115 -0.12454201  0.\n",
      " -0.08451523  0.          0.          0.         -0.05346655  0.07493702\n",
      " -0.06004017 -0.05577523  0.08879717 -0.03743362  0.          0.26825428\n",
      "  0.          0.         -0.05288921  0.12329025]\n",
      "Weights: [[ 1.76554061e-02  1.05827197e-01 -7.04919845e-02 ...  6.78518042e-02\n",
      "  -6.25305027e-02 -6.89573064e-02]\n",
      " [-1.35899186e-01 -5.18218949e-02 -6.26759306e-02 ... -1.19801804e-01\n",
      "  -3.01266424e-02 -5.85181862e-02]\n",
      " [ 1.39702400e-02 -1.26058087e-01 -1.97641000e-01 ...  1.01388976e-01\n",
      "   1.60870269e-01  1.47109479e-02]\n",
      " ...\n",
      " [ 3.52846682e-02  6.69581592e-02  1.41801491e-01 ... -2.82729864e-02\n",
      "  -5.54361269e-02  4.75347042e-05]\n",
      " [-2.02402011e-01  1.01406589e-01 -1.69416472e-01 ...  1.43311381e-01\n",
      "   1.82872772e-01  3.27625871e-02]\n",
      " [-1.92903683e-01  6.50430173e-02  7.85839707e-02 ...  1.10959075e-01\n",
      "   3.24985050e-02 -3.85446399e-02]], Biases: [-0.06004406  0.         -0.05955748 -0.06005453  0.13077523  0.05336905\n",
      " -0.06005372  0.13486125 -0.01894205  0.11864975  0.06362706  0.\n",
      "  0.12188994  0.050269   -0.01856405  0.11797718  0.12473742 -0.05558087\n",
      " -0.06005408 -0.06005373  0.12019741  0.10399517  0.         -0.06005425\n",
      " -0.0430479   0.14343101  0.          0.1214602  -0.06004758  0.09259119\n",
      "  0.         -0.06529392  0.         -0.01595952 -0.03843075  0.09567986\n",
      "  0.12942666 -0.16357663 -0.05858395 -0.07795309 -0.06002166 -0.06686559\n",
      "  0.          0.12840037 -0.06005424  0.12487811  0.12275441 -0.06003868\n",
      "  0.          0.12632394  0.1170215   0.10006517 -0.06005048 -0.06005045\n",
      "  0.10677184 -0.06305657 -0.05159902  0.12605606 -0.06160428 -0.0600539\n",
      "  0.11095512  0.10652668 -0.05457426  0.11133876  0.06859024  0.\n",
      " -0.06005185  0.         -0.07769219 -0.06207667 -0.06005425 -0.05848103\n",
      " -0.04547092 -0.06064692 -0.06005004  0.13110502  0.          0.06112775\n",
      " -0.04981685 -0.04296025  0.          0.05277996  0.12455247 -0.10094091\n",
      " -0.08479612  0.09902728 -0.06004766  0.          0.08587015 -0.05845387\n",
      " -0.04850799 -0.04147361  0.         -0.06004911 -0.06005417 -0.0800129\n",
      "  0.         -0.04095889  0.10337092  0.08325557 -0.04049869 -0.06158518\n",
      "  0.09205146 -0.0600487  -0.06005426  0.12023965  0.         -0.0725193\n",
      "  0.12629947  0.10670266 -0.05965901 -0.06005388 -0.06005371 -0.06004775\n",
      " -0.06005437 -0.01323719 -0.0457503   0.06847382 -0.06003436 -0.06004458\n",
      " -0.08479787 -0.05107212 -0.03730788 -0.06002956 -0.0600467   0.\n",
      " -0.06004825  0.10430065  0.10335364  0.108491    0.1127451  -0.08956184\n",
      "  0.0932987  -0.0487053   0.00621595 -0.0600498   0.          0.11946262\n",
      "  0.08411486  0.13165508  0.11468138 -0.08112332 -0.03179513 -0.06159884\n",
      "  0.12953438  0.         -0.1719649   0.08045069  0.09357788  0.        ]\n",
      "Weights: [[-0.10658514  0.032693    0.07509652 ...  0.00596657 -0.02071537\n",
      "  -0.09194059]\n",
      " [ 0.08316247 -0.10712099  0.02023549 ... -0.15454066 -0.12426159\n",
      "   0.1277509 ]\n",
      " [ 0.07644602 -0.04928476 -0.08693575 ...  0.05632526 -0.06374548\n",
      "   0.13502893]\n",
      " ...\n",
      " [-0.0583783  -0.16988996  0.09818313 ...  0.04558603 -0.11375725\n",
      "  -0.04984407]\n",
      " [-0.08384514 -0.08907188  0.08111876 ... -0.00394647 -0.23343542\n",
      "  -0.10751873]\n",
      " [ 0.035941   -0.12789923 -0.07379905 ... -0.05080301 -0.08644402\n",
      "  -0.07315684]], Biases: [-0.0600544   0.00357491  0.          0.14746352  0.1426039   0.14265136\n",
      " -0.06005452 -0.06379724 -0.066889    0.          0.14115243 -0.06037429\n",
      " -0.07168552 -0.00582262  0.          0.          0.13533758  0.\n",
      " -0.05558611  0.14418356  0.15213732 -0.06005451  0.          0.15389414\n",
      " -0.06005405  0.15044336 -0.08196915 -0.064989    0.13106409  0.15238339\n",
      "  0.10774709  0.10028988  0.14826246 -0.06005455  0.14355808  0.14812356\n",
      "  0.13168842 -0.19832808  0.10887232  0.14189479  0.15287742 -0.0600545\n",
      " -0.06005453 -0.07387953  0.1506013   0.15357853 -0.06005452  0.14832263\n",
      "  0.         -0.05246126 -0.07103476  0.13702685 -0.06005337 -0.06005404\n",
      "  0.14769933 -0.06952125  0.03239571  0.         -0.0600545  -0.06005454\n",
      "  0.1507703   0.15134493  0.14380957  0.14810705  0.14452237  0.04001586\n",
      "  0.14772417 -0.06005441  0.09481563 -0.06005387 -0.08264389  0.\n",
      " -0.06004974 -0.066115    0.        ]\n",
      "Weights: [[-0.03626742]\n",
      " [-0.03548577]\n",
      " [-0.13943693]\n",
      " [ 0.15759721]\n",
      " [ 0.08243749]\n",
      " [ 0.1270668 ]\n",
      " [-0.19320719]\n",
      " [-0.1211075 ]\n",
      " [-0.01559824]\n",
      " [ 0.23989823]\n",
      " [ 0.07318401]\n",
      " [-0.16837566]\n",
      " [-0.05209657]\n",
      " [ 0.22870114]\n",
      " [-0.18872464]\n",
      " [-0.19686389]\n",
      " [ 0.11460494]\n",
      " [-0.23330757]\n",
      " [-0.01986893]\n",
      " [ 0.1174244 ]\n",
      " [ 0.22138083]\n",
      " [-0.11991517]\n",
      " [ 0.06354061]\n",
      " [ 0.29730678]\n",
      " [-0.16935168]\n",
      " [ 0.21313073]\n",
      " [-0.0142311 ]\n",
      " [-0.03890924]\n",
      " [ 0.06024614]\n",
      " [ 0.25658718]\n",
      " [ 0.01815836]\n",
      " [ 0.03346404]\n",
      " [ 0.28247046]\n",
      " [-0.21753602]\n",
      " [ 0.08639273]\n",
      " [ 0.12782322]\n",
      " [ 0.24585232]\n",
      " [ 0.08206285]\n",
      " [ 0.01592619]\n",
      " [ 0.08569503]\n",
      " [ 0.24221039]\n",
      " [-0.10933468]\n",
      " [-0.17360584]\n",
      " [-0.03605544]\n",
      " [ 0.19300108]\n",
      " [ 0.26752412]\n",
      " [-0.18349361]\n",
      " [ 0.12827547]\n",
      " [-0.03745602]\n",
      " [-0.04140574]\n",
      " [-0.02254078]\n",
      " [ 0.05866097]\n",
      " [-0.08030586]\n",
      " [-0.21425983]\n",
      " [ 0.15627277]\n",
      " [ 0.07053553]\n",
      " [-0.01649488]\n",
      " [ 0.20193028]\n",
      " [-0.11198945]\n",
      " [-0.16776696]\n",
      " [ 0.18945584]\n",
      " [ 0.24547283]\n",
      " [ 0.08695802]\n",
      " [ 0.13405813]\n",
      " [ 0.09692544]\n",
      " [ 0.09936377]\n",
      " [ 0.14759   ]\n",
      " [-0.04495886]\n",
      " [ 0.01658407]\n",
      " [-0.1131827 ]\n",
      " [ 0.02037957]\n",
      " [-0.00082666]\n",
      " [-0.1330401 ]\n",
      " [ 0.01027618]\n",
      " [-0.26787096]], Biases: [0.15443233]\n"
     ]
    }
   ],
   "source": [
    "for layer in model_reg.layers:\n",
    "    weights = layer.get_weights()  # دریافت وزن‌ها و بایاس‌ها\n",
    "    if len(weights) > 0:  # بررسی اینکه آیا لایه وزنی دارد\n",
    "        weights, biases = weights  # باز کردن وزن‌ها و بایاس‌ها\n",
    "        print(f\"Weights: {weights}, Biases: {biases}\")\n",
    "    else:\n",
    "        print(f\"Layer {layer.name} has no trainable weights.\")\n"
   ]
  },
  {
   "cell_type": "code",
   "execution_count": 21,
   "id": "2b51d29f-fe75-4513-adc8-9f04f402ef00",
   "metadata": {},
   "outputs": [
    {
     "name": "stdout",
     "output_type": "stream",
     "text": [
      "INFO:tensorflow:Assets written to: model_regresion_p1\\assets\n"
     ]
    },
    {
     "name": "stderr",
     "output_type": "stream",
     "text": [
      "INFO:tensorflow:Assets written to: model_regresion_p1\\assets\n"
     ]
    }
   ],
   "source": [
    "model_reg.save('model_regresion_p1', save_format='tf')"
   ]
  },
  {
   "cell_type": "code",
   "execution_count": 28,
   "id": "28384ce8-43d4-42bc-b69d-0019a38b1760",
   "metadata": {},
   "outputs": [
    {
     "name": "stdout",
     "output_type": "stream",
     "text": [
      "The tensorboard extension is already loaded. To reload it, use:\n",
      "  %reload_ext tensorboard\n"
     ]
    }
   ],
   "source": [
    "%load_ext tensorboard"
   ]
  },
  {
   "cell_type": "code",
   "execution_count": 29,
   "id": "889f69bc-010b-410f-ac2b-c3babb2f8086",
   "metadata": {},
   "outputs": [
    {
     "data": {
      "text/plain": [
       "Reusing TensorBoard on port 6006 (pid 17952), started 0:35:39 ago. (Use '!kill 17952' to kill it.)"
      ]
     },
     "metadata": {},
     "output_type": "display_data"
    },
    {
     "data": {
      "text/html": [
       "\n",
       "      <iframe id=\"tensorboard-frame-824f0047f3dffc44\" width=\"100%\" height=\"800\" frameborder=\"0\">\n",
       "      </iframe>\n",
       "      <script>\n",
       "        (function() {\n",
       "          const frame = document.getElementById(\"tensorboard-frame-824f0047f3dffc44\");\n",
       "          const url = new URL(\"/\", window.location);\n",
       "          const port = 6006;\n",
       "          if (port) {\n",
       "            url.port = port;\n",
       "          }\n",
       "          frame.src = url;\n",
       "        })();\n",
       "      </script>\n",
       "    "
      ],
      "text/plain": [
       "<IPython.core.display.HTML object>"
      ]
     },
     "metadata": {},
     "output_type": "display_data"
    }
   ],
   "source": [
    "tensorboard --logdir logs/fit"
   ]
  },
  {
   "cell_type": "code",
   "execution_count": null,
   "id": "bb929e3e-f9e3-4801-a342-3023a74a9d66",
   "metadata": {},
   "outputs": [],
   "source": []
  }
 ],
 "metadata": {
  "kernelspec": {
   "display_name": "Python 3 (ipykernel)",
   "language": "python",
   "name": "python3"
  },
  "language_info": {
   "codemirror_mode": {
    "name": "ipython",
    "version": 3
   },
   "file_extension": ".py",
   "mimetype": "text/x-python",
   "name": "python",
   "nbconvert_exporter": "python",
   "pygments_lexer": "ipython3",
   "version": "3.8.20"
  }
 },
 "nbformat": 4,
 "nbformat_minor": 5
}
