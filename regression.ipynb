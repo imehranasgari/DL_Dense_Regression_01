{
 "cells": [
  {
   "cell_type": "code",
   "execution_count": 21,
   "id": "1ac98aa6-aee0-47b9-b211-999693ce0e10",
   "metadata": {},
   "outputs": [],
   "source": [
    "import tensorflow as tf\n",
    "from tensorflow import keras\n",
    "from sklearn.datasets import fetch_california_housing\n",
    "from sklearn.model_selection import train_test_split\n",
    "from sklearn.preprocessing import StandardScaler\n",
    "from sklearn.model_selection import GridSearchCV\n",
    "from tensorflow.keras import layers"
   ]
  },
  {
   "cell_type": "code",
   "execution_count": 22,
   "id": "deb36c90-b9fc-452c-b1a0-ca676886025e",
   "metadata": {},
   "outputs": [],
   "source": [
    "import matplotlib.pyplot as plt\n",
    "import numpy as np"
   ]
  },
  {
   "cell_type": "markdown",
   "id": "23d5cbed-ec73-496b-95c4-4820b6dce76e",
   "metadata": {},
   "source": [
    "# regression"
   ]
  },
  {
   "cell_type": "code",
   "execution_count": 23,
   "id": "3d9c4ffc-2968-4ac5-820d-e360258cf296",
   "metadata": {},
   "outputs": [],
   "source": [
    "california_housing=fetch_california_housing()"
   ]
  },
  {
   "cell_type": "markdown",
   "id": "fd366d0d-476d-4393-8c1a-2ac51ad19841",
   "metadata": {},
   "source": [
    "گرفتن خود داده"
   ]
  },
  {
   "cell_type": "code",
   "execution_count": 24,
   "id": "6ce68177-757d-40bd-978b-f19afb18ec8c",
   "metadata": {},
   "outputs": [],
   "source": [
    "X_train0, X_test, y_train0, y_test = train_test_split(\n",
    "                 california_housing[\"data\"],\n",
    "                 california_housing[\"target\"])"
   ]
  },
  {
   "cell_type": "markdown",
   "id": "a612b917-1d8d-4169-8252-2394db09d600",
   "metadata": {},
   "source": [
    "حال نیاز است که یک\n",
    "validation\n",
    "از همون داده خودمون بگیریم"
   ]
  },
  {
   "cell_type": "code",
   "execution_count": 25,
   "id": "5b7b13b3-4da4-48c8-81be-4a84bd5090e3",
   "metadata": {},
   "outputs": [],
   "source": [
    "X_train1, X_validaion, y_train1, y_validaion = train_test_split(\n",
    "                                                                 X_train0,\n",
    "                                                                 y_train0)"
   ]
  },
  {
   "cell_type": "code",
   "execution_count": 26,
   "id": "f27b999f-c248-4cab-aada-c5be6be71057",
   "metadata": {},
   "outputs": [
    {
     "data": {
      "text/plain": [
       "(5160, 8)"
      ]
     },
     "execution_count": 26,
     "metadata": {},
     "output_type": "execute_result"
    }
   ],
   "source": [
    "X_test.shape"
   ]
  },
  {
   "cell_type": "code",
   "execution_count": 27,
   "id": "bcc11904-4e3d-4e7f-8c63-45a9c535b2c5",
   "metadata": {},
   "outputs": [
    {
     "data": {
      "text/plain": [
       "(3870, 8)"
      ]
     },
     "execution_count": 27,
     "metadata": {},
     "output_type": "execute_result"
    }
   ],
   "source": [
    "X_validaion.shape"
   ]
  },
  {
   "cell_type": "code",
   "execution_count": 28,
   "id": "e4f1084b-a105-4e08-bba7-632bccb838bd",
   "metadata": {},
   "outputs": [
    {
     "data": {
      "text/plain": [
       "(15480, 8)"
      ]
     },
     "execution_count": 28,
     "metadata": {},
     "output_type": "execute_result"
    }
   ],
   "source": [
    "X_train0.shape"
   ]
  },
  {
   "cell_type": "code",
   "execution_count": 29,
   "id": "da2c9be6-d81e-4a5b-83da-fa75ce3d1e31",
   "metadata": {},
   "outputs": [
    {
     "data": {
      "text/plain": [
       "(11610, 8)"
      ]
     },
     "execution_count": 29,
     "metadata": {},
     "output_type": "execute_result"
    }
   ],
   "source": [
    "X_train1.shape"
   ]
  },
  {
   "cell_type": "code",
   "execution_count": 30,
   "id": "e6ec9cd7-3db1-49e2-be33-2870f4579c17",
   "metadata": {},
   "outputs": [],
   "source": [
    "sc=StandardScaler()\n",
    "X_train_s = sc.fit_transform(X_train1)\n",
    "#ما چون از داده جدید مثلا هیچی نمیدونیم و توی غالب داده های قبلی باید ببریم مثلا پس دیگ (فیت) نمی کنیم در واقع فقط بر اساس داده هایی که قبلا توی ترین داشتیم ضرب میکنه که فقط ترنسفورم روی نورمالایز یا استاندارد سازی که قبلا داشتیم می کنیم\n",
    "X_validaion_s= sc.transform(X_validaion)\n",
    "X_test_s= sc.transform(X_test)"
   ]
  },
  {
   "cell_type": "code",
   "execution_count": 31,
   "id": "5148b2f7-0618-47fe-bb76-1c4025ea2ae6",
   "metadata": {},
   "outputs": [],
   "source": [
    "model = keras.models.Sequential([\n",
    "    layers.Dense(75, activation='relu', kernel_initializer='he_normal'),\n",
    "    layers.BatchNormalization(),\n",
    "    layers.Dropout(0.3),\n",
    "    \n",
    "    layers.Dense(50, activation='relu', kernel_initializer='he_normal'),\n",
    "    layers.BatchNormalization(),\n",
    "    layers.Dropout(0.3),\n",
    "    \n",
    "    layers.Dense(30, activation='relu', kernel_initializer='he_normal'),\n",
    "    layers.BatchNormalization(),\n",
    "    \n",
    "    layers.Dense(1, activation='linear')  # خروجی برای رگرسیون\n",
    "])"
   ]
  },
  {
   "cell_type": "code",
   "execution_count": 32,
   "id": "8744d1fd-88dd-41af-a094-c289888b2bb7",
   "metadata": {},
   "outputs": [],
   "source": [
    "model.compile(\n",
    "    optimizer=keras.optimizers.Adam(learning_rate=0.001),\n",
    "    loss='mse',\n",
    "    metrics=['mae']\n",
    ")"
   ]
  },
  {
   "cell_type": "code",
   "execution_count": 20,
   "id": "e1bccf66-0b58-423a-bc19-f9f6da364ade",
   "metadata": {},
   "outputs": [
    {
     "name": "stdout",
     "output_type": "stream",
     "text": [
      "Epoch 1/30\n",
      "363/363 [==============================] - 3s 5ms/step - loss: 2.2364 - mae: 1.1367 - val_loss: 0.6114 - val_mae: 0.5866\n",
      "Epoch 2/30\n",
      "363/363 [==============================] - 2s 4ms/step - loss: 0.7714 - mae: 0.6662 - val_loss: 0.5330 - val_mae: 0.5415\n",
      "Epoch 3/30\n",
      "363/363 [==============================] - 2s 5ms/step - loss: 0.6467 - mae: 0.6023 - val_loss: 0.4907 - val_mae: 0.5261\n",
      "Epoch 4/30\n",
      "363/363 [==============================] - 2s 5ms/step - loss: 0.5932 - mae: 0.5740 - val_loss: 0.4691 - val_mae: 0.5058\n",
      "Epoch 5/30\n",
      "363/363 [==============================] - 2s 5ms/step - loss: 0.5570 - mae: 0.5552 - val_loss: 0.4552 - val_mae: 0.4886\n",
      "Epoch 6/30\n",
      "363/363 [==============================] - 2s 5ms/step - loss: 0.5387 - mae: 0.5436 - val_loss: 0.4268 - val_mae: 0.4772\n",
      "Epoch 7/30\n",
      "363/363 [==============================] - 3s 8ms/step - loss: 0.5109 - mae: 0.5285 - val_loss: 0.4126 - val_mae: 0.4686\n",
      "Epoch 8/30\n",
      "363/363 [==============================] - 2s 7ms/step - loss: 0.5000 - mae: 0.5214 - val_loss: 0.4086 - val_mae: 0.4618\n",
      "Epoch 9/30\n",
      "363/363 [==============================] - 3s 7ms/step - loss: 0.4788 - mae: 0.5093 - val_loss: 0.4023 - val_mae: 0.4584\n",
      "Epoch 10/30\n",
      "363/363 [==============================] - 2s 6ms/step - loss: 0.4586 - mae: 0.4998 - val_loss: 0.4134 - val_mae: 0.4650\n",
      "Epoch 11/30\n",
      "363/363 [==============================] - 3s 8ms/step - loss: 0.4535 - mae: 0.4951 - val_loss: 0.4051 - val_mae: 0.4688\n",
      "Epoch 12/30\n",
      "363/363 [==============================] - 2s 7ms/step - loss: 0.4504 - mae: 0.4899 - val_loss: 0.3844 - val_mae: 0.4476\n",
      "Epoch 13/30\n",
      "363/363 [==============================] - 2s 7ms/step - loss: 0.4398 - mae: 0.4856 - val_loss: 0.3758 - val_mae: 0.4375\n",
      "Epoch 14/30\n",
      "363/363 [==============================] - 2s 6ms/step - loss: 0.4318 - mae: 0.4772 - val_loss: 0.3733 - val_mae: 0.4346\n",
      "Epoch 15/30\n",
      "363/363 [==============================] - 2s 7ms/step - loss: 0.4313 - mae: 0.4811 - val_loss: 0.3655 - val_mae: 0.4340\n",
      "Epoch 16/30\n",
      "363/363 [==============================] - 2s 7ms/step - loss: 0.4192 - mae: 0.4717 - val_loss: 0.3618 - val_mae: 0.4254\n",
      "Epoch 17/30\n",
      "363/363 [==============================] - 3s 8ms/step - loss: 0.4145 - mae: 0.4700 - val_loss: 0.3568 - val_mae: 0.4233\n",
      "Epoch 18/30\n",
      "363/363 [==============================] - 3s 9ms/step - loss: 0.4109 - mae: 0.4670 - val_loss: 0.3740 - val_mae: 0.4355\n",
      "Epoch 19/30\n",
      "363/363 [==============================] - 3s 9ms/step - loss: 0.3995 - mae: 0.4592 - val_loss: 0.3602 - val_mae: 0.4228\n",
      "Epoch 20/30\n",
      "363/363 [==============================] - 2s 7ms/step - loss: 0.4041 - mae: 0.4627 - val_loss: 0.3490 - val_mae: 0.4132\n",
      "Epoch 21/30\n",
      "363/363 [==============================] - 2s 7ms/step - loss: 0.3985 - mae: 0.4591 - val_loss: 0.3622 - val_mae: 0.4407\n",
      "Epoch 22/30\n",
      "363/363 [==============================] - 3s 8ms/step - loss: 0.3997 - mae: 0.4618 - val_loss: 0.3595 - val_mae: 0.4215\n",
      "Epoch 23/30\n",
      "363/363 [==============================] - 3s 8ms/step - loss: 0.3969 - mae: 0.4585 - val_loss: 0.3590 - val_mae: 0.4319\n",
      "Epoch 24/30\n",
      "363/363 [==============================] - 3s 7ms/step - loss: 0.4055 - mae: 0.4644 - val_loss: 0.3595 - val_mae: 0.4343\n",
      "Epoch 25/30\n",
      "363/363 [==============================] - 3s 7ms/step - loss: 0.3943 - mae: 0.4553 - val_loss: 0.3509 - val_mae: 0.4245\n",
      "Epoch 26/30\n",
      "363/363 [==============================] - 3s 7ms/step - loss: 0.3955 - mae: 0.4576 - val_loss: 0.3553 - val_mae: 0.4288\n",
      "Epoch 27/30\n",
      "363/363 [==============================] - 3s 9ms/step - loss: 0.3918 - mae: 0.4563 - val_loss: 0.3548 - val_mae: 0.4253\n",
      "Epoch 28/30\n",
      "363/363 [==============================] - 3s 8ms/step - loss: 0.3845 - mae: 0.4511 - val_loss: 0.3720 - val_mae: 0.4363\n",
      "Epoch 29/30\n",
      "363/363 [==============================] - 3s 8ms/step - loss: 0.3850 - mae: 0.4524 - val_loss: 0.3394 - val_mae: 0.4136\n",
      "Epoch 30/30\n",
      "363/363 [==============================] - 3s 7ms/step - loss: 0.3858 - mae: 0.4471 - val_loss: 0.3463 - val_mae: 0.4271\n"
     ]
    }
   ],
   "source": [
    "history=model.fit(\n",
    "    x=X_train_s,\n",
    "    y=y_train1,\n",
    "    epochs=30,\n",
    "    validation_data=(X_validaion_s,y_validaion)\n",
    ")"
   ]
  },
  {
   "cell_type": "markdown",
   "id": "db84bc5d-f77c-49b1-bc7e-74ca24af75fb",
   "metadata": {},
   "source": [
    "## functional api"
   ]
  },
  {
   "cell_type": "code",
   "execution_count": 33,
   "id": "8baa918f-0fb9-4c21-a26e-452df45f5823",
   "metadata": {},
   "outputs": [
    {
     "data": {
      "text/plain": [
       "(8,)"
      ]
     },
     "execution_count": 33,
     "metadata": {},
     "output_type": "execute_result"
    }
   ],
   "source": [
    "# از یک به بعد همه رو حساب کنه که تاپلی باشه\n",
    "X_train1.shape[1:]"
   ]
  },
  {
   "cell_type": "markdown",
   "id": "93f08567-d549-4b11-988d-ea6fd85ae5c5",
   "metadata": {},
   "source": [
    "فرم کلی اینکه همی داده هارو بدیم"
   ]
  },
  {
   "cell_type": "code",
   "execution_count": 34,
   "id": "ed9b82a6-8f2b-47fb-bc9f-81521ebd17d6",
   "metadata": {},
   "outputs": [],
   "source": [
    "# Just for demonstration purposes.\n",
    "input_ = keras.layers.Input(shape=X_train1.shape[1:])\n",
    "hidden_layer1=keras.layers.Dense(50, activation=\"relu\")(input_)\n",
    "hidden_layer2=keras.layers.Dense(10, activation=\"relu\")(hidden_layer1)\n",
    "concatenate_layer=keras.layers.Concatenate()([input_, hidden_layer2])\n",
    "output_=keras.layers.Dense(1)(concatenate_layer)\n",
    "\n",
    "\n",
    "model_conc = keras.Model(inputs=[input_],\n",
    "                    outputs=[output_],\n",
    "                    name=\"history_concat\")"
   ]
  },
  {
   "cell_type": "markdown",
   "id": "db4908cf-b11e-4bdb-bba2-ea3234d06fba",
   "metadata": {},
   "source": [
    "مشخص میکنیم چه داده هایی باید برن توی اینپوت 1 و چقدر برن توی اینپوت 2 "
   ]
  },
  {
   "cell_type": "code",
   "execution_count": 35,
   "id": "79fe32b7-f351-4343-94bc-35c26badcd93",
   "metadata": {},
   "outputs": [],
   "source": [
    "X_train_s_1 , X_train_s_2 = X_train_s [:,:6] , X_train_s [:,-4:]\n",
    "X_validaion_s_1 , X_validaion_s_2 = X_validaion_s [:,:6] , X_validaion_s [:,-4:]\n",
    "\n",
    "X_test_s_1 , X_test_s_2 = X_test_s [:,:6] , X_test_s [:,-4:]"
   ]
  },
  {
   "cell_type": "markdown",
   "id": "689045a7-b713-4ca2-b354-ae368d886179",
   "metadata": {},
   "source": [
    "فرمتی که می خوایم مثلا 6 تا ستون از یک داده بره توی دیپ و 4 تاش (که اور لپ هم دارن باهم دیگه) بره تو لایه کان کتینت و در لایه آخر مرج شن"
   ]
  },
  {
   "cell_type": "code",
   "execution_count": 36,
   "id": "26bbd90f-6919-46c7-b0a2-cc246f2e2426",
   "metadata": {},
   "outputs": [],
   "source": [
    "# Just for demonstration purposes.\n",
    "input_1 = keras.layers.Input(shape=[6])\n",
    "input_2 = keras.layers.Input(shape=[4])\n",
    "\n",
    "\n",
    "hidden_layer1=keras.layers.Dense(50, activation=\"relu\")(input_1)\n",
    "hidden_layer2=keras.layers.Dense(10, activation=\"relu\")(hidden_layer1)\n",
    "\n",
    "concatenate_layer=keras.layers.Concatenate()([input_2, hidden_layer2])\n",
    "\n",
    "output_=keras.layers.Dense(1, name='output')(concatenate_layer)\n",
    "\n",
    "helper_output_=keras.layers.Dense(1, name='helper_output')(hidden_layer2)\n",
    "\n",
    " # به نحوه ترتیب اینپوت ها نگاه کن که کدومو میبری توی شبکه و کدوم لایه را اسکیپ میکنه تا لایه کاکنت\n",
    "model_conc = keras.Model(inputs=[input_1,input_2],\n",
    "                    outputs=[output_,helper_output_],\n",
    "                    name=\"history_concat\")"
   ]
  },
  {
   "cell_type": "code",
   "execution_count": 37,
   "id": "381b0de6-a08e-45fa-9abd-a5955206f5ae",
   "metadata": {},
   "outputs": [],
   "source": [
    "model_conc.compile(\n",
    "    optimizer=\"sgd\",\n",
    "    loss=['mean_squared_error','MAE'],\n",
    "    # مشحص کنیم هر کدام از خروجی ها برای ما چه وزنی یا ارزشی دارند\n",
    "    loss_weights=[0.8,0.2] ,\n",
    "    metrics=['mean_absolute_error'],\n",
    ")"
   ]
  },
  {
   "cell_type": "code",
   "execution_count": 38,
   "id": "75095da0-fc41-434b-a57e-5142fe8be276",
   "metadata": {},
   "outputs": [
    {
     "name": "stdout",
     "output_type": "stream",
     "text": [
      "Epoch 1/30\n",
      "363/363 [==============================] - 3s 7ms/step - loss: 0.9650 - output_loss: 0.9964 - helper_output_loss: 0.8394 - output_mean_absolute_error: 0.6801 - helper_output_mean_absolute_error: 0.8394 - val_loss: 2.1403 - val_output_loss: 2.4996 - val_helper_output_loss: 0.7033 - val_output_mean_absolute_error: 0.5750 - val_helper_output_mean_absolute_error: 0.7033\n",
      "Epoch 2/30\n",
      "363/363 [==============================] - 2s 7ms/step - loss: 8.5372 - output_loss: 10.5259 - helper_output_loss: 0.5822 - output_mean_absolute_error: 0.6694 - helper_output_mean_absolute_error: 0.5822 - val_loss: 1.5549 - val_output_loss: 1.8004 - val_helper_output_loss: 0.5726 - val_output_mean_absolute_error: 0.5620 - val_helper_output_mean_absolute_error: 0.5726\n",
      "Epoch 3/30\n",
      "363/363 [==============================] - 2s 6ms/step - loss: 0.7804 - output_loss: 0.8375 - helper_output_loss: 0.5518 - output_mean_absolute_error: 0.5343 - helper_output_mean_absolute_error: 0.5518 - val_loss: 1.2015 - val_output_loss: 1.3646 - val_helper_output_loss: 0.5489 - val_output_mean_absolute_error: 0.5037 - val_helper_output_mean_absolute_error: 0.5489\n",
      "Epoch 4/30\n",
      "363/363 [==============================] - 2s 6ms/step - loss: 3.3777 - output_loss: 4.0881 - helper_output_loss: 0.5360 - output_mean_absolute_error: 0.5772 - helper_output_mean_absolute_error: 0.5360 - val_loss: 0.8188 - val_output_loss: 0.8881 - val_helper_output_loss: 0.5416 - val_output_mean_absolute_error: 0.5037 - val_helper_output_mean_absolute_error: 0.5416\n",
      "Epoch 5/30\n",
      "363/363 [==============================] - 2s 6ms/step - loss: 2.0681 - output_loss: 2.4511 - helper_output_loss: 0.5360 - output_mean_absolute_error: 0.5015 - helper_output_mean_absolute_error: 0.5360 - val_loss: 0.5544 - val_output_loss: 0.5617 - val_helper_output_loss: 0.5252 - val_output_mean_absolute_error: 0.4748 - val_helper_output_mean_absolute_error: 0.5252\n",
      "Epoch 6/30\n",
      "363/363 [==============================] - 2s 6ms/step - loss: 0.4667 - output_loss: 0.4526 - helper_output_loss: 0.5231 - output_mean_absolute_error: 0.4679 - helper_output_mean_absolute_error: 0.5231 - val_loss: 0.4484 - val_output_loss: 0.4306 - val_helper_output_loss: 0.5197 - val_output_mean_absolute_error: 0.4763 - val_helper_output_mean_absolute_error: 0.5197\n",
      "Epoch 7/30\n",
      "363/363 [==============================] - 2s 6ms/step - loss: 0.4383 - output_loss: 0.4178 - helper_output_loss: 0.5201 - output_mean_absolute_error: 0.4618 - helper_output_mean_absolute_error: 0.5201 - val_loss: 0.4595 - val_output_loss: 0.4453 - val_helper_output_loss: 0.5164 - val_output_mean_absolute_error: 0.4710 - val_helper_output_mean_absolute_error: 0.5164\n",
      "Epoch 8/30\n",
      "363/363 [==============================] - 2s 6ms/step - loss: 0.4707 - output_loss: 0.4589 - helper_output_loss: 0.5181 - output_mean_absolute_error: 0.4594 - helper_output_mean_absolute_error: 0.5181 - val_loss: 0.4371 - val_output_loss: 0.4176 - val_helper_output_loss: 0.5148 - val_output_mean_absolute_error: 0.4583 - val_helper_output_mean_absolute_error: 0.5148\n",
      "Epoch 9/30\n",
      "363/363 [==============================] - 3s 7ms/step - loss: 0.4285 - output_loss: 0.4065 - helper_output_loss: 0.5165 - output_mean_absolute_error: 0.4551 - helper_output_mean_absolute_error: 0.5165 - val_loss: 0.4745 - val_output_loss: 0.4655 - val_helper_output_loss: 0.5106 - val_output_mean_absolute_error: 0.4582 - val_helper_output_mean_absolute_error: 0.5106\n",
      "Epoch 10/30\n",
      "363/363 [==============================] - 2s 7ms/step - loss: 0.5363 - output_loss: 0.5421 - helper_output_loss: 0.5131 - output_mean_absolute_error: 0.4576 - helper_output_mean_absolute_error: 0.5131 - val_loss: 0.4420 - val_output_loss: 0.4244 - val_helper_output_loss: 0.5125 - val_output_mean_absolute_error: 0.4624 - val_helper_output_mean_absolute_error: 0.5125\n",
      "Epoch 11/30\n",
      "363/363 [==============================] - 2s 6ms/step - loss: 0.5317 - output_loss: 0.5365 - helper_output_loss: 0.5128 - output_mean_absolute_error: 0.4544 - helper_output_mean_absolute_error: 0.5128 - val_loss: 0.4241 - val_output_loss: 0.4036 - val_helper_output_loss: 0.5061 - val_output_mean_absolute_error: 0.4475 - val_helper_output_mean_absolute_error: 0.5061\n",
      "Epoch 12/30\n",
      "363/363 [==============================] - 2s 7ms/step - loss: 0.4201 - output_loss: 0.3979 - helper_output_loss: 0.5091 - output_mean_absolute_error: 0.4476 - helper_output_mean_absolute_error: 0.5091 - val_loss: 0.4127 - val_output_loss: 0.3894 - val_helper_output_loss: 0.5059 - val_output_mean_absolute_error: 0.4497 - val_helper_output_mean_absolute_error: 0.5059\n",
      "Epoch 13/30\n",
      "363/363 [==============================] - 2s 6ms/step - loss: 0.4107 - output_loss: 0.3865 - helper_output_loss: 0.5075 - output_mean_absolute_error: 0.4453 - helper_output_mean_absolute_error: 0.5075 - val_loss: 0.4509 - val_output_loss: 0.4371 - val_helper_output_loss: 0.5062 - val_output_mean_absolute_error: 0.4455 - val_helper_output_mean_absolute_error: 0.5062\n",
      "Epoch 14/30\n",
      "363/363 [==============================] - 3s 7ms/step - loss: 0.5525 - output_loss: 0.5642 - helper_output_loss: 0.5055 - output_mean_absolute_error: 0.4495 - helper_output_mean_absolute_error: 0.5055 - val_loss: 0.4241 - val_output_loss: 0.4046 - val_helper_output_loss: 0.5024 - val_output_mean_absolute_error: 0.4451 - val_helper_output_mean_absolute_error: 0.5024\n",
      "Epoch 15/30\n",
      "363/363 [==============================] - 2s 6ms/step - loss: 0.4115 - output_loss: 0.3884 - helper_output_loss: 0.5038 - output_mean_absolute_error: 0.4428 - helper_output_mean_absolute_error: 0.5038 - val_loss: 0.4897 - val_output_loss: 0.4861 - val_helper_output_loss: 0.5041 - val_output_mean_absolute_error: 0.4664 - val_helper_output_mean_absolute_error: 0.5041\n",
      "Epoch 16/30\n",
      "363/363 [==============================] - 2s 6ms/step - loss: 0.4184 - output_loss: 0.3976 - helper_output_loss: 0.5016 - output_mean_absolute_error: 0.4420 - helper_output_mean_absolute_error: 0.5016 - val_loss: 0.3973 - val_output_loss: 0.3710 - val_helper_output_loss: 0.5026 - val_output_mean_absolute_error: 0.4386 - val_helper_output_mean_absolute_error: 0.5026\n",
      "Epoch 17/30\n",
      "363/363 [==============================] - 2s 6ms/step - loss: 0.3994 - output_loss: 0.3737 - helper_output_loss: 0.5019 - output_mean_absolute_error: 0.4389 - helper_output_mean_absolute_error: 0.5019 - val_loss: 0.4202 - val_output_loss: 0.4006 - val_helper_output_loss: 0.4988 - val_output_mean_absolute_error: 0.4339 - val_helper_output_mean_absolute_error: 0.4988\n",
      "Epoch 18/30\n",
      "363/363 [==============================] - 2s 6ms/step - loss: 0.4408 - output_loss: 0.4257 - helper_output_loss: 0.5011 - output_mean_absolute_error: 0.4424 - helper_output_mean_absolute_error: 0.5011 - val_loss: 0.6440 - val_output_loss: 0.6800 - val_helper_output_loss: 0.5002 - val_output_mean_absolute_error: 0.4448 - val_helper_output_mean_absolute_error: 0.5002\n",
      "Epoch 19/30\n",
      "363/363 [==============================] - 2s 6ms/step - loss: 0.4706 - output_loss: 0.4636 - helper_output_loss: 0.4984 - output_mean_absolute_error: 0.4402 - helper_output_mean_absolute_error: 0.4984 - val_loss: 0.6578 - val_output_loss: 0.6975 - val_helper_output_loss: 0.4986 - val_output_mean_absolute_error: 0.4445 - val_helper_output_mean_absolute_error: 0.4986\n",
      "Epoch 20/30\n",
      "363/363 [==============================] - 2s 6ms/step - loss: 1.1036 - output_loss: 1.2548 - helper_output_loss: 0.4989 - output_mean_absolute_error: 0.4578 - helper_output_mean_absolute_error: 0.4989 - val_loss: 0.5136 - val_output_loss: 0.5166 - val_helper_output_loss: 0.5016 - val_output_mean_absolute_error: 0.4638 - val_helper_output_mean_absolute_error: 0.5016\n",
      "Epoch 21/30\n",
      "363/363 [==============================] - 2s 5ms/step - loss: 0.9154 - output_loss: 1.0179 - helper_output_loss: 0.5051 - output_mean_absolute_error: 0.4588 - helper_output_mean_absolute_error: 0.5051 - val_loss: 0.4360 - val_output_loss: 0.4204 - val_helper_output_loss: 0.4986 - val_output_mean_absolute_error: 0.4329 - val_helper_output_mean_absolute_error: 0.4986\n",
      "Epoch 22/30\n",
      "363/363 [==============================] - 2s 6ms/step - loss: 0.4840 - output_loss: 0.4806 - helper_output_loss: 0.4974 - output_mean_absolute_error: 0.4391 - helper_output_mean_absolute_error: 0.4974 - val_loss: 0.4167 - val_output_loss: 0.3962 - val_helper_output_loss: 0.4986 - val_output_mean_absolute_error: 0.4535 - val_helper_output_mean_absolute_error: 0.4986\n",
      "Epoch 23/30\n",
      "363/363 [==============================] - 2s 6ms/step - loss: 0.3998 - output_loss: 0.3764 - helper_output_loss: 0.4935 - output_mean_absolute_error: 0.4342 - helper_output_mean_absolute_error: 0.4935 - val_loss: 0.4243 - val_output_loss: 0.4067 - val_helper_output_loss: 0.4947 - val_output_mean_absolute_error: 0.4308 - val_helper_output_mean_absolute_error: 0.4947\n",
      "Epoch 24/30\n",
      "363/363 [==============================] - 2s 5ms/step - loss: 0.5137 - output_loss: 0.5183 - helper_output_loss: 0.4951 - output_mean_absolute_error: 0.4366 - helper_output_mean_absolute_error: 0.4951 - val_loss: 0.4071 - val_output_loss: 0.3862 - val_helper_output_loss: 0.4908 - val_output_mean_absolute_error: 0.4327 - val_helper_output_mean_absolute_error: 0.4908\n",
      "Epoch 25/30\n",
      "363/363 [==============================] - 2s 6ms/step - loss: 0.4006 - output_loss: 0.3773 - helper_output_loss: 0.4937 - output_mean_absolute_error: 0.4341 - helper_output_mean_absolute_error: 0.4937 - val_loss: 0.4384 - val_output_loss: 0.4235 - val_helper_output_loss: 0.4978 - val_output_mean_absolute_error: 0.4615 - val_helper_output_mean_absolute_error: 0.4978\n",
      "Epoch 26/30\n",
      "363/363 [==============================] - 2s 5ms/step - loss: 0.4872 - output_loss: 0.4858 - helper_output_loss: 0.4930 - output_mean_absolute_error: 0.4361 - helper_output_mean_absolute_error: 0.4930 - val_loss: 0.4024 - val_output_loss: 0.3797 - val_helper_output_loss: 0.4929 - val_output_mean_absolute_error: 0.4384 - val_helper_output_mean_absolute_error: 0.4929\n",
      "Epoch 27/30\n",
      "363/363 [==============================] - 2s 6ms/step - loss: 0.3923 - output_loss: 0.3674 - helper_output_loss: 0.4921 - output_mean_absolute_error: 0.4309 - helper_output_mean_absolute_error: 0.4921 - val_loss: 0.4572 - val_output_loss: 0.4485 - val_helper_output_loss: 0.4919 - val_output_mean_absolute_error: 0.4435 - val_helper_output_mean_absolute_error: 0.4919\n",
      "Epoch 28/30\n",
      "363/363 [==============================] - 2s 6ms/step - loss: 0.6208 - output_loss: 0.6532 - helper_output_loss: 0.4912 - output_mean_absolute_error: 0.4395 - helper_output_mean_absolute_error: 0.4912 - val_loss: 0.4294 - val_output_loss: 0.4116 - val_helper_output_loss: 0.5009 - val_output_mean_absolute_error: 0.4524 - val_helper_output_mean_absolute_error: 0.5009\n",
      "Epoch 29/30\n",
      "363/363 [==============================] - 2s 6ms/step - loss: 0.4042 - output_loss: 0.3822 - helper_output_loss: 0.4924 - output_mean_absolute_error: 0.4326 - helper_output_mean_absolute_error: 0.4924 - val_loss: 0.4310 - val_output_loss: 0.4158 - val_helper_output_loss: 0.4920 - val_output_mean_absolute_error: 0.4371 - val_helper_output_mean_absolute_error: 0.4920\n",
      "Epoch 30/30\n",
      "363/363 [==============================] - 2s 6ms/step - loss: 0.5575 - output_loss: 0.5743 - helper_output_loss: 0.4903 - output_mean_absolute_error: 0.4365 - helper_output_mean_absolute_error: 0.4903 - val_loss: 0.4130 - val_output_loss: 0.3924 - val_helper_output_loss: 0.4956 - val_output_mean_absolute_error: 0.4307 - val_helper_output_mean_absolute_error: 0.4956\n"
     ]
    }
   ],
   "source": [
    "history_conc=model_conc.fit(\n",
    "    x=(X_train_s_1 , X_train_s_2 ),\n",
    "    #چون ما دوتا خروجی داریم پس دوتا وای هم داریم \n",
    "    y=(y_train1,y_train1),\n",
    "    epochs=30,\n",
    "    validation_data=  ((X_validaion_s_1 , X_validaion_s_2) ,\n",
    "                      (y_validaion,y_validaion))\n",
    "    )"
   ]
  },
  {
   "cell_type": "markdown",
   "id": "da0d85dc-26bd-4d5b-aa9e-cb45965c9c65",
   "metadata": {},
   "source": [
    "# subclass api"
   ]
  },
  {
   "cell_type": "code",
   "execution_count": 39,
   "id": "a7d0af00-1cb6-43eb-9db6-835fd466dda1",
   "metadata": {},
   "outputs": [],
   "source": [
    "# تعریف کلاس مدل که از keras.Model ارث بری می‌کند\n",
    "class Wide_deep_end_ann(keras.Model):\n",
    "    # اینجا ما میتونیم چیزای زیادی را برای اینیشیلایز کردن بهش بدیم\n",
    "    # مثلا هرچی که می خواید موقع اینیشیلایز کردن مدل به عنوان ورودی بهش بدید\n",
    "    # مثلا میتونید تعداد نورون هارو بدید بهش یا مثلا میتونید اکتیویژن هارو بهش بدید\n",
    "    # وقتی توی پایتون دوتا ستاره و کیورد آرگیومنت را می نویسیم\n",
    "    # می تواند به تعداد دلخواه کیورد آرگیومنت بگیره\n",
    "    # حالا ما اینو مینویسیم که به سوپر بدیمش\n",
    "\n",
    "    # متد سازنده‌ی کلاس که امکان تعریف پارامترهای دلخواه برای مدل را فراهم می‌کند\n",
    "    def __init__(self, activation=\"relu\", **kwargs):\n",
    "        \"\"\"\n",
    "        ورودی‌های متد:\n",
    "        activation: تابع فعال‌سازی که برای لایه‌ها استفاده می‌شود (پیش‌فرض 'relu')\n",
    "        **kwargs: سایر پارامترهای اختیاری که می‌توان به کلاس پایه keras.Model پاس داد\n",
    "        \"\"\"\n",
    "        # مقداردهی اولیه‌ی کلاس پایه با استفاده از پارامترهای داده شده\n",
    "        # ما این پایینی رو مینویسیم که هرچی توی کراس مادلز هست را بیاریمش\n",
    "        # به عنوان ورودی کیورد آرگیومنت را میدهیم\n",
    "        super().__init__(**kwargs)\n",
    "        \n",
    "        # تعریف لایه‌ی Dense با 50 نورون و تابع فعال‌سازی مشخص شده\n",
    "        self.hidden_layer1 = keras.layers.Dense(50, activation=activation)\n",
    "        \n",
    "        # تعریف لایه‌ی Dense دوم با 10 نورون و تابع فعال‌سازی مشخص شده\n",
    "        self.hidden_layer2 = keras.layers.Dense(10, activation=activation)\n",
    "\n",
    "        # تعریف لایه‌ی خروجی نهایی با یک نورون (برای پیش‌بینی اصلی)\n",
    "        self.final_output = keras.layers.Dense(1)\n",
    "\n",
    "        # تعریف لایه‌ی کمکی خروجی با یک نورون (برای پیش‌بینی کمکی)\n",
    "        self.helper_output = keras.layers.Dense(1)\n",
    "\n",
    "    # کار مدل تازه اینجا شروع میشه\n",
    "    # اینجا درواقع کار گرفتن اینپوت از مخاطب رو میکنه\n",
    "    # ما در بالا مدل را ساختیم با ویژگی های دلخواهمون\n",
    "    # و در پایین می خواهیم تازه دیتا خودمون رو بدهیم\n",
    "    # در واقع این با خط مدل_کانکت که در بالا تر نوشته بودیم یکی است\n",
    "\n",
    "    # متدی که رفتار مدل را هنگام دریافت ورودی‌ها تعریف می‌کند\n",
    "    def call(self, inputs___):\n",
    "        \"\"\"\n",
    "        ورودی‌های متد:\n",
    "        inputs: لیستی شامل دو ورودی جداگانه (input_1 و input_2)\n",
    "        خروجی:\n",
    "        final_out: خروجی نهایی مدل\n",
    "        helper_out: خروجی کمکی مدل\n",
    "        \"\"\"\n",
    "        # دریافت ورودی‌ها و تخصیص به دو متغیر جداگانه\n",
    "        input_1, input_2 = inputs___\n",
    "\n",
    "        # عبور اولین ورودی از لایه‌ی hidden_layer1\n",
    "        h1_out = self.hidden_layer1(input_1)\n",
    "\n",
    "        # عبور خروجی قبلی از لایه‌ی hidden_layer2\n",
    "        h2_out = self.hidden_layer2(h1_out)\n",
    "\n",
    "        # ادغام خروجی دومین لایه مخفی با ورودی دوم\n",
    "        con_out = keras.layers.concatenate([h2_out, input_2])\n",
    "\n",
    "        # تولید خروجی نهایی مدل با استفاده از لایه final_output\n",
    "        final_out = self.final_output(con_out)\n",
    "\n",
    "        # تولید خروجی کمکی مدل با استفاده از لایه helper_output\n",
    "        helper_out = self.helper_output(h2_out)\n",
    "\n",
    "        # بازگرداندن خروجی‌های مدل (خروجی نهایی و کمکی)\n",
    "        return final_out, helper_out\n"
   ]
  },
  {
   "cell_type": "markdown",
   "id": "c8617011-3544-4a33-95ff-a64ae67de1be",
   "metadata": {},
   "source": [
    "فقط از کد پایین که همون کد سابقمون است نگاه کن که بیشتر متوجه بشی که چکار کردیم"
   ]
  },
  {
   "cell_type": "code",
   "execution_count": 40,
   "id": "a03fd746-6d27-40ea-835a-4cc1303ca9a0",
   "metadata": {},
   "outputs": [],
   "source": [
    "# Just for demonstration purposes.\n",
    "input_1 = keras.layers.Input(shape=[6])\n",
    "input_2 = keras.layers.Input(shape=[4])\n",
    "\n",
    "\n",
    "hidden_layer1=keras.layers.Dense(50, activation=\"relu\")(input_1)\n",
    "hidden_layer2=keras.layers.Dense(10, activation=\"relu\")(hidden_layer1)\n",
    "\n",
    "concatenate_layer=keras.layers.Concatenate()([input_2, hidden_layer2])\n",
    "\n",
    "output_=keras.layers.Dense(1, name='output')(concatenate_layer)\n",
    "\n",
    "helper_output_=keras.layers.Dense(1, name='helper_output')(hidden_layer2)\n",
    "\n",
    " # به نحوه ترتیب اینپوت ها نگاه کن که کدومو میبری توی شبکه و کدوم لایه را اسکیپ میکنه تا لایه کاکنت\n",
    "model_conc = keras.Model(inputs=[input_1,input_2],\n",
    "                    outputs=[output_,helper_output_],\n",
    "                    name=\"history_concat\")"
   ]
  },
  {
   "cell_type": "code",
   "execution_count": 41,
   "id": "5a2509af-a3c3-4823-bd74-121cf9d954d5",
   "metadata": {},
   "outputs": [],
   "source": [
    "model_sub=Wide_deep_end_ann()"
   ]
  },
  {
   "cell_type": "code",
   "execution_count": 42,
   "id": "d1015949-ece7-4f89-bc77-f0f42f9f6cf6",
   "metadata": {},
   "outputs": [],
   "source": [
    "model_sub.compile(\n",
    "    optimizer=\"sgd\",\n",
    "    loss=['mean_squared_error','MAE'],\n",
    "    # مشحص کنیم هر کدام از خروجی ها برای ما چه وزنی یا ارزشی دارند\n",
    "    loss_weights=[0.8,0.2] ,\n",
    "    metrics=['mean_absolute_error'],\n",
    ")"
   ]
  },
  {
   "cell_type": "code",
   "execution_count": 43,
   "id": "70f0c776-196f-4cfd-8c0b-ad68db2fcbaf",
   "metadata": {},
   "outputs": [
    {
     "name": "stdout",
     "output_type": "stream",
     "text": [
      "Epoch 1/30\n",
      "363/363 [==============================] - 4s 8ms/step - loss: 1.0833 - output_1_loss: 1.0958 - output_2_loss: 1.0333 - output_1_mean_absolute_error: 0.7478 - output_2_mean_absolute_error: 1.0333 - val_loss: 0.8395 - val_output_1_loss: 0.8999 - val_output_2_loss: 0.5981 - val_output_1_mean_absolute_error: 0.5756 - val_output_2_mean_absolute_error: 0.5981\n",
      "Epoch 2/30\n",
      "363/363 [==============================] - 5s 14ms/step - loss: 0.6345 - output_1_loss: 0.6490 - output_2_loss: 0.5767 - output_1_mean_absolute_error: 0.5524 - output_2_mean_absolute_error: 0.5767 - val_loss: 0.5454 - val_output_1_loss: 0.5439 - val_output_2_loss: 0.5517 - val_output_1_mean_absolute_error: 0.5361 - val_output_2_mean_absolute_error: 0.5517\n",
      "Epoch 3/30\n",
      "363/363 [==============================] - 6s 15ms/step - loss: 0.5403 - output_1_loss: 0.5388 - output_2_loss: 0.5465 - output_1_mean_absolute_error: 0.5202 - output_2_mean_absolute_error: 0.5465 - val_loss: 0.5199 - val_output_1_loss: 0.5164 - val_output_2_loss: 0.5336 - val_output_1_mean_absolute_error: 0.5300 - val_output_2_mean_absolute_error: 0.5336\n",
      "Epoch 4/30\n",
      "363/363 [==============================] - 6s 17ms/step - loss: 0.5188 - output_1_loss: 0.5152 - output_2_loss: 0.5332 - output_1_mean_absolute_error: 0.5019 - output_2_mean_absolute_error: 0.5332 - val_loss: 0.4852 - val_output_1_loss: 0.4748 - val_output_2_loss: 0.5264 - val_output_1_mean_absolute_error: 0.5008 - val_output_2_mean_absolute_error: 0.5264\n",
      "Epoch 5/30\n",
      "363/363 [==============================] - 8s 23ms/step - loss: 0.4769 - output_1_loss: 0.4647 - output_2_loss: 0.5259 - output_1_mean_absolute_error: 0.4926 - output_2_mean_absolute_error: 0.5259 - val_loss: 0.4749 - val_output_1_loss: 0.4642 - val_output_2_loss: 0.5177 - val_output_1_mean_absolute_error: 0.4878 - val_output_2_mean_absolute_error: 0.5177\n",
      "Epoch 6/30\n",
      "363/363 [==============================] - 8s 22ms/step - loss: 0.4643 - output_1_loss: 0.4506 - output_2_loss: 0.5192 - output_1_mean_absolute_error: 0.4845 - output_2_mean_absolute_error: 0.5192 - val_loss: 0.4772 - val_output_1_loss: 0.4678 - val_output_2_loss: 0.5146 - val_output_1_mean_absolute_error: 0.4892 - val_output_2_mean_absolute_error: 0.5146\n",
      "Epoch 7/30\n",
      "363/363 [==============================] - 6s 16ms/step - loss: 0.4996 - output_1_loss: 0.4957 - output_2_loss: 0.5150 - output_1_mean_absolute_error: 0.4824 - output_2_mean_absolute_error: 0.5150 - val_loss: 0.4595 - val_output_1_loss: 0.4469 - val_output_2_loss: 0.5102 - val_output_1_mean_absolute_error: 0.4751 - val_output_2_mean_absolute_error: 0.5102\n",
      "Epoch 8/30\n",
      "363/363 [==============================] - 6s 16ms/step - loss: 0.4571 - output_1_loss: 0.4438 - output_2_loss: 0.5104 - output_1_mean_absolute_error: 0.4759 - output_2_mean_absolute_error: 0.5104 - val_loss: 0.4484 - val_output_1_loss: 0.4344 - val_output_2_loss: 0.5046 - val_output_1_mean_absolute_error: 0.4727 - val_output_2_mean_absolute_error: 0.5046\n",
      "Epoch 9/30\n",
      "363/363 [==============================] - 6s 16ms/step - loss: 0.4418 - output_1_loss: 0.4254 - output_2_loss: 0.5075 - output_1_mean_absolute_error: 0.4711 - output_2_mean_absolute_error: 0.5075 - val_loss: 0.4548 - val_output_1_loss: 0.4428 - val_output_2_loss: 0.5027 - val_output_1_mean_absolute_error: 0.4677 - val_output_2_mean_absolute_error: 0.5027\n",
      "Epoch 10/30\n",
      "363/363 [==============================] - 6s 16ms/step - loss: 0.4410 - output_1_loss: 0.4250 - output_2_loss: 0.5051 - output_1_mean_absolute_error: 0.4684 - output_2_mean_absolute_error: 0.5051 - val_loss: 0.4375 - val_output_1_loss: 0.4225 - val_output_2_loss: 0.4974 - val_output_1_mean_absolute_error: 0.4615 - val_output_2_mean_absolute_error: 0.4974\n",
      "Epoch 11/30\n",
      "363/363 [==============================] - 6s 16ms/step - loss: 0.4298 - output_1_loss: 0.4124 - output_2_loss: 0.4996 - output_1_mean_absolute_error: 0.4644 - output_2_mean_absolute_error: 0.4996 - val_loss: 0.4317 - val_output_1_loss: 0.4160 - val_output_2_loss: 0.4947 - val_output_1_mean_absolute_error: 0.4648 - val_output_2_mean_absolute_error: 0.4947\n",
      "Epoch 12/30\n",
      "363/363 [==============================] - 6s 16ms/step - loss: 0.4289 - output_1_loss: 0.4118 - output_2_loss: 0.4976 - output_1_mean_absolute_error: 0.4612 - output_2_mean_absolute_error: 0.4976 - val_loss: 0.4307 - val_output_1_loss: 0.4151 - val_output_2_loss: 0.4934 - val_output_1_mean_absolute_error: 0.4709 - val_output_2_mean_absolute_error: 0.4934\n",
      "Epoch 13/30\n",
      "363/363 [==============================] - 6s 15ms/step - loss: 0.4306 - output_1_loss: 0.4143 - output_2_loss: 0.4960 - output_1_mean_absolute_error: 0.4613 - output_2_mean_absolute_error: 0.4960 - val_loss: 0.4277 - val_output_1_loss: 0.4115 - val_output_2_loss: 0.4921 - val_output_1_mean_absolute_error: 0.4687 - val_output_2_mean_absolute_error: 0.4921\n",
      "Epoch 14/30\n",
      "363/363 [==============================] - 5s 15ms/step - loss: 0.4382 - output_1_loss: 0.4241 - output_2_loss: 0.4946 - output_1_mean_absolute_error: 0.4595 - output_2_mean_absolute_error: 0.4946 - val_loss: 0.4178 - val_output_1_loss: 0.4003 - val_output_2_loss: 0.4879 - val_output_1_mean_absolute_error: 0.4572 - val_output_2_mean_absolute_error: 0.4879\n",
      "Epoch 15/30\n",
      "363/363 [==============================] - 6s 16ms/step - loss: 0.4143 - output_1_loss: 0.3951 - output_2_loss: 0.4907 - output_1_mean_absolute_error: 0.4541 - output_2_mean_absolute_error: 0.4907 - val_loss: 0.4171 - val_output_1_loss: 0.3996 - val_output_2_loss: 0.4868 - val_output_1_mean_absolute_error: 0.4573 - val_output_2_mean_absolute_error: 0.4868\n",
      "Epoch 16/30\n",
      "363/363 [==============================] - 6s 16ms/step - loss: 0.4132 - output_1_loss: 0.3944 - output_2_loss: 0.4885 - output_1_mean_absolute_error: 0.4521 - output_2_mean_absolute_error: 0.4885 - val_loss: 0.4412 - val_output_1_loss: 0.4302 - val_output_2_loss: 0.4853 - val_output_1_mean_absolute_error: 0.4545 - val_output_2_mean_absolute_error: 0.4853\n",
      "Epoch 17/30\n",
      "363/363 [==============================] - 5s 15ms/step - loss: 0.4191 - output_1_loss: 0.4018 - output_2_loss: 0.4883 - output_1_mean_absolute_error: 0.4528 - output_2_mean_absolute_error: 0.4883 - val_loss: 0.4633 - val_output_1_loss: 0.4582 - val_output_2_loss: 0.4835 - val_output_1_mean_absolute_error: 0.4476 - val_output_2_mean_absolute_error: 0.4835\n",
      "Epoch 18/30\n",
      "363/363 [==============================] - 6s 16ms/step - loss: 0.4267 - output_1_loss: 0.4118 - output_2_loss: 0.4862 - output_1_mean_absolute_error: 0.4532 - output_2_mean_absolute_error: 0.4862 - val_loss: 0.4534 - val_output_1_loss: 0.4466 - val_output_2_loss: 0.4805 - val_output_1_mean_absolute_error: 0.4528 - val_output_2_mean_absolute_error: 0.4805\n",
      "Epoch 19/30\n",
      "363/363 [==============================] - 6s 15ms/step - loss: 0.4212 - output_1_loss: 0.4051 - output_2_loss: 0.4857 - output_1_mean_absolute_error: 0.4519 - output_2_mean_absolute_error: 0.4857 - val_loss: 0.4192 - val_output_1_loss: 0.4021 - val_output_2_loss: 0.4876 - val_output_1_mean_absolute_error: 0.4754 - val_output_2_mean_absolute_error: 0.4876\n",
      "Epoch 20/30\n",
      "363/363 [==============================] - 6s 16ms/step - loss: 0.4044 - output_1_loss: 0.3847 - output_2_loss: 0.4831 - output_1_mean_absolute_error: 0.4491 - output_2_mean_absolute_error: 0.4831 - val_loss: 0.4250 - val_output_1_loss: 0.4116 - val_output_2_loss: 0.4789 - val_output_1_mean_absolute_error: 0.4503 - val_output_2_mean_absolute_error: 0.4789\n",
      "Epoch 21/30\n",
      "363/363 [==============================] - 6s 16ms/step - loss: 0.4749 - output_1_loss: 0.4726 - output_2_loss: 0.4841 - output_1_mean_absolute_error: 0.4540 - output_2_mean_absolute_error: 0.4841 - val_loss: 0.4162 - val_output_1_loss: 0.3992 - val_output_2_loss: 0.4842 - val_output_1_mean_absolute_error: 0.4548 - val_output_2_mean_absolute_error: 0.4842\n",
      "Epoch 22/30\n",
      "363/363 [==============================] - 6s 15ms/step - loss: 0.4788 - output_1_loss: 0.4766 - output_2_loss: 0.4873 - output_1_mean_absolute_error: 0.4562 - output_2_mean_absolute_error: 0.4873 - val_loss: 0.4073 - val_output_1_loss: 0.3895 - val_output_2_loss: 0.4786 - val_output_1_mean_absolute_error: 0.4478 - val_output_2_mean_absolute_error: 0.4786\n",
      "Epoch 23/30\n",
      "363/363 [==============================] - 6s 16ms/step - loss: 0.4036 - output_1_loss: 0.3836 - output_2_loss: 0.4836 - output_1_mean_absolute_error: 0.4466 - output_2_mean_absolute_error: 0.4836 - val_loss: 0.4085 - val_output_1_loss: 0.3904 - val_output_2_loss: 0.4807 - val_output_1_mean_absolute_error: 0.4506 - val_output_2_mean_absolute_error: 0.4807\n",
      "Epoch 24/30\n",
      "363/363 [==============================] - 6s 15ms/step - loss: 0.4068 - output_1_loss: 0.3885 - output_2_loss: 0.4803 - output_1_mean_absolute_error: 0.4460 - output_2_mean_absolute_error: 0.4803 - val_loss: 0.3975 - val_output_1_loss: 0.3777 - val_output_2_loss: 0.4765 - val_output_1_mean_absolute_error: 0.4401 - val_output_2_mean_absolute_error: 0.4765\n",
      "Epoch 25/30\n",
      "363/363 [==============================] - 6s 16ms/step - loss: 0.3989 - output_1_loss: 0.3780 - output_2_loss: 0.4823 - output_1_mean_absolute_error: 0.4424 - output_2_mean_absolute_error: 0.4823 - val_loss: 0.4446 - val_output_1_loss: 0.4364 - val_output_2_loss: 0.4774 - val_output_1_mean_absolute_error: 0.4485 - val_output_2_mean_absolute_error: 0.4774\n",
      "Epoch 26/30\n",
      "363/363 [==============================] - 6s 15ms/step - loss: 0.6423 - output_1_loss: 0.6805 - output_2_loss: 0.4896 - output_1_mean_absolute_error: 0.4721 - output_2_mean_absolute_error: 0.4896 - val_loss: 0.4338 - val_output_1_loss: 0.4220 - val_output_2_loss: 0.4811 - val_output_1_mean_absolute_error: 0.4585 - val_output_2_mean_absolute_error: 0.4811\n",
      "Epoch 27/30\n",
      "363/363 [==============================] - 6s 15ms/step - loss: 0.5358 - output_1_loss: 0.5488 - output_2_loss: 0.4839 - output_1_mean_absolute_error: 0.4557 - output_2_mean_absolute_error: 0.4839 - val_loss: 0.4119 - val_output_1_loss: 0.3949 - val_output_2_loss: 0.4799 - val_output_1_mean_absolute_error: 0.4463 - val_output_2_mean_absolute_error: 0.4799\n",
      "Epoch 28/30\n",
      "363/363 [==============================] - 6s 16ms/step - loss: 0.4435 - output_1_loss: 0.4339 - output_2_loss: 0.4820 - output_1_mean_absolute_error: 0.4503 - output_2_mean_absolute_error: 0.4820 - val_loss: 0.4045 - val_output_1_loss: 0.3857 - val_output_2_loss: 0.4797 - val_output_1_mean_absolute_error: 0.4453 - val_output_2_mean_absolute_error: 0.4797\n",
      "Epoch 29/30\n",
      "363/363 [==============================] - 6s 17ms/step - loss: 0.4490 - output_1_loss: 0.4412 - output_2_loss: 0.4804 - output_1_mean_absolute_error: 0.4492 - output_2_mean_absolute_error: 0.4804 - val_loss: 0.4142 - val_output_1_loss: 0.3963 - val_output_2_loss: 0.4856 - val_output_1_mean_absolute_error: 0.4481 - val_output_2_mean_absolute_error: 0.4856\n",
      "Epoch 30/30\n",
      "363/363 [==============================] - 6s 16ms/step - loss: 0.3970 - output_1_loss: 0.3762 - output_2_loss: 0.4802 - output_1_mean_absolute_error: 0.4453 - output_2_mean_absolute_error: 0.4802 - val_loss: 0.4003 - val_output_1_loss: 0.3816 - val_output_2_loss: 0.4751 - val_output_1_mean_absolute_error: 0.4393 - val_output_2_mean_absolute_error: 0.4751\n"
     ]
    }
   ],
   "source": [
    "history_sub=model_sub.fit(\n",
    "    x=(X_train_s_1 , X_train_s_2 ),\n",
    "    #چون ما دوتا خروجی داریم پس دوتا وای هم داریم \n",
    "    y=(y_train1,y_train1),\n",
    "    epochs=30,\n",
    "    validation_data=  ((X_validaion_s_1 , X_validaion_s_2) ,\n",
    "                      (y_validaion,y_validaion))\n",
    ")"
   ]
  },
  {
   "cell_type": "code",
   "execution_count": null,
   "id": "bc045161-83c2-42b3-9b96-1959662cd4f3",
   "metadata": {},
   "outputs": [
    {
     "name": "stdout",
     "output_type": "stream",
     "text": [
      "Model: \"history_concat\"\n",
      "__________________________________________________________________________________________________\n",
      " Layer (type)                Output Shape                 Param #   Connected to                  \n",
      "==================================================================================================\n",
      " input_4 (InputLayer)        [(None, 6)]                  0         []                            \n",
      "                                                                                                  \n",
      " dense_8 (Dense)             (None, 50)                   350       ['input_4[0][0]']             \n",
      "                                                                                                  \n",
      " input_5 (InputLayer)        [(None, 4)]                  0         []                            \n",
      "                                                                                                  \n",
      " dense_9 (Dense)             (None, 10)                   510       ['dense_8[0][0]']             \n",
      "                                                                                                  \n",
      " concatenate_2 (Concatenate  (None, 14)                   0         ['input_5[0][0]',             \n",
      " )                                                                   'dense_9[0][0]']             \n",
      "                                                                                                  \n",
      " output (Dense)              (None, 1)                    15        ['concatenate_2[0][0]']       \n",
      "                                                                                                  \n",
      " helper_output (Dense)       (None, 1)                    11        ['dense_9[0][0]']             \n",
      "                                                                                                  \n",
      "==================================================================================================\n",
      "Total params: 886 (3.46 KB)\n",
      "Trainable params: 886 (3.46 KB)\n",
      "Non-trainable params: 0 (0.00 Byte)\n",
      "__________________________________________________________________________________________________\n"
     ]
    }
   ],
   "source": [
    "model_conc.summary()"
   ]
  },
  {
   "cell_type": "code",
   "execution_count": null,
   "id": "babb5b57-fe9f-45f4-b103-f17328c7b6f1",
   "metadata": {},
   "outputs": [
    {
     "name": "stdout",
     "output_type": "stream",
     "text": [
      "Model: \"wide_deep_end_ann\"\n",
      "_________________________________________________________________\n",
      " Layer (type)                Output Shape              Param #   \n",
      "=================================================================\n",
      " dense_10 (Dense)            multiple                  350       \n",
      "                                                                 \n",
      " dense_11 (Dense)            multiple                  510       \n",
      "                                                                 \n",
      " dense_12 (Dense)            multiple                  15        \n",
      "                                                                 \n",
      " dense_13 (Dense)            multiple                  11        \n",
      "                                                                 \n",
      "=================================================================\n",
      "Total params: 886 (3.46 KB)\n",
      "Trainable params: 886 (3.46 KB)\n",
      "Non-trainable params: 0 (0.00 Byte)\n",
      "_________________________________________________________________\n"
     ]
    }
   ],
   "source": [
    "model_sub.summary()"
   ]
  },
  {
   "cell_type": "markdown",
   "id": "6a014d66-40ff-4c02-82f0-61c71348ffd8",
   "metadata": {},
   "source": [
    "## save model"
   ]
  },
  {
   "cell_type": "code",
   "execution_count": null,
   "id": "766c627c-1a0b-4e7d-ac04-858584709f80",
   "metadata": {},
   "outputs": [
    {
     "name": "stdout",
     "output_type": "stream",
     "text": [
      "INFO:tensorflow:Assets written to: housing_reg_model_sub\\assets\n"
     ]
    },
    {
     "name": "stderr",
     "output_type": "stream",
     "text": [
      "INFO:tensorflow:Assets written to: housing_reg_model_sub\\assets\n"
     ]
    }
   ],
   "source": [
    "# ذخیره مدل به فرمت TensorFlow SavedModel\n",
    "model_sub.save('housing_reg_model_sub', save_format='tf')"
   ]
  },
  {
   "cell_type": "code",
   "execution_count": null,
   "id": "c3b3e19f-6641-456b-b334-167ce494fb9d",
   "metadata": {},
   "outputs": [],
   "source": [
    "# ذخیره و بارگذاری وزن‌های مدل\n",
    "model_conc.save_weights('housing_reg_model_sub_weights.h5')\n"
   ]
  },
  {
   "cell_type": "code",
   "execution_count": null,
   "id": "effd24ac-c203-4ed8-96ab-65c3704322b5",
   "metadata": {},
   "outputs": [
    {
     "name": "stdout",
     "output_type": "stream",
     "text": [
      "WARNING:tensorflow:Compiled the loaded model, but the compiled metrics have yet to be built. `model.compile_metrics` will be empty until you train or evaluate the model.\n"
     ]
    },
    {
     "name": "stderr",
     "output_type": "stream",
     "text": [
      "D:\\anacoda\\envs\\a.i\\lib\\site-packages\\keras\\src\\engine\\training.py:3000: UserWarning: You are saving your model as an HDF5 file via `model.save()`. This file format is considered legacy. We recommend using instead the native Keras format, e.g. `model.save('my_model.keras')`.\n",
      "  saving_api.save_model(\n",
      "WARNING:tensorflow:Compiled the loaded model, but the compiled metrics have yet to be built. `model.compile_metrics` will be empty until you train or evaluate the model.\n"
     ]
    }
   ],
   "source": [
    "model_conc.save(\"housing_reg_model_f.h5\")"
   ]
  },
  {
   "cell_type": "code",
   "execution_count": null,
   "id": "c16d6cc8-c045-435e-84c4-34e5bd8f71e5",
   "metadata": {},
   "outputs": [],
   "source": [
    "# ایجاد دوباره مدل و بارگذاری وزن‌ها\n",
    "model_sub_reg1 = Wide_deep_end_ann()\n",
    "model_sub_reg1.load_weights('housing_reg_model_sub_weights.h5')\n"
   ]
  },
  {
   "cell_type": "code",
   "execution_count": null,
   "id": "270228b4-deed-4b95-ab80-4cb70ae69425",
   "metadata": {},
   "outputs": [
    {
     "name": "stdout",
     "output_type": "stream",
     "text": [
      "WARNING:tensorflow:No training configuration found in the save file, so the model was *not* compiled. Compile it manually.\n"
     ]
    },
    {
     "name": "stderr",
     "output_type": "stream",
     "text": [
      "WARNING:tensorflow:No training configuration found in the save file, so the model was *not* compiled. Compile it manually.\n"
     ]
    }
   ],
   "source": [
    "model_sub_reg2=keras.models.load_model('housing_reg_model_sub')\n",
    "model_conc_load=keras.models.load_model('housing_reg_model_f.h5')"
   ]
  },
  {
   "cell_type": "code",
   "execution_count": null,
   "id": "a22445ef-cc6e-420a-9dcd-4275a6d6bace",
   "metadata": {},
   "outputs": [
    {
     "name": "stdout",
     "output_type": "stream",
     "text": [
      "Model: \"wide_deep_end_ann\"\n",
      "_________________________________________________________________\n",
      " Layer (type)                Output Shape              Param #   \n",
      "=================================================================\n",
      " dense_10 (Dense)            multiple                  350       \n",
      "                                                                 \n",
      " dense_11 (Dense)            multiple                  510       \n",
      "                                                                 \n",
      " dense_12 (Dense)            multiple                  15        \n",
      "                                                                 \n",
      " dense_13 (Dense)            multiple                  11        \n",
      "                                                                 \n",
      "=================================================================\n",
      "Total params: 886 (3.46 KB)\n",
      "Trainable params: 886 (3.46 KB)\n",
      "Non-trainable params: 0 (0.00 Byte)\n",
      "_________________________________________________________________\n"
     ]
    }
   ],
   "source": [
    "model_sub_reg2.summary()"
   ]
  },
  {
   "cell_type": "markdown",
   "id": "76143193-8922-4638-9695-50d670d5088c",
   "metadata": {},
   "source": [
    "# Callback API"
   ]
  },
  {
   "cell_type": "markdown",
   "id": "d344bc05-df18-47da-bfff-f91c8d5e8df8",
   "metadata": {},
   "source": [
    "### 1_ModelCheckpoint"
   ]
  },
  {
   "cell_type": "code",
   "execution_count": 44,
   "id": "ed0bfa3f-9c49-4c89-8522-8ca80e904a4e",
   "metadata": {},
   "outputs": [],
   "source": [
    "model_Checkpoint_callback = keras.callbacks.ModelCheckpoint('model_cb_regresion_housing.h5'\n",
    "                                                            ,save_best_only=True)\n",
    "                                                "
   ]
  },
  {
   "cell_type": "code",
   "execution_count": 45,
   "id": "c572bd03-238c-47a8-885e-26fce2265374",
   "metadata": {},
   "outputs": [],
   "source": [
    "model_conc.compile(\n",
    "    optimizer=\"sgd\",\n",
    "    loss=['mean_squared_error','MAE'],\n",
    "    # مشحص کنیم هر کدام از خروجی ها برای ما چه وزنی یا ارزشی دارند\n",
    "    loss_weights=[0.8,0.2] ,\n",
    "    metrics=['mean_absolute_error'],\n",
    ")"
   ]
  },
  {
   "cell_type": "code",
   "execution_count": 46,
   "id": "6608e158-ba2e-42b5-8544-389348ad48c6",
   "metadata": {},
   "outputs": [
    {
     "name": "stdout",
     "output_type": "stream",
     "text": [
      "Epoch 1/10\n",
      "363/363 [==============================] - 7s 17ms/step - loss: 3.4462 - output_loss: 3.8779 - helper_output_loss: 1.7197 - output_mean_absolute_error: 0.8893 - helper_output_mean_absolute_error: 1.7197 - val_loss: 10.3419 - val_output_loss: 12.6089 - val_helper_output_loss: 1.2737 - val_output_mean_absolute_error: 0.6950 - val_helper_output_mean_absolute_error: 1.2737\n",
      "Epoch 2/10\n",
      "363/363 [==============================] - 6s 17ms/step - loss: 32.8350 - output_loss: 40.7479 - helper_output_loss: 1.1831 - output_mean_absolute_error: 0.6952 - helper_output_mean_absolute_error: 1.1831 - val_loss: 4.8015 - val_output_loss: 5.7298 - val_helper_output_loss: 1.0884 - val_output_mean_absolute_error: 0.6061 - val_helper_output_mean_absolute_error: 1.0884\n",
      "Epoch 3/10\n",
      "363/363 [==============================] - 6s 17ms/step - loss: 17.0594 - output_loss: 21.0630 - helper_output_loss: 1.0448 - output_mean_absolute_error: 0.7319 - helper_output_mean_absolute_error: 1.0448 - val_loss: 2.3281 - val_output_loss: 2.6715 - val_helper_output_loss: 0.9546 - val_output_mean_absolute_error: 0.5670 - val_helper_output_mean_absolute_error: 0.9546\n",
      "Epoch 4/10\n",
      "363/363 [==============================] - 7s 18ms/step - loss: 6.9187 - output_loss: 8.4172 - helper_output_loss: 0.9248 - output_mean_absolute_error: 0.5961 - helper_output_mean_absolute_error: 0.9248 - val_loss: 1.3305 - val_output_loss: 1.4490 - val_helper_output_loss: 0.8565 - val_output_mean_absolute_error: 0.5297 - val_helper_output_mean_absolute_error: 0.8565\n",
      "Epoch 5/10\n",
      "363/363 [==============================] - 6s 18ms/step - loss: 3.7525 - output_loss: 4.4874 - helper_output_loss: 0.8127 - output_mean_absolute_error: 0.5242 - helper_output_mean_absolute_error: 0.8127 - val_loss: 0.8335 - val_output_loss: 0.8559 - val_helper_output_loss: 0.7439 - val_output_mean_absolute_error: 0.4866 - val_helper_output_mean_absolute_error: 0.7439\n",
      "Epoch 6/10\n",
      "363/363 [==============================] - 6s 17ms/step - loss: 0.6182 - output_loss: 0.5957 - helper_output_loss: 0.7082 - output_mean_absolute_error: 0.4777 - helper_output_mean_absolute_error: 0.7082 - val_loss: 0.6281 - val_output_loss: 0.6203 - val_helper_output_loss: 0.6593 - val_output_mean_absolute_error: 0.4685 - val_helper_output_mean_absolute_error: 0.6593\n",
      "Epoch 7/10\n",
      "363/363 [==============================] - 6s 15ms/step - loss: 1.1406 - output_loss: 1.2650 - helper_output_loss: 0.6431 - output_mean_absolute_error: 0.4717 - helper_output_mean_absolute_error: 0.6431 - val_loss: 0.5353 - val_output_loss: 0.5154 - val_helper_output_loss: 0.6150 - val_output_mean_absolute_error: 0.4689 - val_helper_output_mean_absolute_error: 0.6150\n",
      "Epoch 8/10\n",
      "363/363 [==============================] - 6s 16ms/step - loss: 0.7305 - output_loss: 0.7606 - helper_output_loss: 0.6104 - output_mean_absolute_error: 0.4689 - helper_output_mean_absolute_error: 0.6104 - val_loss: 7.1589 - val_output_loss: 8.7904 - val_helper_output_loss: 0.6330 - val_output_mean_absolute_error: 0.4983 - val_helper_output_mean_absolute_error: 0.6330\n",
      "Epoch 9/10\n",
      "363/363 [==============================] - 6s 17ms/step - loss: 89.5377 - output_loss: 111.7487 - helper_output_loss: 0.6932 - output_mean_absolute_error: 0.7948 - helper_output_mean_absolute_error: 0.6932 - val_loss: 438.8391 - val_output_loss: 548.3439 - val_helper_output_loss: 0.8196 - val_output_mean_absolute_error: 1.9632 - val_helper_output_mean_absolute_error: 0.8196\n",
      "Epoch 10/10\n",
      "363/363 [==============================] - 6s 16ms/step - loss: 9861650.0000 - output_loss: 12327045.0000 - helper_output_loss: 60.6094 - output_mean_absolute_error: 126.9219 - helper_output_mean_absolute_error: 60.6094 - val_loss: 9384.7354 - val_output_loss: 11730.6963 - val_helper_output_loss: 0.8818 - val_output_mean_absolute_error: 18.7471 - val_helper_output_mean_absolute_error: 0.8818\n"
     ]
    }
   ],
   "source": [
    "history_conc=model_conc.fit(\n",
    "    x=(X_train_s_1 , X_train_s_2 ),\n",
    "    #چون ما دوتا خروجی داریم پس دوتا وای هم داریم \n",
    "    y=(y_train1,y_train1),\n",
    "    epochs=10,\n",
    "    validation_data=  ((X_validaion_s_1 , X_validaion_s_2) ,\n",
    "                      (y_validaion,y_validaion)),\n",
    "    callbacks=[model_Checkpoint_callback]\n",
    "    )"
   ]
  },
  {
   "cell_type": "markdown",
   "id": "9f1483bd-e243-4220-bdb6-46763ac35c33",
   "metadata": {},
   "source": [
    "### 2_EarlyStopping"
   ]
  },
  {
   "cell_type": "code",
   "execution_count": 47,
   "id": "d63c9b09-0272-4c6c-9323-57260e96f36e",
   "metadata": {},
   "outputs": [],
   "source": [
    "earlystopping_callback_ = keras.callbacks.EarlyStopping(monitor=\"val_loss\",\n",
    "                                                        patience=5,\n",
    "                                                      restore_best_weights=True)"
   ]
  },
  {
   "cell_type": "code",
   "execution_count": 48,
   "id": "d682e48f-b051-42e1-abb2-7178dd5673da",
   "metadata": {},
   "outputs": [
    {
     "name": "stdout",
     "output_type": "stream",
     "text": [
      "Epoch 1/40\n",
      "363/363 [==============================] - 6s 16ms/step - loss: 2488.5481 - output_loss: 3110.4592 - helper_output_loss: 0.8901 - output_mean_absolute_error: 10.2149 - helper_output_mean_absolute_error: 0.8901 - val_loss: 4167.2783 - val_output_loss: 5208.8774 - val_helper_output_loss: 0.8719 - val_output_mean_absolute_error: 8.2624 - val_helper_output_mean_absolute_error: 0.8719\n",
      "Epoch 2/40\n",
      "363/363 [==============================] - 6s 16ms/step - loss: 1068.2433 - output_loss: 1335.0841 - helper_output_loss: 0.8833 - output_mean_absolute_error: 5.8417 - helper_output_mean_absolute_error: 0.8833 - val_loss: 1912.3839 - val_output_loss: 2390.2639 - val_helper_output_loss: 0.8698 - val_output_mean_absolute_error: 5.3006 - val_helper_output_mean_absolute_error: 0.8698\n",
      "Epoch 3/40\n",
      "363/363 [==============================] - 6s 16ms/step - loss: 502.7529 - output_loss: 628.2210 - helper_output_loss: 0.8811 - output_mean_absolute_error: 3.8415 - helper_output_mean_absolute_error: 0.8811 - val_loss: 841.7028 - val_output_loss: 1051.9110 - val_helper_output_loss: 0.8696 - val_output_mean_absolute_error: 3.7513 - val_helper_output_mean_absolute_error: 0.8696\n",
      "Epoch 4/40\n",
      "363/363 [==============================] - 6s 16ms/step - loss: 3527.4221 - output_loss: 4409.0566 - helper_output_loss: 0.8805 - output_mean_absolute_error: 6.3823 - helper_output_mean_absolute_error: 0.8805 - val_loss: 371.0978 - val_output_loss: 463.6549 - val_helper_output_loss: 0.8696 - val_output_mean_absolute_error: 2.3680 - val_helper_output_mean_absolute_error: 0.8696\n",
      "Epoch 5/40\n",
      "363/363 [==============================] - 6s 16ms/step - loss: 1504.7168 - output_loss: 1880.6757 - helper_output_loss: 0.8803 - output_mean_absolute_error: 3.2397 - helper_output_mean_absolute_error: 0.8803 - val_loss: 202.9652 - val_output_loss: 253.4892 - val_helper_output_loss: 0.8697 - val_output_mean_absolute_error: 4.6557 - val_helper_output_mean_absolute_error: 0.8697\n",
      "Epoch 6/40\n",
      "363/363 [==============================] - 6s 16ms/step - loss: 65.1706 - output_loss: 81.2432 - helper_output_loss: 0.8802 - output_mean_absolute_error: 1.9327 - helper_output_mean_absolute_error: 0.8802 - val_loss: 93.0785 - val_output_loss: 116.1306 - val_helper_output_loss: 0.8698 - val_output_mean_absolute_error: 1.2084 - val_helper_output_mean_absolute_error: 0.8698\n",
      "Epoch 7/40\n",
      "363/363 [==============================] - 6s 16ms/step - loss: 24.8815 - output_loss: 30.8818 - helper_output_loss: 0.8802 - output_mean_absolute_error: 1.1067 - helper_output_mean_absolute_error: 0.8802 - val_loss: 43.1151 - val_output_loss: 53.6764 - val_helper_output_loss: 0.8698 - val_output_mean_absolute_error: 1.1997 - val_helper_output_mean_absolute_error: 0.8698\n",
      "Epoch 8/40\n",
      "363/363 [==============================] - 6s 16ms/step - loss: 15.0547 - output_loss: 18.5983 - helper_output_loss: 0.8802 - output_mean_absolute_error: 0.9091 - helper_output_mean_absolute_error: 0.8802 - val_loss: 18.7701 - val_output_loss: 23.2452 - val_helper_output_loss: 0.8699 - val_output_mean_absolute_error: 0.8551 - val_helper_output_mean_absolute_error: 0.8699\n",
      "Epoch 9/40\n",
      "363/363 [==============================] - 6s 16ms/step - loss: 79.0897 - output_loss: 98.6420 - helper_output_loss: 0.8802 - output_mean_absolute_error: 1.6412 - helper_output_mean_absolute_error: 0.8802 - val_loss: 10.4562 - val_output_loss: 12.8528 - val_helper_output_loss: 0.8699 - val_output_mean_absolute_error: 1.3641 - val_helper_output_mean_absolute_error: 0.8699\n",
      "Epoch 10/40\n",
      "363/363 [==============================] - 6s 16ms/step - loss: 3.1635 - output_loss: 3.7343 - helper_output_loss: 0.8802 - output_mean_absolute_error: 0.8998 - helper_output_mean_absolute_error: 0.8802 - val_loss: 4.3392 - val_output_loss: 5.2066 - val_helper_output_loss: 0.8699 - val_output_mean_absolute_error: 0.8023 - val_helper_output_mean_absolute_error: 0.8699\n",
      "Epoch 11/40\n",
      "363/363 [==============================] - 6s 16ms/step - loss: 1.9033 - output_loss: 2.1590 - helper_output_loss: 0.8802 - output_mean_absolute_error: 0.8092 - helper_output_mean_absolute_error: 0.8802 - val_loss: 2.1687 - val_output_loss: 2.4934 - val_helper_output_loss: 0.8699 - val_output_mean_absolute_error: 0.8150 - val_helper_output_mean_absolute_error: 0.8699\n",
      "Epoch 12/40\n",
      "363/363 [==============================] - 6s 16ms/step - loss: 1.2724 - output_loss: 1.3705 - helper_output_loss: 0.8802 - output_mean_absolute_error: 0.7827 - helper_output_mean_absolute_error: 0.8802 - val_loss: 1.5393 - val_output_loss: 1.7066 - val_helper_output_loss: 0.8699 - val_output_mean_absolute_error: 0.7619 - val_helper_output_mean_absolute_error: 0.8699\n",
      "Epoch 13/40\n",
      "363/363 [==============================] - 6s 16ms/step - loss: 3.8626 - output_loss: 4.6083 - helper_output_loss: 0.8802 - output_mean_absolute_error: 0.8287 - helper_output_mean_absolute_error: 0.8802 - val_loss: 1.1480 - val_output_loss: 1.2175 - val_helper_output_loss: 0.8699 - val_output_mean_absolute_error: 0.7850 - val_helper_output_mean_absolute_error: 0.8699\n",
      "Epoch 14/40\n",
      "363/363 [==============================] - 6s 16ms/step - loss: 1.0346 - output_loss: 1.0732 - helper_output_loss: 0.8802 - output_mean_absolute_error: 0.7778 - helper_output_mean_absolute_error: 0.8802 - val_loss: 1.0378 - val_output_loss: 1.0798 - val_helper_output_loss: 0.8699 - val_output_mean_absolute_error: 0.7589 - val_helper_output_mean_absolute_error: 0.8699\n",
      "Epoch 15/40\n",
      "363/363 [==============================] - 6s 16ms/step - loss: 1.3631 - output_loss: 1.4839 - helper_output_loss: 0.8802 - output_mean_absolute_error: 0.7992 - helper_output_mean_absolute_error: 0.8802 - val_loss: 0.9932 - val_output_loss: 1.0241 - val_helper_output_loss: 0.8700 - val_output_mean_absolute_error: 0.7761 - val_helper_output_mean_absolute_error: 0.8700\n",
      "Epoch 16/40\n",
      "363/363 [==============================] - 6s 16ms/step - loss: 1.1014 - output_loss: 1.1567 - helper_output_loss: 0.8802 - output_mean_absolute_error: 0.7722 - helper_output_mean_absolute_error: 0.8802 - val_loss: 0.9720 - val_output_loss: 0.9975 - val_helper_output_loss: 0.8700 - val_output_mean_absolute_error: 0.7645 - val_helper_output_mean_absolute_error: 0.8700\n",
      "Epoch 17/40\n",
      "363/363 [==============================] - 6s 16ms/step - loss: 0.9890 - output_loss: 1.0162 - helper_output_loss: 0.8802 - output_mean_absolute_error: 0.7682 - helper_output_mean_absolute_error: 0.8802 - val_loss: 1.0063 - val_output_loss: 1.0404 - val_helper_output_loss: 0.8699 - val_output_mean_absolute_error: 0.7737 - val_helper_output_mean_absolute_error: 0.8699\n",
      "Epoch 18/40\n",
      "363/363 [==============================] - 6s 16ms/step - loss: 0.9857 - output_loss: 1.0121 - helper_output_loss: 0.8802 - output_mean_absolute_error: 0.7714 - helper_output_mean_absolute_error: 0.8802 - val_loss: 0.9598 - val_output_loss: 0.9823 - val_helper_output_loss: 0.8700 - val_output_mean_absolute_error: 0.7649 - val_helper_output_mean_absolute_error: 0.8700\n",
      "Epoch 19/40\n",
      "363/363 [==============================] - 6s 16ms/step - loss: 0.9771 - output_loss: 1.0013 - helper_output_loss: 0.8802 - output_mean_absolute_error: 0.7676 - helper_output_mean_absolute_error: 0.8802 - val_loss: 0.9575 - val_output_loss: 0.9793 - val_helper_output_loss: 0.8700 - val_output_mean_absolute_error: 0.7687 - val_helper_output_mean_absolute_error: 0.8700\n",
      "Epoch 20/40\n",
      "363/363 [==============================] - 6s 17ms/step - loss: 0.9771 - output_loss: 1.0013 - helper_output_loss: 0.8802 - output_mean_absolute_error: 0.7690 - helper_output_mean_absolute_error: 0.8802 - val_loss: 0.9612 - val_output_loss: 0.9840 - val_helper_output_loss: 0.8700 - val_output_mean_absolute_error: 0.7636 - val_helper_output_mean_absolute_error: 0.8700\n",
      "Epoch 21/40\n",
      "363/363 [==============================] - 6s 16ms/step - loss: 1.0218 - output_loss: 1.0572 - helper_output_loss: 0.8802 - output_mean_absolute_error: 0.7690 - helper_output_mean_absolute_error: 0.8802 - val_loss: 0.9628 - val_output_loss: 0.9860 - val_helper_output_loss: 0.8700 - val_output_mean_absolute_error: 0.7592 - val_helper_output_mean_absolute_error: 0.8700\n",
      "Epoch 22/40\n",
      "363/363 [==============================] - 6s 16ms/step - loss: 0.9824 - output_loss: 1.0080 - helper_output_loss: 0.8802 - output_mean_absolute_error: 0.7678 - helper_output_mean_absolute_error: 0.8802 - val_loss: 0.9699 - val_output_loss: 0.9949 - val_helper_output_loss: 0.8700 - val_output_mean_absolute_error: 0.7700 - val_helper_output_mean_absolute_error: 0.8700\n",
      "Epoch 23/40\n",
      "363/363 [==============================] - 6s 16ms/step - loss: 0.9780 - output_loss: 1.0024 - helper_output_loss: 0.8802 - output_mean_absolute_error: 0.7683 - helper_output_mean_absolute_error: 0.8802 - val_loss: 0.9613 - val_output_loss: 0.9841 - val_helper_output_loss: 0.8700 - val_output_mean_absolute_error: 0.7647 - val_helper_output_mean_absolute_error: 0.8700\n",
      "Epoch 24/40\n",
      "363/363 [==============================] - 6s 16ms/step - loss: 1.0269 - output_loss: 1.0636 - helper_output_loss: 0.8802 - output_mean_absolute_error: 0.7701 - helper_output_mean_absolute_error: 0.8802 - val_loss: 0.9562 - val_output_loss: 0.9778 - val_helper_output_loss: 0.8700 - val_output_mean_absolute_error: 0.7683 - val_helper_output_mean_absolute_error: 0.8700\n",
      "Epoch 25/40\n",
      "363/363 [==============================] - 6s 16ms/step - loss: 0.9748 - output_loss: 0.9984 - helper_output_loss: 0.8802 - output_mean_absolute_error: 0.7683 - helper_output_mean_absolute_error: 0.8802 - val_loss: 0.9532 - val_output_loss: 0.9740 - val_helper_output_loss: 0.8700 - val_output_mean_absolute_error: 0.7624 - val_helper_output_mean_absolute_error: 0.8700\n",
      "Epoch 26/40\n",
      "363/363 [==============================] - 6s 16ms/step - loss: 0.9765 - output_loss: 1.0005 - helper_output_loss: 0.8802 - output_mean_absolute_error: 0.7670 - helper_output_mean_absolute_error: 0.8802 - val_loss: 0.9683 - val_output_loss: 0.9929 - val_helper_output_loss: 0.8700 - val_output_mean_absolute_error: 0.7681 - val_helper_output_mean_absolute_error: 0.8700\n",
      "Epoch 27/40\n",
      "363/363 [==============================] - 6s 16ms/step - loss: 0.9736 - output_loss: 0.9969 - helper_output_loss: 0.8802 - output_mean_absolute_error: 0.7660 - helper_output_mean_absolute_error: 0.8802 - val_loss: 0.9835 - val_output_loss: 1.0119 - val_helper_output_loss: 0.8700 - val_output_mean_absolute_error: 0.7640 - val_helper_output_mean_absolute_error: 0.8700\n",
      "Epoch 28/40\n",
      "363/363 [==============================] - 6s 18ms/step - loss: 0.9857 - output_loss: 1.0120 - helper_output_loss: 0.8802 - output_mean_absolute_error: 0.7678 - helper_output_mean_absolute_error: 0.8802 - val_loss: 0.9685 - val_output_loss: 0.9931 - val_helper_output_loss: 0.8700 - val_output_mean_absolute_error: 0.7709 - val_helper_output_mean_absolute_error: 0.8700\n",
      "Epoch 29/40\n",
      "363/363 [==============================] - 6s 16ms/step - loss: 1.0135 - output_loss: 1.0469 - helper_output_loss: 0.8802 - output_mean_absolute_error: 0.7708 - helper_output_mean_absolute_error: 0.8802 - val_loss: 0.9575 - val_output_loss: 0.9793 - val_helper_output_loss: 0.8699 - val_output_mean_absolute_error: 0.7675 - val_helper_output_mean_absolute_error: 0.8699\n",
      "Epoch 30/40\n",
      "363/363 [==============================] - 6s 17ms/step - loss: 0.9934 - output_loss: 1.0217 - helper_output_loss: 0.8802 - output_mean_absolute_error: 0.7716 - helper_output_mean_absolute_error: 0.8802 - val_loss: 0.9519 - val_output_loss: 0.9724 - val_helper_output_loss: 0.8699 - val_output_mean_absolute_error: 0.7607 - val_helper_output_mean_absolute_error: 0.8699\n",
      "Epoch 31/40\n",
      "363/363 [==============================] - 6s 17ms/step - loss: 0.9749 - output_loss: 0.9985 - helper_output_loss: 0.8802 - output_mean_absolute_error: 0.7667 - helper_output_mean_absolute_error: 0.8802 - val_loss: 0.9531 - val_output_loss: 0.9740 - val_helper_output_loss: 0.8699 - val_output_mean_absolute_error: 0.7639 - val_helper_output_mean_absolute_error: 0.8699\n",
      "Epoch 32/40\n",
      "363/363 [==============================] - 6s 17ms/step - loss: 0.9745 - output_loss: 0.9981 - helper_output_loss: 0.8802 - output_mean_absolute_error: 0.7673 - helper_output_mean_absolute_error: 0.8802 - val_loss: 0.9522 - val_output_loss: 0.9727 - val_helper_output_loss: 0.8699 - val_output_mean_absolute_error: 0.7626 - val_helper_output_mean_absolute_error: 0.8699\n",
      "Epoch 33/40\n",
      "363/363 [==============================] - 6s 17ms/step - loss: 0.9763 - output_loss: 1.0003 - helper_output_loss: 0.8802 - output_mean_absolute_error: 0.7683 - helper_output_mean_absolute_error: 0.8802 - val_loss: 0.9518 - val_output_loss: 0.9723 - val_helper_output_loss: 0.8699 - val_output_mean_absolute_error: 0.7615 - val_helper_output_mean_absolute_error: 0.8699\n",
      "Epoch 34/40\n",
      "363/363 [==============================] - 6s 17ms/step - loss: 0.9781 - output_loss: 1.0026 - helper_output_loss: 0.8802 - output_mean_absolute_error: 0.7676 - helper_output_mean_absolute_error: 0.8802 - val_loss: 0.9524 - val_output_loss: 0.9731 - val_helper_output_loss: 0.8699 - val_output_mean_absolute_error: 0.7644 - val_helper_output_mean_absolute_error: 0.8699\n",
      "Epoch 35/40\n",
      "363/363 [==============================] - 6s 17ms/step - loss: 0.9746 - output_loss: 0.9982 - helper_output_loss: 0.8802 - output_mean_absolute_error: 0.7677 - helper_output_mean_absolute_error: 0.8802 - val_loss: 0.9592 - val_output_loss: 0.9815 - val_helper_output_loss: 0.8699 - val_output_mean_absolute_error: 0.7658 - val_helper_output_mean_absolute_error: 0.8699\n",
      "Epoch 36/40\n",
      "363/363 [==============================] - 6s 17ms/step - loss: 0.9748 - output_loss: 0.9984 - helper_output_loss: 0.8802 - output_mean_absolute_error: 0.7670 - helper_output_mean_absolute_error: 0.8802 - val_loss: 0.9622 - val_output_loss: 0.9853 - val_helper_output_loss: 0.8699 - val_output_mean_absolute_error: 0.7641 - val_helper_output_mean_absolute_error: 0.8699\n",
      "Epoch 37/40\n",
      "363/363 [==============================] - 6s 17ms/step - loss: 1.0360 - output_loss: 1.0749 - helper_output_loss: 0.8802 - output_mean_absolute_error: 0.7746 - helper_output_mean_absolute_error: 0.8802 - val_loss: 0.9565 - val_output_loss: 0.9782 - val_helper_output_loss: 0.8699 - val_output_mean_absolute_error: 0.7690 - val_helper_output_mean_absolute_error: 0.8699\n",
      "Epoch 38/40\n",
      "363/363 [==============================] - 6s 16ms/step - loss: 0.9863 - output_loss: 1.0128 - helper_output_loss: 0.8802 - output_mean_absolute_error: 0.7687 - helper_output_mean_absolute_error: 0.8802 - val_loss: 0.9551 - val_output_loss: 0.9764 - val_helper_output_loss: 0.8699 - val_output_mean_absolute_error: 0.7637 - val_helper_output_mean_absolute_error: 0.8699\n"
     ]
    }
   ],
   "source": [
    "history_conc=model_conc.fit(\n",
    "    x=(X_train_s_1 , X_train_s_2 ),\n",
    "    #چون ما دوتا خروجی داریم پس دوتا وای هم داریم \n",
    "    y=(y_train1,y_train1),\n",
    "    epochs=40,\n",
    "    validation_data=  ((X_validaion_s_1 , X_validaion_s_2) ,\n",
    "                      (y_validaion,y_validaion)),\n",
    "    callbacks=[model_Checkpoint_callback,earlystopping_callback_]\n",
    "    )"
   ]
  },
  {
   "cell_type": "markdown",
   "id": "6ad2497c-3ef7-4187-9ee8-68f6211b930e",
   "metadata": {},
   "source": [
    "### 3_ mycallback"
   ]
  },
  {
   "cell_type": "code",
   "execution_count": 49,
   "id": "654fcf12-2b18-4bb3-8098-db232c7848a0",
   "metadata": {},
   "outputs": [],
   "source": [
    "class MyCallback(keras.callbacks.Callback):\n",
    "    '''مراجعه به سایت پایین برای تعیین اور رایت متدها\n",
    "    https://www.tensorflow.org/api_docs/python/tf/keras/callbacks/Callback\n",
    "    '''\n",
    "    def on_train_end(self, logs=None):\n",
    "        print('اند تمام شد مثلا')\n",
    "    def on_epoch_end (self,epoch,logs):\n",
    "        print(logs['val_loss'],'______$$____')"
   ]
  },
  {
   "cell_type": "code",
   "execution_count": 50,
   "id": "11ed7fca-51a7-4241-ae7c-3ebe07f649c9",
   "metadata": {},
   "outputs": [],
   "source": [
    "MyCallback_mehr=MyCallback()"
   ]
  },
  {
   "cell_type": "code",
   "execution_count": 51,
   "id": "19827335-d052-477e-8e3a-bab7aefa6c3a",
   "metadata": {},
   "outputs": [
    {
     "name": "stdout",
     "output_type": "stream",
     "text": [
      "Epoch 1/40\n",
      "362/363 [============================>.] - ETA: 0s - loss: 0.9747 - output_loss: 0.9984 - helper_output_loss: 0.8797 - output_mean_absolute_error: 0.7676 - helper_output_mean_absolute_error: 0.87970.9512366652488708 ______$$____\n",
      "363/363 [==============================] - 6s 16ms/step - loss: 0.9751 - output_loss: 0.9988 - helper_output_loss: 0.8802 - output_mean_absolute_error: 0.7678 - helper_output_mean_absolute_error: 0.8802 - val_loss: 0.9512 - val_output_loss: 0.9716 - val_helper_output_loss: 0.8699 - val_output_mean_absolute_error: 0.7613 - val_helper_output_mean_absolute_error: 0.8699\n",
      "Epoch 2/40\n",
      "361/363 [============================>.] - ETA: 0s - loss: 0.9770 - output_loss: 1.0011 - helper_output_loss: 0.8805 - output_mean_absolute_error: 0.7686 - helper_output_mean_absolute_error: 0.88050.9571233987808228 ______$$____\n",
      "363/363 [==============================] - 6s 16ms/step - loss: 0.9761 - output_loss: 1.0001 - helper_output_loss: 0.8802 - output_mean_absolute_error: 0.7680 - helper_output_mean_absolute_error: 0.8802 - val_loss: 0.9571 - val_output_loss: 0.9789 - val_helper_output_loss: 0.8699 - val_output_mean_absolute_error: 0.7631 - val_helper_output_mean_absolute_error: 0.8699\n",
      "Epoch 3/40\n",
      "363/363 [==============================] - ETA: 0s - loss: 0.9851 - output_loss: 1.0113 - helper_output_loss: 0.8802 - output_mean_absolute_error: 0.7668 - helper_output_mean_absolute_error: 0.88020.9542632699012756 ______$$____\n",
      "363/363 [==============================] - 6s 16ms/step - loss: 0.9851 - output_loss: 1.0113 - helper_output_loss: 0.8802 - output_mean_absolute_error: 0.7668 - helper_output_mean_absolute_error: 0.8802 - val_loss: 0.9543 - val_output_loss: 0.9753 - val_helper_output_loss: 0.8700 - val_output_mean_absolute_error: 0.7660 - val_helper_output_mean_absolute_error: 0.8700\n",
      "Epoch 4/40\n",
      "361/363 [============================>.] - ETA: 0s - loss: 0.9757 - output_loss: 0.9993 - helper_output_loss: 0.8813 - output_mean_absolute_error: 0.7680 - helper_output_mean_absolute_error: 0.88130.9529333710670471 ______$$____\n",
      "363/363 [==============================] - 6s 17ms/step - loss: 0.9747 - output_loss: 0.9983 - helper_output_loss: 0.8802 - output_mean_absolute_error: 0.7676 - helper_output_mean_absolute_error: 0.8802 - val_loss: 0.9529 - val_output_loss: 0.9737 - val_helper_output_loss: 0.8699 - val_output_mean_absolute_error: 0.7638 - val_helper_output_mean_absolute_error: 0.8699\n",
      "Epoch 5/40\n",
      "363/363 [==============================] - ETA: 0s - loss: 0.9743 - output_loss: 0.9979 - helper_output_loss: 0.8802 - output_mean_absolute_error: 0.7684 - helper_output_mean_absolute_error: 0.88020.951623797416687 ______$$____\n",
      "363/363 [==============================] - 6s 17ms/step - loss: 0.9743 - output_loss: 0.9979 - helper_output_loss: 0.8802 - output_mean_absolute_error: 0.7684 - helper_output_mean_absolute_error: 0.8802 - val_loss: 0.9516 - val_output_loss: 0.9721 - val_helper_output_loss: 0.8699 - val_output_mean_absolute_error: 0.7572 - val_helper_output_mean_absolute_error: 0.8699\n",
      "Epoch 6/40\n",
      "360/363 [============================>.] - ETA: 0s - loss: 0.9761 - output_loss: 1.0003 - helper_output_loss: 0.8796 - output_mean_absolute_error: 0.7668 - helper_output_mean_absolute_error: 0.87960.9601998329162598 ______$$____\n",
      "363/363 [==============================] - 6s 16ms/step - loss: 0.9771 - output_loss: 1.0014 - helper_output_loss: 0.8802 - output_mean_absolute_error: 0.7671 - helper_output_mean_absolute_error: 0.8802 - val_loss: 0.9602 - val_output_loss: 0.9828 - val_helper_output_loss: 0.8699 - val_output_mean_absolute_error: 0.7663 - val_helper_output_mean_absolute_error: 0.8699\n",
      "اند تمام شد مثلا\n"
     ]
    }
   ],
   "source": [
    "history_conc=model_conc.fit(\n",
    "    x=(X_train_s_1 , X_train_s_2 ),\n",
    "    #چون ما دوتا خروجی داریم پس دوتا وای هم داریم \n",
    "    y=(y_train1,y_train1),\n",
    "    epochs=40,\n",
    "    validation_data=  ((X_validaion_s_1 , X_validaion_s_2) ,\n",
    "                      (y_validaion,y_validaion)),\n",
    "    callbacks=[model_Checkpoint_callback,earlystopping_callback_,MyCallback_mehr]\n",
    "    )"
   ]
  },
  {
   "cell_type": "markdown",
   "id": "5bbef220-9911-4b69-9ea4-3401a26f57fe",
   "metadata": {},
   "source": [
    "## 4_tensorboard"
   ]
  },
  {
   "cell_type": "code",
   "execution_count": 52,
   "id": "4544a9cc-daf0-4c25-8cf6-c7b80f000ea7",
   "metadata": {},
   "outputs": [],
   "source": [
    "import datetime\n",
    "\n",
    "# تابعی برای ایجاد نام فایل بر اساس تاریخ و زمان فعلی\n",
    "def create_log_dir(base_dir, base_name):\n",
    "    current_time = datetime.datetime.now().strftime(\"%Y-%m-%d_%H-%M-%S\")\n",
    "    log_dir = f\"{base_dir}/{base_name}_{current_time}\"\n",
    "    return log_dir\n",
    "\n",
    "# مسیر دلخواه پوشه و نام دلخواه فایل\n",
    "base_dir = \"./tb_log/callbacks\"\n",
    "base_name = \"tb_log_test\"\n",
    "\n",
    "# ایجاد دایرکتوری لاگ\n",
    "log_dir = create_log_dir(base_dir, base_name)\n",
    "\n",
    "# استفاده از TensorBoard callback با مسیر لاگ منحصر به فرد\n",
    "tensorboard_callback = tf.keras.callbacks.TensorBoard(log_dir=log_dir)\n"
   ]
  },
  {
   "cell_type": "code",
   "execution_count": 53,
   "id": "eb26bc6a-3a82-4deb-aae1-f4b0e0999c78",
   "metadata": {},
   "outputs": [
    {
     "name": "stdout",
     "output_type": "stream",
     "text": [
      "Epoch 1/40\n",
      "363/363 [==============================] - ETA: 0s - loss: 0.9759 - output_loss: 0.9999 - helper_output_loss: 0.8802 - output_mean_absolute_error: 0.7670 - helper_output_mean_absolute_error: 0.88020.9520275592803955 ______$$____\n",
      "363/363 [==============================] - 6s 17ms/step - loss: 0.9759 - output_loss: 0.9999 - helper_output_loss: 0.8802 - output_mean_absolute_error: 0.7670 - helper_output_mean_absolute_error: 0.8802 - val_loss: 0.9520 - val_output_loss: 0.9725 - val_helper_output_loss: 0.8699 - val_output_mean_absolute_error: 0.7673 - val_helper_output_mean_absolute_error: 0.8699\n",
      "Epoch 2/40\n",
      "361/363 [============================>.] - ETA: 0s - loss: 0.9721 - output_loss: 0.9952 - helper_output_loss: 0.8796 - output_mean_absolute_error: 0.7666 - helper_output_mean_absolute_error: 0.87960.9526413679122925 ______$$____\n",
      "363/363 [==============================] - 6s 16ms/step - loss: 0.9738 - output_loss: 0.9972 - helper_output_loss: 0.8802 - output_mean_absolute_error: 0.7674 - helper_output_mean_absolute_error: 0.8802 - val_loss: 0.9526 - val_output_loss: 0.9733 - val_helper_output_loss: 0.8700 - val_output_mean_absolute_error: 0.7651 - val_helper_output_mean_absolute_error: 0.8700\n",
      "Epoch 3/40\n",
      "359/363 [============================>.] - ETA: 0s - loss: 0.9749 - output_loss: 0.9986 - helper_output_loss: 0.8800 - output_mean_absolute_error: 0.7666 - helper_output_mean_absolute_error: 0.88000.9541342258453369 ______$$____\n",
      "363/363 [==============================] - 6s 16ms/step - loss: 0.9770 - output_loss: 1.0012 - helper_output_loss: 0.8802 - output_mean_absolute_error: 0.7676 - helper_output_mean_absolute_error: 0.8802 - val_loss: 0.9541 - val_output_loss: 0.9752 - val_helper_output_loss: 0.8700 - val_output_mean_absolute_error: 0.7676 - val_helper_output_mean_absolute_error: 0.8700\n",
      "Epoch 4/40\n",
      "363/363 [==============================] - ETA: 0s - loss: 0.9768 - output_loss: 1.0010 - helper_output_loss: 0.8802 - output_mean_absolute_error: 0.7688 - helper_output_mean_absolute_error: 0.88020.9522344470024109 ______$$____\n",
      "363/363 [==============================] - 6s 16ms/step - loss: 0.9768 - output_loss: 1.0010 - helper_output_loss: 0.8802 - output_mean_absolute_error: 0.7688 - helper_output_mean_absolute_error: 0.8802 - val_loss: 0.9522 - val_output_loss: 0.9728 - val_helper_output_loss: 0.8700 - val_output_mean_absolute_error: 0.7654 - val_helper_output_mean_absolute_error: 0.8700\n",
      "Epoch 5/40\n",
      "362/363 [============================>.] - ETA: 0s - loss: 0.9767 - output_loss: 1.0008 - helper_output_loss: 0.8804 - output_mean_absolute_error: 0.7694 - helper_output_mean_absolute_error: 0.88040.9516990780830383 ______$$____\n",
      "363/363 [==============================] - 7s 19ms/step - loss: 0.9766 - output_loss: 1.0007 - helper_output_loss: 0.8802 - output_mean_absolute_error: 0.7695 - helper_output_mean_absolute_error: 0.8802 - val_loss: 0.9517 - val_output_loss: 0.9721 - val_helper_output_loss: 0.8699 - val_output_mean_absolute_error: 0.7565 - val_helper_output_mean_absolute_error: 0.8699\n",
      "Epoch 6/40\n",
      "348/363 [===========================>..] - ETA: 0s - loss: 0.9714 - output_loss: 0.9948 - helper_output_loss: 0.8778 - output_mean_absolute_error: 0.7641 - helper_output_mean_absolute_error: 0.87780.9655091762542725 ______$$____\n",
      "363/363 [==============================] - 6s 16ms/step - loss: 0.9768 - output_loss: 1.0010 - helper_output_loss: 0.8802 - output_mean_absolute_error: 0.7664 - helper_output_mean_absolute_error: 0.8802 - val_loss: 0.9655 - val_output_loss: 0.9894 - val_helper_output_loss: 0.8699 - val_output_mean_absolute_error: 0.7709 - val_helper_output_mean_absolute_error: 0.8699\n",
      "Epoch 7/40\n",
      "363/363 [==============================] - ETA: 0s - loss: 1.0236 - output_loss: 1.0595 - helper_output_loss: 0.8802 - output_mean_absolute_error: 0.7679 - helper_output_mean_absolute_error: 0.88020.9644495248794556 ______$$____\n",
      "363/363 [==============================] - 1s 4ms/step - loss: 1.0236 - output_loss: 1.0595 - helper_output_loss: 0.8802 - output_mean_absolute_error: 0.7679 - helper_output_mean_absolute_error: 0.8802 - val_loss: 0.9644 - val_output_loss: 0.9881 - val_helper_output_loss: 0.8699 - val_output_mean_absolute_error: 0.7589 - val_helper_output_mean_absolute_error: 0.8699\n",
      "Epoch 8/40\n",
      "359/363 [============================>.] - ETA: 0s - loss: 0.9760 - output_loss: 1.0001 - helper_output_loss: 0.8796 - output_mean_absolute_error: 0.7659 - helper_output_mean_absolute_error: 0.87961.0042952299118042 ______$$____\n",
      "363/363 [==============================] - 2s 5ms/step - loss: 0.9819 - output_loss: 1.0073 - helper_output_loss: 0.8802 - output_mean_absolute_error: 0.7667 - helper_output_mean_absolute_error: 0.8802 - val_loss: 1.0043 - val_output_loss: 1.0379 - val_helper_output_loss: 0.8699 - val_output_mean_absolute_error: 0.7710 - val_helper_output_mean_absolute_error: 0.8699\n",
      "Epoch 9/40\n",
      "354/363 [============================>.] - ETA: 0s - loss: 1.1231 - output_loss: 1.1840 - helper_output_loss: 0.8792 - output_mean_absolute_error: 0.7713 - helper_output_mean_absolute_error: 0.87920.975100576877594 ______$$____\n",
      "363/363 [==============================] - 1s 4ms/step - loss: 1.1194 - output_loss: 1.1792 - helper_output_loss: 0.8802 - output_mean_absolute_error: 0.7707 - helper_output_mean_absolute_error: 0.8802 - val_loss: 0.9751 - val_output_loss: 1.0014 - val_helper_output_loss: 0.8699 - val_output_mean_absolute_error: 0.7662 - val_helper_output_mean_absolute_error: 0.8699\n",
      "Epoch 10/40\n",
      "363/363 [==============================] - ETA: 0s - loss: 1.1427 - output_loss: 1.2083 - helper_output_loss: 0.8802 - output_mean_absolute_error: 0.7755 - helper_output_mean_absolute_error: 0.88020.9720045328140259 ______$$____\n",
      "363/363 [==============================] - 1s 4ms/step - loss: 1.1427 - output_loss: 1.2083 - helper_output_loss: 0.8802 - output_mean_absolute_error: 0.7755 - helper_output_mean_absolute_error: 0.8802 - val_loss: 0.9720 - val_output_loss: 0.9975 - val_helper_output_loss: 0.8699 - val_output_mean_absolute_error: 0.7647 - val_helper_output_mean_absolute_error: 0.8699\n",
      "اند تمام شد مثلا\n"
     ]
    }
   ],
   "source": [
    "history_conc=model_conc.fit(\n",
    "    x=(X_train_s_1 , X_train_s_2 ),\n",
    "    #چون ما دوتا خروجی داریم پس دوتا وای هم داریم \n",
    "    y=(y_train1,y_train1),\n",
    "    epochs=40,\n",
    "    validation_data=  ((X_validaion_s_1 , X_validaion_s_2) ,\n",
    "                      (y_validaion,y_validaion)),\n",
    "    callbacks=[model_Checkpoint_callback,\n",
    "               earlystopping_callback_,\n",
    "               MyCallback_mehr,\n",
    "               tensorboard_callback\n",
    "              ]\n",
    "                )"
   ]
  },
  {
   "cell_type": "code",
   "execution_count": 54,
   "id": "a43804ae-3e32-498e-ba59-2881a59879dc",
   "metadata": {},
   "outputs": [],
   "source": [
    "%load_ext tensorboard"
   ]
  },
  {
   "cell_type": "code",
   "execution_count": 55,
   "id": "06db6aa6-9733-490c-ac09-cb328a932212",
   "metadata": {
    "scrolled": true
   },
   "outputs": [
    {
     "data": {
      "text/html": [
       "\n",
       "      <iframe id=\"tensorboard-frame-bd95707363eb736e\" width=\"100%\" height=\"800\" frameborder=\"0\">\n",
       "      </iframe>\n",
       "      <script>\n",
       "        (function() {\n",
       "          const frame = document.getElementById(\"tensorboard-frame-bd95707363eb736e\");\n",
       "          const url = new URL(\"/\", window.location);\n",
       "          const port = 6006;\n",
       "          if (port) {\n",
       "            url.port = port;\n",
       "          }\n",
       "          frame.src = url;\n",
       "        })();\n",
       "      </script>\n",
       "    "
      ],
      "text/plain": [
       "<IPython.core.display.HTML object>"
      ]
     },
     "metadata": {},
     "output_type": "display_data"
    }
   ],
   "source": [
    "%tensorboard --logdir Downloads/Video/tb_log/callbacks/tb_log_test_2024-12-24_22-05-02"
   ]
  },
  {
   "cell_type": "markdown",
   "id": "1059cbbe-901f-4fb0-92b0-9b3f757b414a",
   "metadata": {},
   "source": [
    "## heperparameters optimization"
   ]
  },
  {
   "cell_type": "code",
   "execution_count": null,
   "id": "ee130681-de89-483e-a675-9a82cc99e207",
   "metadata": {},
   "outputs": [],
   "source": [
    "def ann_model(number_of_hidden_layers=1, number_of_neurons=10, learning_rate=0.01):\n",
    "    model = keras.models.Sequential()\n",
    "    model.add(keras.layers.InputLayer(input_shape=[8]))\n",
    "    for _ in range(number_of_hidden_layers):\n",
    "        model.add(keras.layers.Dense(number_of_neurons, activation='selu'))\n",
    "    model.add(keras.layers.Dense(1))\n",
    "    sgd = keras.optimizers.SGD(learning_rate=learning_rate)\n",
    "    model.compile(loss='mse', optimizer=sgd)\n",
    "    return model"
   ]
  },
  {
   "cell_type": "code",
   "execution_count": null,
   "id": "2611cf71-b717-4cc1-95a0-f954b9f753e5",
   "metadata": {},
   "outputs": [],
   "source": [
    "from scikeras.wrappers import KerasRegressor\n",
    "# Wrap the model with KerasRegressor\n",
    "keras_sikit_learn_regresion = KerasRegressor(model=ann_model)"
   ]
  },
  {
   "cell_type": "markdown",
   "id": "332cfa6e-c22e-4ee7-838b-643ae890afbb",
   "metadata": {},
   "source": [
    "از گرید سرچ رندم هم می توانید استفاده کنید در پایین مثل همانطور که در ماشین لرنینگ داشتیم و میتوانیم بازه تغریف کنیم که بین این اعداد به صورت تصادفی انتخاب کند\n",
    "https://scikit-learn.org/stable/modules/generated/sklearn.model_selection.RandomizedSearchCV.html"
   ]
  },
  {
   "cell_type": "code",
   "execution_count": null,
   "id": "9a147fa4-037f-443d-9b3f-b3a2020ecbda",
   "metadata": {},
   "outputs": [],
   "source": [
    "# Define the parameter grid\n",
    "param_grid = {\n",
    "    'model__number_of_hidden_layers': [1, 3, 5],\n",
    "    'model__number_of_neurons': [50, 100, 150],\n",
    "    'model__learning_rate': [0.001, 0.01, 0.1],\n",
    "}"
   ]
  },
  {
   "cell_type": "code",
   "execution_count": null,
   "id": "82513f6f-1c74-4934-8ce6-06c4d14beffd",
   "metadata": {},
   "outputs": [],
   "source": [
    "# Create the GridSearchCV object\n",
    "keras_sikit_learn_regresion_GS = GridSearchCV(\n",
    "    estimator=keras_sikit_learn_regresion,\n",
    "    param_grid=param_grid,\n",
    "    cv=3\n",
    ")"
   ]
  },
  {
   "cell_type": "code",
   "execution_count": null,
   "id": "2c46d8a1-dd83-4884-88a0-e447db11603a",
   "metadata": {
    "scrolled": true
   },
   "outputs": [
    {
     "name": "stdout",
     "output_type": "stream",
     "text": [
      "Epoch 1/2\n",
      "242/242 [==============================] - 1s 2ms/step - loss: 1.9032 - val_loss: 0.7194\n",
      "Epoch 2/2\n",
      "242/242 [==============================] - 0s 1ms/step - loss: 0.6430 - val_loss: 0.6054\n",
      "121/121 [==============================] - 0s 781us/step\n",
      "Epoch 1/2\n",
      "242/242 [==============================] - 1s 2ms/step - loss: 1.7570 - val_loss: 0.7549\n",
      "Epoch 2/2\n",
      "242/242 [==============================] - 0s 2ms/step - loss: 0.5440 - val_loss: 0.7145\n",
      "121/121 [==============================] - 0s 872us/step\n",
      "Epoch 1/2\n",
      "242/242 [==============================] - 1s 2ms/step - loss: 1.9115 - val_loss: 0.7429\n",
      "Epoch 2/2\n",
      "242/242 [==============================] - 0s 1ms/step - loss: 0.6395 - val_loss: 0.6144\n",
      "121/121 [==============================] - 0s 830us/step\n",
      "Epoch 1/2\n",
      "242/242 [==============================] - 1s 2ms/step - loss: 1.8760 - val_loss: 0.7774\n",
      "Epoch 2/2\n",
      "242/242 [==============================] - 0s 1ms/step - loss: 0.6188 - val_loss: 0.6254\n",
      "121/121 [==============================] - 0s 781us/step\n",
      "Epoch 1/2\n",
      "242/242 [==============================] - 1s 2ms/step - loss: 1.7798 - val_loss: 0.6852\n",
      "Epoch 2/2\n",
      "242/242 [==============================] - 0s 1ms/step - loss: 0.5659 - val_loss: 0.6537\n",
      "121/121 [==============================] - 0s 839us/step\n",
      "Epoch 1/2\n",
      "242/242 [==============================] - 1s 2ms/step - loss: 1.9468 - val_loss: 0.8787\n",
      "Epoch 2/2\n",
      "242/242 [==============================] - 0s 1ms/step - loss: 0.6910 - val_loss: 0.6829\n",
      "121/121 [==============================] - 0s 797us/step\n",
      "Epoch 1/2\n",
      "242/242 [==============================] - 1s 2ms/step - loss: 1.8535 - val_loss: 0.8887\n",
      "Epoch 2/2\n",
      "242/242 [==============================] - 0s 1ms/step - loss: 0.6944 - val_loss: 0.7315\n",
      "121/121 [==============================] - 0s 839us/step\n",
      "Epoch 1/2\n",
      "242/242 [==============================] - 1s 2ms/step - loss: 1.6595 - val_loss: 0.7159\n",
      "Epoch 2/2\n",
      "242/242 [==============================] - 0s 1ms/step - loss: 0.5587 - val_loss: 0.7060\n",
      "121/121 [==============================] - 0s 788us/step\n",
      "Epoch 1/2\n",
      "242/242 [==============================] - 1s 2ms/step - loss: 1.6331 - val_loss: 0.6429\n",
      "Epoch 2/2\n",
      "242/242 [==============================] - 0s 1ms/step - loss: 0.5978 - val_loss: 0.5848\n",
      "121/121 [==============================] - 0s 747us/step\n",
      "Epoch 1/2\n",
      "242/242 [==============================] - 1s 2ms/step - loss: 1.2685 - val_loss: 0.6552\n",
      "Epoch 2/2\n",
      "242/242 [==============================] - 0s 1ms/step - loss: 0.5547 - val_loss: 0.5389\n",
      "121/121 [==============================] - 0s 756us/step\n",
      "Epoch 1/2\n",
      "242/242 [==============================] - 1s 2ms/step - loss: 1.3629 - val_loss: 0.8558\n",
      "Epoch 2/2\n",
      "242/242 [==============================] - 0s 1ms/step - loss: 0.5724 - val_loss: 0.7454\n",
      "121/121 [==============================] - 0s 764us/step\n",
      "Epoch 1/2\n",
      "242/242 [==============================] - 1s 2ms/step - loss: 0.9032 - val_loss: 0.5614\n",
      "Epoch 2/2\n",
      "242/242 [==============================] - 0s 1ms/step - loss: 0.5349 - val_loss: 0.5105\n",
      "121/121 [==============================] - 0s 772us/step\n",
      "Epoch 1/2\n",
      "242/242 [==============================] - 1s 2ms/step - loss: 0.8276 - val_loss: 0.5519\n",
      "Epoch 2/2\n",
      "242/242 [==============================] - 0s 2ms/step - loss: 0.5026 - val_loss: 0.5168\n",
      "121/121 [==============================] - 0s 864us/step\n",
      "Epoch 1/2\n",
      "242/242 [==============================] - 1s 2ms/step - loss: 0.9660 - val_loss: 0.7007\n",
      "Epoch 2/2\n",
      "242/242 [==============================] - 0s 2ms/step - loss: 0.5080 - val_loss: 0.7177\n",
      "121/121 [==============================] - 0s 855us/step\n",
      "Epoch 1/2\n",
      "242/242 [==============================] - 1s 2ms/step - loss: 0.9348 - val_loss: 0.5239\n",
      "Epoch 2/2\n",
      "242/242 [==============================] - 0s 2ms/step - loss: 0.4962 - val_loss: 0.4842\n",
      "121/121 [==============================] - 0s 855us/step\n",
      "Epoch 1/2\n",
      "242/242 [==============================] - 1s 2ms/step - loss: 0.8477 - val_loss: 0.6350\n",
      "Epoch 2/2\n",
      "242/242 [==============================] - 0s 2ms/step - loss: 0.5511 - val_loss: 0.5098\n",
      "121/121 [==============================] - 0s 897us/step\n",
      "Epoch 1/2\n",
      "242/242 [==============================] - 1s 2ms/step - loss: 0.9106 - val_loss: 0.5921\n",
      "Epoch 2/2\n",
      "242/242 [==============================] - 0s 2ms/step - loss: 0.4969 - val_loss: 0.6171\n",
      "121/121 [==============================] - 0s 905us/step\n",
      "Epoch 1/2\n",
      "242/242 [==============================] - 1s 2ms/step - loss: 0.9205 - val_loss: 0.5630\n",
      "Epoch 2/2\n",
      "242/242 [==============================] - 0s 2ms/step - loss: 0.5168 - val_loss: 0.4920\n",
      "121/121 [==============================] - 0s 913us/step\n",
      "Epoch 1/2\n",
      "242/242 [==============================] - 1s 2ms/step - loss: 0.8256 - val_loss: 0.5320\n",
      "Epoch 2/2\n",
      "242/242 [==============================] - 0s 2ms/step - loss: 0.4873 - val_loss: 0.4782\n",
      "121/121 [==============================] - 0s 864us/step\n",
      "Epoch 1/2\n",
      "242/242 [==============================] - 1s 2ms/step - loss: 0.9108 - val_loss: 0.5895\n",
      "Epoch 2/2\n",
      "242/242 [==============================] - 0s 2ms/step - loss: 0.5262 - val_loss: 0.5393\n",
      "121/121 [==============================] - 0s 846us/step\n",
      "Epoch 1/2\n",
      "242/242 [==============================] - 1s 2ms/step - loss: 0.7821 - val_loss: 0.5613\n",
      "Epoch 2/2\n",
      "242/242 [==============================] - 0s 2ms/step - loss: 0.5119 - val_loss: 0.5054\n",
      "121/121 [==============================] - 0s 839us/step\n",
      "Epoch 1/2\n",
      "242/242 [==============================] - 1s 2ms/step - loss: 0.7279 - val_loss: 0.5044\n",
      "Epoch 2/2\n",
      "242/242 [==============================] - 0s 2ms/step - loss: 0.4492 - val_loss: 0.4608\n",
      "121/121 [==============================] - 0s 988us/step\n",
      "Epoch 1/2\n",
      "242/242 [==============================] - 1s 2ms/step - loss: 0.6604 - val_loss: 0.5314\n",
      "Epoch 2/2\n",
      "242/242 [==============================] - 0s 2ms/step - loss: 0.4514 - val_loss: 0.4975\n",
      "121/121 [==============================] - 0s 988us/step\n",
      "Epoch 1/2\n",
      "242/242 [==============================] - 1s 2ms/step - loss: 0.6930 - val_loss: 0.4710\n",
      "Epoch 2/2\n",
      "242/242 [==============================] - 0s 2ms/step - loss: 0.4541 - val_loss: 0.4420\n",
      "121/121 [==============================] - 0s 988us/step\n",
      "Epoch 1/2\n",
      "242/242 [==============================] - 1s 3ms/step - loss: 0.6525 - val_loss: 0.4903\n",
      "Epoch 2/2\n",
      "242/242 [==============================] - 1s 2ms/step - loss: 0.4498 - val_loss: 0.4581\n",
      "121/121 [==============================] - 0s 1ms/step\n",
      "Epoch 1/2\n",
      "242/242 [==============================] - 1s 3ms/step - loss: 0.7204 - val_loss: 0.5101\n",
      "Epoch 2/2\n",
      "242/242 [==============================] - 1s 2ms/step - loss: 0.4589 - val_loss: 0.4560\n",
      "121/121 [==============================] - 0s 1ms/step\n",
      "Epoch 1/2\n",
      "242/242 [==============================] - 1s 3ms/step - loss: 0.7153 - val_loss: 0.4942\n",
      "Epoch 2/2\n",
      "242/242 [==============================] - 1s 2ms/step - loss: 0.4636 - val_loss: 0.4488\n",
      "121/121 [==============================] - 0s 1ms/step\n",
      "Epoch 1/2\n",
      "242/242 [==============================] - 1s 2ms/step - loss: 0.9999 - val_loss: 6.8489\n",
      "Epoch 2/2\n",
      "242/242 [==============================] - 0s 1ms/step - loss: 73.5848 - val_loss: 1.0321\n",
      "121/121 [==============================] - 0s 772us/step\n",
      "Epoch 1/2\n",
      "242/242 [==============================] - 1s 2ms/step - loss: 0.8313 - val_loss: 0.7189\n",
      "Epoch 2/2\n",
      "242/242 [==============================] - 0s 1ms/step - loss: 0.5057 - val_loss: 0.8096\n",
      "121/121 [==============================] - 0s 739us/step\n",
      "Epoch 1/2\n",
      "242/242 [==============================] - 1s 2ms/step - loss: 0.8518 - val_loss: 12.4076\n",
      "Epoch 2/2\n",
      "242/242 [==============================] - 0s 1ms/step - loss: 3.0011 - val_loss: 51.8196\n",
      "121/121 [==============================] - 0s 689us/step\n",
      "Epoch 1/2\n",
      "242/242 [==============================] - 1s 2ms/step - loss: 1.0695 - val_loss: 4.2137\n",
      "Epoch 2/2\n",
      "242/242 [==============================] - 0s 1ms/step - loss: 3.2020 - val_loss: 357.5176\n",
      "121/121 [==============================] - 0s 797us/step\n",
      "Epoch 1/2\n",
      "242/242 [==============================] - 1s 2ms/step - loss: 0.6946 - val_loss: 0.7932\n",
      "Epoch 2/2\n",
      "242/242 [==============================] - 0s 1ms/step - loss: 0.5402 - val_loss: 0.7536\n",
      "121/121 [==============================] - 0s 781us/step\n",
      "Epoch 1/2\n",
      "242/242 [==============================] - 1s 2ms/step - loss: 1.0361 - val_loss: 1.3053\n",
      "Epoch 2/2\n",
      "242/242 [==============================] - 0s 1ms/step - loss: 1.1119 - val_loss: 29.6341\n",
      "121/121 [==============================] - 0s 805us/step\n",
      "Epoch 1/2\n",
      "242/242 [==============================] - 1s 2ms/step - loss: 1.0317 - val_loss: 16.2241\n",
      "Epoch 2/2\n",
      "242/242 [==============================] - 0s 1ms/step - loss: nan - val_loss: nan \n",
      "121/121 [==============================] - 0s 864us/step\n",
      "Epoch 1/2\n"
     ]
    },
    {
     "name": "stderr",
     "output_type": "stream",
     "text": [
      "D:\\anacoda\\envs\\a.i\\lib\\site-packages\\sklearn\\model_selection\\_validation.py:821: UserWarning: Scoring failed. The score on this train-test partition for these parameters will be set to nan. Details: \n",
      "Traceback (most recent call last):\n",
      "  File \"D:\\anacoda\\envs\\a.i\\lib\\site-packages\\sklearn\\model_selection\\_validation.py\", line 810, in _score\n",
      "    scores = scorer(estimator, X_test, y_test)\n",
      "  File \"D:\\anacoda\\envs\\a.i\\lib\\site-packages\\sklearn\\metrics\\_scorer.py\", line 527, in __call__\n",
      "    return estimator.score(*args, **kwargs)\n",
      "  File \"D:\\anacoda\\envs\\a.i\\lib\\site-packages\\scikeras\\wrappers.py\", line 1117, in score\n",
      "    return self.scorer(y, y_pred, sample_weight=sample_weight, **score_args)\n",
      "  File \"D:\\anacoda\\envs\\a.i\\lib\\site-packages\\scikeras\\wrappers.py\", line 1714, in scorer\n",
      "    return sklearn_r2_score(y_true, y_pred, **kwargs)\n",
      "  File \"D:\\anacoda\\envs\\a.i\\lib\\site-packages\\sklearn\\utils\\_param_validation.py\", line 214, in wrapper\n",
      "    return func(*args, **kwargs)\n",
      "  File \"D:\\anacoda\\envs\\a.i\\lib\\site-packages\\sklearn\\metrics\\_regression.py\", line 989, in r2_score\n",
      "    y_type, y_true, y_pred, multioutput = _check_reg_targets(\n",
      "  File \"D:\\anacoda\\envs\\a.i\\lib\\site-packages\\sklearn\\metrics\\_regression.py\", line 101, in _check_reg_targets\n",
      "    y_pred = check_array(y_pred, ensure_2d=False, dtype=dtype)\n",
      "  File \"D:\\anacoda\\envs\\a.i\\lib\\site-packages\\sklearn\\utils\\validation.py\", line 957, in check_array\n",
      "    _assert_all_finite(\n",
      "  File \"D:\\anacoda\\envs\\a.i\\lib\\site-packages\\sklearn\\utils\\validation.py\", line 122, in _assert_all_finite\n",
      "    _assert_all_finite_element_wise(\n",
      "  File \"D:\\anacoda\\envs\\a.i\\lib\\site-packages\\sklearn\\utils\\validation.py\", line 171, in _assert_all_finite_element_wise\n",
      "    raise ValueError(msg_err)\n",
      "ValueError: Input contains NaN.\n",
      "\n",
      "  warnings.warn(\n"
     ]
    },
    {
     "name": "stdout",
     "output_type": "stream",
     "text": [
      "242/242 [==============================] - 1s 2ms/step - loss: 0.6543 - val_loss: 0.6017\n",
      "Epoch 2/2\n",
      "242/242 [==============================] - 0s 1ms/step - loss: 0.5381 - val_loss: 0.9744\n",
      "121/121 [==============================] - 0s 781us/step\n",
      "Epoch 1/2\n",
      "242/242 [==============================] - 1s 2ms/step - loss: 1.0937 - val_loss: 18.5310\n",
      "Epoch 2/2\n",
      "242/242 [==============================] - 0s 1ms/step - loss: nan - val_loss: nan\n",
      "121/121 [==============================] - 0s 847us/step\n",
      "Epoch 1/2\n"
     ]
    },
    {
     "name": "stderr",
     "output_type": "stream",
     "text": [
      "D:\\anacoda\\envs\\a.i\\lib\\site-packages\\sklearn\\model_selection\\_validation.py:821: UserWarning: Scoring failed. The score on this train-test partition for these parameters will be set to nan. Details: \n",
      "Traceback (most recent call last):\n",
      "  File \"D:\\anacoda\\envs\\a.i\\lib\\site-packages\\sklearn\\model_selection\\_validation.py\", line 810, in _score\n",
      "    scores = scorer(estimator, X_test, y_test)\n",
      "  File \"D:\\anacoda\\envs\\a.i\\lib\\site-packages\\sklearn\\metrics\\_scorer.py\", line 527, in __call__\n",
      "    return estimator.score(*args, **kwargs)\n",
      "  File \"D:\\anacoda\\envs\\a.i\\lib\\site-packages\\scikeras\\wrappers.py\", line 1117, in score\n",
      "    return self.scorer(y, y_pred, sample_weight=sample_weight, **score_args)\n",
      "  File \"D:\\anacoda\\envs\\a.i\\lib\\site-packages\\scikeras\\wrappers.py\", line 1714, in scorer\n",
      "    return sklearn_r2_score(y_true, y_pred, **kwargs)\n",
      "  File \"D:\\anacoda\\envs\\a.i\\lib\\site-packages\\sklearn\\utils\\_param_validation.py\", line 214, in wrapper\n",
      "    return func(*args, **kwargs)\n",
      "  File \"D:\\anacoda\\envs\\a.i\\lib\\site-packages\\sklearn\\metrics\\_regression.py\", line 989, in r2_score\n",
      "    y_type, y_true, y_pred, multioutput = _check_reg_targets(\n",
      "  File \"D:\\anacoda\\envs\\a.i\\lib\\site-packages\\sklearn\\metrics\\_regression.py\", line 101, in _check_reg_targets\n",
      "    y_pred = check_array(y_pred, ensure_2d=False, dtype=dtype)\n",
      "  File \"D:\\anacoda\\envs\\a.i\\lib\\site-packages\\sklearn\\utils\\validation.py\", line 957, in check_array\n",
      "    _assert_all_finite(\n",
      "  File \"D:\\anacoda\\envs\\a.i\\lib\\site-packages\\sklearn\\utils\\validation.py\", line 122, in _assert_all_finite\n",
      "    _assert_all_finite_element_wise(\n",
      "  File \"D:\\anacoda\\envs\\a.i\\lib\\site-packages\\sklearn\\utils\\validation.py\", line 171, in _assert_all_finite_element_wise\n",
      "    raise ValueError(msg_err)\n",
      "ValueError: Input contains NaN.\n",
      "\n",
      "  warnings.warn(\n"
     ]
    },
    {
     "name": "stdout",
     "output_type": "stream",
     "text": [
      "242/242 [==============================] - 1s 2ms/step - loss: 0.6969 - val_loss: 0.5100\n",
      "Epoch 2/2\n",
      "242/242 [==============================] - 0s 1ms/step - loss: 0.5497 - val_loss: 1.8936\n",
      "121/121 [==============================] - 0s 781us/step\n",
      "Epoch 1/2\n",
      "242/242 [==============================] - 1s 2ms/step - loss: 0.5802 - val_loss: 0.6006\n",
      "Epoch 2/2\n",
      "242/242 [==============================] - 0s 1ms/step - loss: 0.5415 - val_loss: 0.4205\n",
      "121/121 [==============================] - 0s 755us/step\n",
      "Epoch 1/2\n",
      "242/242 [==============================] - 1s 2ms/step - loss: 0.7051 - val_loss: 0.8404\n",
      "Epoch 2/2\n",
      "242/242 [==============================] - 0s 1ms/step - loss: 0.7873 - val_loss: 0.4631\n",
      "121/121 [==============================] - 0s 781us/step\n",
      "Epoch 1/2\n",
      "242/242 [==============================] - 1s 2ms/step - loss: 0.8365 - val_loss: 0.9989\n",
      "Epoch 2/2\n",
      "242/242 [==============================] - 0s 2ms/step - loss: nan - val_loss: nan\n",
      "121/121 [==============================] - 0s 822us/step\n",
      "Epoch 1/2\n"
     ]
    },
    {
     "name": "stderr",
     "output_type": "stream",
     "text": [
      "D:\\anacoda\\envs\\a.i\\lib\\site-packages\\sklearn\\model_selection\\_validation.py:821: UserWarning: Scoring failed. The score on this train-test partition for these parameters will be set to nan. Details: \n",
      "Traceback (most recent call last):\n",
      "  File \"D:\\anacoda\\envs\\a.i\\lib\\site-packages\\sklearn\\model_selection\\_validation.py\", line 810, in _score\n",
      "    scores = scorer(estimator, X_test, y_test)\n",
      "  File \"D:\\anacoda\\envs\\a.i\\lib\\site-packages\\sklearn\\metrics\\_scorer.py\", line 527, in __call__\n",
      "    return estimator.score(*args, **kwargs)\n",
      "  File \"D:\\anacoda\\envs\\a.i\\lib\\site-packages\\scikeras\\wrappers.py\", line 1117, in score\n",
      "    return self.scorer(y, y_pred, sample_weight=sample_weight, **score_args)\n",
      "  File \"D:\\anacoda\\envs\\a.i\\lib\\site-packages\\scikeras\\wrappers.py\", line 1714, in scorer\n",
      "    return sklearn_r2_score(y_true, y_pred, **kwargs)\n",
      "  File \"D:\\anacoda\\envs\\a.i\\lib\\site-packages\\sklearn\\utils\\_param_validation.py\", line 214, in wrapper\n",
      "    return func(*args, **kwargs)\n",
      "  File \"D:\\anacoda\\envs\\a.i\\lib\\site-packages\\sklearn\\metrics\\_regression.py\", line 989, in r2_score\n",
      "    y_type, y_true, y_pred, multioutput = _check_reg_targets(\n",
      "  File \"D:\\anacoda\\envs\\a.i\\lib\\site-packages\\sklearn\\metrics\\_regression.py\", line 101, in _check_reg_targets\n",
      "    y_pred = check_array(y_pred, ensure_2d=False, dtype=dtype)\n",
      "  File \"D:\\anacoda\\envs\\a.i\\lib\\site-packages\\sklearn\\utils\\validation.py\", line 957, in check_array\n",
      "    _assert_all_finite(\n",
      "  File \"D:\\anacoda\\envs\\a.i\\lib\\site-packages\\sklearn\\utils\\validation.py\", line 122, in _assert_all_finite\n",
      "    _assert_all_finite_element_wise(\n",
      "  File \"D:\\anacoda\\envs\\a.i\\lib\\site-packages\\sklearn\\utils\\validation.py\", line 171, in _assert_all_finite_element_wise\n",
      "    raise ValueError(msg_err)\n",
      "ValueError: Input contains NaN.\n",
      "\n",
      "  warnings.warn(\n"
     ]
    },
    {
     "name": "stdout",
     "output_type": "stream",
     "text": [
      "242/242 [==============================] - 1s 2ms/step - loss: 0.5698 - val_loss: 0.5549\n",
      "Epoch 2/2\n",
      "242/242 [==============================] - 0s 2ms/step - loss: 0.4742 - val_loss: 0.5798\n",
      "121/121 [==============================] - 0s 847us/step\n",
      "Epoch 1/2\n",
      "242/242 [==============================] - 1s 2ms/step - loss: 0.7301 - val_loss: 0.5130\n",
      "Epoch 2/2\n",
      "242/242 [==============================] - 0s 1ms/step - loss: 0.4797 - val_loss: 0.7793\n",
      "121/121 [==============================] - 0s 788us/step\n",
      "Epoch 1/2\n",
      "242/242 [==============================] - 1s 2ms/step - loss: 0.7895 - val_loss: 1.2955\n",
      "Epoch 2/2\n",
      "242/242 [==============================] - 0s 2ms/step - loss: nan - val_loss: nan\n",
      "121/121 [==============================] - 0s 896us/step\n",
      "Epoch 1/2\n"
     ]
    },
    {
     "name": "stderr",
     "output_type": "stream",
     "text": [
      "D:\\anacoda\\envs\\a.i\\lib\\site-packages\\sklearn\\model_selection\\_validation.py:821: UserWarning: Scoring failed. The score on this train-test partition for these parameters will be set to nan. Details: \n",
      "Traceback (most recent call last):\n",
      "  File \"D:\\anacoda\\envs\\a.i\\lib\\site-packages\\sklearn\\model_selection\\_validation.py\", line 810, in _score\n",
      "    scores = scorer(estimator, X_test, y_test)\n",
      "  File \"D:\\anacoda\\envs\\a.i\\lib\\site-packages\\sklearn\\metrics\\_scorer.py\", line 527, in __call__\n",
      "    return estimator.score(*args, **kwargs)\n",
      "  File \"D:\\anacoda\\envs\\a.i\\lib\\site-packages\\scikeras\\wrappers.py\", line 1117, in score\n",
      "    return self.scorer(y, y_pred, sample_weight=sample_weight, **score_args)\n",
      "  File \"D:\\anacoda\\envs\\a.i\\lib\\site-packages\\scikeras\\wrappers.py\", line 1714, in scorer\n",
      "    return sklearn_r2_score(y_true, y_pred, **kwargs)\n",
      "  File \"D:\\anacoda\\envs\\a.i\\lib\\site-packages\\sklearn\\utils\\_param_validation.py\", line 214, in wrapper\n",
      "    return func(*args, **kwargs)\n",
      "  File \"D:\\anacoda\\envs\\a.i\\lib\\site-packages\\sklearn\\metrics\\_regression.py\", line 989, in r2_score\n",
      "    y_type, y_true, y_pred, multioutput = _check_reg_targets(\n",
      "  File \"D:\\anacoda\\envs\\a.i\\lib\\site-packages\\sklearn\\metrics\\_regression.py\", line 101, in _check_reg_targets\n",
      "    y_pred = check_array(y_pred, ensure_2d=False, dtype=dtype)\n",
      "  File \"D:\\anacoda\\envs\\a.i\\lib\\site-packages\\sklearn\\utils\\validation.py\", line 957, in check_array\n",
      "    _assert_all_finite(\n",
      "  File \"D:\\anacoda\\envs\\a.i\\lib\\site-packages\\sklearn\\utils\\validation.py\", line 122, in _assert_all_finite\n",
      "    _assert_all_finite_element_wise(\n",
      "  File \"D:\\anacoda\\envs\\a.i\\lib\\site-packages\\sklearn\\utils\\validation.py\", line 171, in _assert_all_finite_element_wise\n",
      "    raise ValueError(msg_err)\n",
      "ValueError: Input contains NaN.\n",
      "\n",
      "  warnings.warn(\n"
     ]
    },
    {
     "name": "stdout",
     "output_type": "stream",
     "text": [
      "242/242 [==============================] - 1s 2ms/step - loss: 0.5813 - val_loss: 0.5820\n",
      "Epoch 2/2\n",
      "242/242 [==============================] - 0s 2ms/step - loss: 0.4658 - val_loss: 0.6363\n",
      "121/121 [==============================] - 0s 897us/step\n",
      "Epoch 1/2\n",
      "242/242 [==============================] - 1s 2ms/step - loss: 0.7401 - val_loss: 0.4736\n",
      "Epoch 2/2\n",
      "242/242 [==============================] - 0s 2ms/step - loss: 0.5716 - val_loss: 1.2286\n",
      "121/121 [==============================] - 0s 939us/step\n",
      "Epoch 1/2\n",
      "242/242 [==============================] - 1s 2ms/step - loss: 0.6017 - val_loss: 0.6380\n",
      "Epoch 2/2\n",
      "242/242 [==============================] - 0s 2ms/step - loss: 0.4371 - val_loss: 0.4531\n",
      "121/121 [==============================] - 0s 831us/step\n",
      "Epoch 1/2\n",
      "242/242 [==============================] - 1s 2ms/step - loss: 0.5650 - val_loss: 0.6685\n",
      "Epoch 2/2\n",
      "242/242 [==============================] - 0s 2ms/step - loss: 0.4267 - val_loss: 0.4036\n",
      "121/121 [==============================] - 0s 822us/step\n",
      "Epoch 1/2\n",
      "242/242 [==============================] - 1s 2ms/step - loss: 0.6836 - val_loss: 0.4981\n",
      "Epoch 2/2\n",
      "242/242 [==============================] - 0s 2ms/step - loss: 0.4381 - val_loss: 0.4049\n",
      "121/121 [==============================] - 0s 840us/step\n",
      "Epoch 1/2\n",
      "242/242 [==============================] - 1s 2ms/step - loss: 0.6516 - val_loss: 0.4295\n",
      "Epoch 2/2\n",
      "242/242 [==============================] - 0s 2ms/step - loss: 0.4330 - val_loss: 0.4282\n",
      "121/121 [==============================] - 0s 981us/step\n",
      "Epoch 1/2\n",
      "242/242 [==============================] - 1s 2ms/step - loss: 0.6254 - val_loss: 0.5976\n",
      "Epoch 2/2\n",
      "242/242 [==============================] - 0s 2ms/step - loss: 0.4419 - val_loss: 0.6290\n",
      "121/121 [==============================] - 0s 930us/step\n",
      "Epoch 1/2\n",
      "242/242 [==============================] - 1s 2ms/step - loss: 0.6456 - val_loss: 0.4708\n",
      "Epoch 2/2\n",
      "242/242 [==============================] - 0s 2ms/step - loss: 0.4788 - val_loss: 0.4964\n",
      "121/121 [==============================] - 0s 955us/step\n",
      "Epoch 1/2\n",
      "242/242 [==============================] - 1s 3ms/step - loss: 0.6623 - val_loss: 0.4225\n",
      "Epoch 2/2\n",
      "242/242 [==============================] - 1s 2ms/step - loss: 0.4381 - val_loss: 0.4386\n",
      "121/121 [==============================] - 0s 1ms/step\n",
      "Epoch 1/2\n",
      "242/242 [==============================] - 1s 3ms/step - loss: 0.7039 - val_loss: 0.5585\n",
      "Epoch 2/2\n",
      "242/242 [==============================] - 1s 2ms/step - loss: 0.4427 - val_loss: 0.4674\n",
      "121/121 [==============================] - 0s 1ms/step\n",
      "Epoch 1/2\n",
      "242/242 [==============================] - 1s 3ms/step - loss: 0.6503 - val_loss: 0.4370\n",
      "Epoch 2/2\n",
      "242/242 [==============================] - 1s 2ms/step - loss: 0.4483 - val_loss: 0.4802\n",
      "121/121 [==============================] - 0s 1ms/step\n",
      "Epoch 1/2\n",
      "242/242 [==============================] - 1s 2ms/step - loss: nan - val_loss: nan\n",
      "Epoch 2/2\n",
      "242/242 [==============================] - 0s 1ms/step - loss: nan - val_loss: nan\n",
      "121/121 [==============================] - 0s 764us/step\n",
      "Epoch 1/2\n"
     ]
    },
    {
     "name": "stderr",
     "output_type": "stream",
     "text": [
      "D:\\anacoda\\envs\\a.i\\lib\\site-packages\\sklearn\\model_selection\\_validation.py:821: UserWarning: Scoring failed. The score on this train-test partition for these parameters will be set to nan. Details: \n",
      "Traceback (most recent call last):\n",
      "  File \"D:\\anacoda\\envs\\a.i\\lib\\site-packages\\sklearn\\model_selection\\_validation.py\", line 810, in _score\n",
      "    scores = scorer(estimator, X_test, y_test)\n",
      "  File \"D:\\anacoda\\envs\\a.i\\lib\\site-packages\\sklearn\\metrics\\_scorer.py\", line 527, in __call__\n",
      "    return estimator.score(*args, **kwargs)\n",
      "  File \"D:\\anacoda\\envs\\a.i\\lib\\site-packages\\scikeras\\wrappers.py\", line 1117, in score\n",
      "    return self.scorer(y, y_pred, sample_weight=sample_weight, **score_args)\n",
      "  File \"D:\\anacoda\\envs\\a.i\\lib\\site-packages\\scikeras\\wrappers.py\", line 1714, in scorer\n",
      "    return sklearn_r2_score(y_true, y_pred, **kwargs)\n",
      "  File \"D:\\anacoda\\envs\\a.i\\lib\\site-packages\\sklearn\\utils\\_param_validation.py\", line 214, in wrapper\n",
      "    return func(*args, **kwargs)\n",
      "  File \"D:\\anacoda\\envs\\a.i\\lib\\site-packages\\sklearn\\metrics\\_regression.py\", line 989, in r2_score\n",
      "    y_type, y_true, y_pred, multioutput = _check_reg_targets(\n",
      "  File \"D:\\anacoda\\envs\\a.i\\lib\\site-packages\\sklearn\\metrics\\_regression.py\", line 101, in _check_reg_targets\n",
      "    y_pred = check_array(y_pred, ensure_2d=False, dtype=dtype)\n",
      "  File \"D:\\anacoda\\envs\\a.i\\lib\\site-packages\\sklearn\\utils\\validation.py\", line 957, in check_array\n",
      "    _assert_all_finite(\n",
      "  File \"D:\\anacoda\\envs\\a.i\\lib\\site-packages\\sklearn\\utils\\validation.py\", line 122, in _assert_all_finite\n",
      "    _assert_all_finite_element_wise(\n",
      "  File \"D:\\anacoda\\envs\\a.i\\lib\\site-packages\\sklearn\\utils\\validation.py\", line 171, in _assert_all_finite_element_wise\n",
      "    raise ValueError(msg_err)\n",
      "ValueError: Input contains NaN.\n",
      "\n",
      "  warnings.warn(\n"
     ]
    },
    {
     "name": "stdout",
     "output_type": "stream",
     "text": [
      "242/242 [==============================] - 1s 2ms/step - loss: nan - val_loss: nan\n",
      "Epoch 2/2\n",
      "242/242 [==============================] - 0s 1ms/step - loss: nan - val_loss: nan\n",
      "121/121 [==============================] - 0s 797us/step\n",
      "Epoch 1/2\n"
     ]
    },
    {
     "name": "stderr",
     "output_type": "stream",
     "text": [
      "D:\\anacoda\\envs\\a.i\\lib\\site-packages\\sklearn\\model_selection\\_validation.py:821: UserWarning: Scoring failed. The score on this train-test partition for these parameters will be set to nan. Details: \n",
      "Traceback (most recent call last):\n",
      "  File \"D:\\anacoda\\envs\\a.i\\lib\\site-packages\\sklearn\\model_selection\\_validation.py\", line 810, in _score\n",
      "    scores = scorer(estimator, X_test, y_test)\n",
      "  File \"D:\\anacoda\\envs\\a.i\\lib\\site-packages\\sklearn\\metrics\\_scorer.py\", line 527, in __call__\n",
      "    return estimator.score(*args, **kwargs)\n",
      "  File \"D:\\anacoda\\envs\\a.i\\lib\\site-packages\\scikeras\\wrappers.py\", line 1117, in score\n",
      "    return self.scorer(y, y_pred, sample_weight=sample_weight, **score_args)\n",
      "  File \"D:\\anacoda\\envs\\a.i\\lib\\site-packages\\scikeras\\wrappers.py\", line 1714, in scorer\n",
      "    return sklearn_r2_score(y_true, y_pred, **kwargs)\n",
      "  File \"D:\\anacoda\\envs\\a.i\\lib\\site-packages\\sklearn\\utils\\_param_validation.py\", line 214, in wrapper\n",
      "    return func(*args, **kwargs)\n",
      "  File \"D:\\anacoda\\envs\\a.i\\lib\\site-packages\\sklearn\\metrics\\_regression.py\", line 989, in r2_score\n",
      "    y_type, y_true, y_pred, multioutput = _check_reg_targets(\n",
      "  File \"D:\\anacoda\\envs\\a.i\\lib\\site-packages\\sklearn\\metrics\\_regression.py\", line 101, in _check_reg_targets\n",
      "    y_pred = check_array(y_pred, ensure_2d=False, dtype=dtype)\n",
      "  File \"D:\\anacoda\\envs\\a.i\\lib\\site-packages\\sklearn\\utils\\validation.py\", line 957, in check_array\n",
      "    _assert_all_finite(\n",
      "  File \"D:\\anacoda\\envs\\a.i\\lib\\site-packages\\sklearn\\utils\\validation.py\", line 122, in _assert_all_finite\n",
      "    _assert_all_finite_element_wise(\n",
      "  File \"D:\\anacoda\\envs\\a.i\\lib\\site-packages\\sklearn\\utils\\validation.py\", line 171, in _assert_all_finite_element_wise\n",
      "    raise ValueError(msg_err)\n",
      "ValueError: Input contains NaN.\n",
      "\n",
      "  warnings.warn(\n"
     ]
    },
    {
     "name": "stdout",
     "output_type": "stream",
     "text": [
      "242/242 [==============================] - 1s 2ms/step - loss: nan - val_loss: nan\n",
      "Epoch 2/2\n",
      "242/242 [==============================] - 0s 1ms/step - loss: nan - val_loss: nan\n",
      "121/121 [==============================] - 0s 772us/step\n",
      "Epoch 1/2\n"
     ]
    },
    {
     "name": "stderr",
     "output_type": "stream",
     "text": [
      "D:\\anacoda\\envs\\a.i\\lib\\site-packages\\sklearn\\model_selection\\_validation.py:821: UserWarning: Scoring failed. The score on this train-test partition for these parameters will be set to nan. Details: \n",
      "Traceback (most recent call last):\n",
      "  File \"D:\\anacoda\\envs\\a.i\\lib\\site-packages\\sklearn\\model_selection\\_validation.py\", line 810, in _score\n",
      "    scores = scorer(estimator, X_test, y_test)\n",
      "  File \"D:\\anacoda\\envs\\a.i\\lib\\site-packages\\sklearn\\metrics\\_scorer.py\", line 527, in __call__\n",
      "    return estimator.score(*args, **kwargs)\n",
      "  File \"D:\\anacoda\\envs\\a.i\\lib\\site-packages\\scikeras\\wrappers.py\", line 1117, in score\n",
      "    return self.scorer(y, y_pred, sample_weight=sample_weight, **score_args)\n",
      "  File \"D:\\anacoda\\envs\\a.i\\lib\\site-packages\\scikeras\\wrappers.py\", line 1714, in scorer\n",
      "    return sklearn_r2_score(y_true, y_pred, **kwargs)\n",
      "  File \"D:\\anacoda\\envs\\a.i\\lib\\site-packages\\sklearn\\utils\\_param_validation.py\", line 214, in wrapper\n",
      "    return func(*args, **kwargs)\n",
      "  File \"D:\\anacoda\\envs\\a.i\\lib\\site-packages\\sklearn\\metrics\\_regression.py\", line 989, in r2_score\n",
      "    y_type, y_true, y_pred, multioutput = _check_reg_targets(\n",
      "  File \"D:\\anacoda\\envs\\a.i\\lib\\site-packages\\sklearn\\metrics\\_regression.py\", line 101, in _check_reg_targets\n",
      "    y_pred = check_array(y_pred, ensure_2d=False, dtype=dtype)\n",
      "  File \"D:\\anacoda\\envs\\a.i\\lib\\site-packages\\sklearn\\utils\\validation.py\", line 957, in check_array\n",
      "    _assert_all_finite(\n",
      "  File \"D:\\anacoda\\envs\\a.i\\lib\\site-packages\\sklearn\\utils\\validation.py\", line 122, in _assert_all_finite\n",
      "    _assert_all_finite_element_wise(\n",
      "  File \"D:\\anacoda\\envs\\a.i\\lib\\site-packages\\sklearn\\utils\\validation.py\", line 171, in _assert_all_finite_element_wise\n",
      "    raise ValueError(msg_err)\n",
      "ValueError: Input contains NaN.\n",
      "\n",
      "  warnings.warn(\n"
     ]
    },
    {
     "name": "stdout",
     "output_type": "stream",
     "text": [
      "242/242 [==============================] - 1s 2ms/step - loss: nan - val_loss: nan\n",
      "Epoch 2/2\n",
      "242/242 [==============================] - 0s 1ms/step - loss: nan - val_loss: nan\n",
      "121/121 [==============================] - 0s 822us/step\n",
      "Epoch 1/2\n"
     ]
    },
    {
     "name": "stderr",
     "output_type": "stream",
     "text": [
      "D:\\anacoda\\envs\\a.i\\lib\\site-packages\\sklearn\\model_selection\\_validation.py:821: UserWarning: Scoring failed. The score on this train-test partition for these parameters will be set to nan. Details: \n",
      "Traceback (most recent call last):\n",
      "  File \"D:\\anacoda\\envs\\a.i\\lib\\site-packages\\sklearn\\model_selection\\_validation.py\", line 810, in _score\n",
      "    scores = scorer(estimator, X_test, y_test)\n",
      "  File \"D:\\anacoda\\envs\\a.i\\lib\\site-packages\\sklearn\\metrics\\_scorer.py\", line 527, in __call__\n",
      "    return estimator.score(*args, **kwargs)\n",
      "  File \"D:\\anacoda\\envs\\a.i\\lib\\site-packages\\scikeras\\wrappers.py\", line 1117, in score\n",
      "    return self.scorer(y, y_pred, sample_weight=sample_weight, **score_args)\n",
      "  File \"D:\\anacoda\\envs\\a.i\\lib\\site-packages\\scikeras\\wrappers.py\", line 1714, in scorer\n",
      "    return sklearn_r2_score(y_true, y_pred, **kwargs)\n",
      "  File \"D:\\anacoda\\envs\\a.i\\lib\\site-packages\\sklearn\\utils\\_param_validation.py\", line 214, in wrapper\n",
      "    return func(*args, **kwargs)\n",
      "  File \"D:\\anacoda\\envs\\a.i\\lib\\site-packages\\sklearn\\metrics\\_regression.py\", line 989, in r2_score\n",
      "    y_type, y_true, y_pred, multioutput = _check_reg_targets(\n",
      "  File \"D:\\anacoda\\envs\\a.i\\lib\\site-packages\\sklearn\\metrics\\_regression.py\", line 101, in _check_reg_targets\n",
      "    y_pred = check_array(y_pred, ensure_2d=False, dtype=dtype)\n",
      "  File \"D:\\anacoda\\envs\\a.i\\lib\\site-packages\\sklearn\\utils\\validation.py\", line 957, in check_array\n",
      "    _assert_all_finite(\n",
      "  File \"D:\\anacoda\\envs\\a.i\\lib\\site-packages\\sklearn\\utils\\validation.py\", line 122, in _assert_all_finite\n",
      "    _assert_all_finite_element_wise(\n",
      "  File \"D:\\anacoda\\envs\\a.i\\lib\\site-packages\\sklearn\\utils\\validation.py\", line 171, in _assert_all_finite_element_wise\n",
      "    raise ValueError(msg_err)\n",
      "ValueError: Input contains NaN.\n",
      "\n",
      "  warnings.warn(\n"
     ]
    },
    {
     "name": "stdout",
     "output_type": "stream",
     "text": [
      "242/242 [==============================] - 1s 2ms/step - loss: 0.6527 - val_loss: 1.1858\n",
      "Epoch 2/2\n",
      "242/242 [==============================] - 0s 1ms/step - loss: 0.5057 - val_loss: 0.9695\n",
      "121/121 [==============================] - 0s 781us/step\n",
      "Epoch 1/2\n",
      "242/242 [==============================] - 1s 2ms/step - loss: nan - val_loss: nan\n",
      "Epoch 2/2\n",
      "242/242 [==============================] - 0s 1ms/step - loss: nan - val_loss: nan\n",
      "121/121 [==============================] - 0s 798us/step\n",
      "Epoch 1/2\n"
     ]
    },
    {
     "name": "stderr",
     "output_type": "stream",
     "text": [
      "D:\\anacoda\\envs\\a.i\\lib\\site-packages\\sklearn\\model_selection\\_validation.py:821: UserWarning: Scoring failed. The score on this train-test partition for these parameters will be set to nan. Details: \n",
      "Traceback (most recent call last):\n",
      "  File \"D:\\anacoda\\envs\\a.i\\lib\\site-packages\\sklearn\\model_selection\\_validation.py\", line 810, in _score\n",
      "    scores = scorer(estimator, X_test, y_test)\n",
      "  File \"D:\\anacoda\\envs\\a.i\\lib\\site-packages\\sklearn\\metrics\\_scorer.py\", line 527, in __call__\n",
      "    return estimator.score(*args, **kwargs)\n",
      "  File \"D:\\anacoda\\envs\\a.i\\lib\\site-packages\\scikeras\\wrappers.py\", line 1117, in score\n",
      "    return self.scorer(y, y_pred, sample_weight=sample_weight, **score_args)\n",
      "  File \"D:\\anacoda\\envs\\a.i\\lib\\site-packages\\scikeras\\wrappers.py\", line 1714, in scorer\n",
      "    return sklearn_r2_score(y_true, y_pred, **kwargs)\n",
      "  File \"D:\\anacoda\\envs\\a.i\\lib\\site-packages\\sklearn\\utils\\_param_validation.py\", line 214, in wrapper\n",
      "    return func(*args, **kwargs)\n",
      "  File \"D:\\anacoda\\envs\\a.i\\lib\\site-packages\\sklearn\\metrics\\_regression.py\", line 989, in r2_score\n",
      "    y_type, y_true, y_pred, multioutput = _check_reg_targets(\n",
      "  File \"D:\\anacoda\\envs\\a.i\\lib\\site-packages\\sklearn\\metrics\\_regression.py\", line 101, in _check_reg_targets\n",
      "    y_pred = check_array(y_pred, ensure_2d=False, dtype=dtype)\n",
      "  File \"D:\\anacoda\\envs\\a.i\\lib\\site-packages\\sklearn\\utils\\validation.py\", line 957, in check_array\n",
      "    _assert_all_finite(\n",
      "  File \"D:\\anacoda\\envs\\a.i\\lib\\site-packages\\sklearn\\utils\\validation.py\", line 122, in _assert_all_finite\n",
      "    _assert_all_finite_element_wise(\n",
      "  File \"D:\\anacoda\\envs\\a.i\\lib\\site-packages\\sklearn\\utils\\validation.py\", line 171, in _assert_all_finite_element_wise\n",
      "    raise ValueError(msg_err)\n",
      "ValueError: Input contains NaN.\n",
      "\n",
      "  warnings.warn(\n"
     ]
    },
    {
     "name": "stdout",
     "output_type": "stream",
     "text": [
      "242/242 [==============================] - 1s 2ms/step - loss: nan - val_loss: nan\n",
      "Epoch 2/2\n",
      "242/242 [==============================] - 0s 1ms/step - loss: nan - val_loss: nan\n",
      "121/121 [==============================] - 0s 789us/step\n",
      "Epoch 1/2\n"
     ]
    },
    {
     "name": "stderr",
     "output_type": "stream",
     "text": [
      "D:\\anacoda\\envs\\a.i\\lib\\site-packages\\sklearn\\model_selection\\_validation.py:821: UserWarning: Scoring failed. The score on this train-test partition for these parameters will be set to nan. Details: \n",
      "Traceback (most recent call last):\n",
      "  File \"D:\\anacoda\\envs\\a.i\\lib\\site-packages\\sklearn\\model_selection\\_validation.py\", line 810, in _score\n",
      "    scores = scorer(estimator, X_test, y_test)\n",
      "  File \"D:\\anacoda\\envs\\a.i\\lib\\site-packages\\sklearn\\metrics\\_scorer.py\", line 527, in __call__\n",
      "    return estimator.score(*args, **kwargs)\n",
      "  File \"D:\\anacoda\\envs\\a.i\\lib\\site-packages\\scikeras\\wrappers.py\", line 1117, in score\n",
      "    return self.scorer(y, y_pred, sample_weight=sample_weight, **score_args)\n",
      "  File \"D:\\anacoda\\envs\\a.i\\lib\\site-packages\\scikeras\\wrappers.py\", line 1714, in scorer\n",
      "    return sklearn_r2_score(y_true, y_pred, **kwargs)\n",
      "  File \"D:\\anacoda\\envs\\a.i\\lib\\site-packages\\sklearn\\utils\\_param_validation.py\", line 214, in wrapper\n",
      "    return func(*args, **kwargs)\n",
      "  File \"D:\\anacoda\\envs\\a.i\\lib\\site-packages\\sklearn\\metrics\\_regression.py\", line 989, in r2_score\n",
      "    y_type, y_true, y_pred, multioutput = _check_reg_targets(\n",
      "  File \"D:\\anacoda\\envs\\a.i\\lib\\site-packages\\sklearn\\metrics\\_regression.py\", line 101, in _check_reg_targets\n",
      "    y_pred = check_array(y_pred, ensure_2d=False, dtype=dtype)\n",
      "  File \"D:\\anacoda\\envs\\a.i\\lib\\site-packages\\sklearn\\utils\\validation.py\", line 957, in check_array\n",
      "    _assert_all_finite(\n",
      "  File \"D:\\anacoda\\envs\\a.i\\lib\\site-packages\\sklearn\\utils\\validation.py\", line 122, in _assert_all_finite\n",
      "    _assert_all_finite_element_wise(\n",
      "  File \"D:\\anacoda\\envs\\a.i\\lib\\site-packages\\sklearn\\utils\\validation.py\", line 171, in _assert_all_finite_element_wise\n",
      "    raise ValueError(msg_err)\n",
      "ValueError: Input contains NaN.\n",
      "\n",
      "  warnings.warn(\n"
     ]
    },
    {
     "name": "stdout",
     "output_type": "stream",
     "text": [
      "242/242 [==============================] - 1s 2ms/step - loss: 0.7021 - val_loss: 0.6287\n",
      "Epoch 2/2\n",
      "242/242 [==============================] - 0s 1ms/step - loss: 0.5109 - val_loss: 1.0937\n",
      "121/121 [==============================] - 0s 722us/step\n",
      "Epoch 1/2\n",
      "242/242 [==============================] - 1s 2ms/step - loss: nan - val_loss: nan\n",
      "Epoch 2/2\n",
      "242/242 [==============================] - 0s 1ms/step - loss: nan - val_loss: nan\n",
      "121/121 [==============================] - 0s 739us/step\n",
      "Epoch 1/2\n"
     ]
    },
    {
     "name": "stderr",
     "output_type": "stream",
     "text": [
      "D:\\anacoda\\envs\\a.i\\lib\\site-packages\\sklearn\\model_selection\\_validation.py:821: UserWarning: Scoring failed. The score on this train-test partition for these parameters will be set to nan. Details: \n",
      "Traceback (most recent call last):\n",
      "  File \"D:\\anacoda\\envs\\a.i\\lib\\site-packages\\sklearn\\model_selection\\_validation.py\", line 810, in _score\n",
      "    scores = scorer(estimator, X_test, y_test)\n",
      "  File \"D:\\anacoda\\envs\\a.i\\lib\\site-packages\\sklearn\\metrics\\_scorer.py\", line 527, in __call__\n",
      "    return estimator.score(*args, **kwargs)\n",
      "  File \"D:\\anacoda\\envs\\a.i\\lib\\site-packages\\scikeras\\wrappers.py\", line 1117, in score\n",
      "    return self.scorer(y, y_pred, sample_weight=sample_weight, **score_args)\n",
      "  File \"D:\\anacoda\\envs\\a.i\\lib\\site-packages\\scikeras\\wrappers.py\", line 1714, in scorer\n",
      "    return sklearn_r2_score(y_true, y_pred, **kwargs)\n",
      "  File \"D:\\anacoda\\envs\\a.i\\lib\\site-packages\\sklearn\\utils\\_param_validation.py\", line 214, in wrapper\n",
      "    return func(*args, **kwargs)\n",
      "  File \"D:\\anacoda\\envs\\a.i\\lib\\site-packages\\sklearn\\metrics\\_regression.py\", line 989, in r2_score\n",
      "    y_type, y_true, y_pred, multioutput = _check_reg_targets(\n",
      "  File \"D:\\anacoda\\envs\\a.i\\lib\\site-packages\\sklearn\\metrics\\_regression.py\", line 101, in _check_reg_targets\n",
      "    y_pred = check_array(y_pred, ensure_2d=False, dtype=dtype)\n",
      "  File \"D:\\anacoda\\envs\\a.i\\lib\\site-packages\\sklearn\\utils\\validation.py\", line 957, in check_array\n",
      "    _assert_all_finite(\n",
      "  File \"D:\\anacoda\\envs\\a.i\\lib\\site-packages\\sklearn\\utils\\validation.py\", line 122, in _assert_all_finite\n",
      "    _assert_all_finite_element_wise(\n",
      "  File \"D:\\anacoda\\envs\\a.i\\lib\\site-packages\\sklearn\\utils\\validation.py\", line 171, in _assert_all_finite_element_wise\n",
      "    raise ValueError(msg_err)\n",
      "ValueError: Input contains NaN.\n",
      "\n",
      "  warnings.warn(\n"
     ]
    },
    {
     "name": "stdout",
     "output_type": "stream",
     "text": [
      "242/242 [==============================] - 1s 2ms/step - loss: nan - val_loss: nan\n",
      "Epoch 2/2\n",
      "242/242 [==============================] - 0s 1ms/step - loss: nan - val_loss: nan\n",
      "121/121 [==============================] - 0s 930us/step\n",
      "Epoch 1/2\n"
     ]
    },
    {
     "name": "stderr",
     "output_type": "stream",
     "text": [
      "D:\\anacoda\\envs\\a.i\\lib\\site-packages\\sklearn\\model_selection\\_validation.py:821: UserWarning: Scoring failed. The score on this train-test partition for these parameters will be set to nan. Details: \n",
      "Traceback (most recent call last):\n",
      "  File \"D:\\anacoda\\envs\\a.i\\lib\\site-packages\\sklearn\\model_selection\\_validation.py\", line 810, in _score\n",
      "    scores = scorer(estimator, X_test, y_test)\n",
      "  File \"D:\\anacoda\\envs\\a.i\\lib\\site-packages\\sklearn\\metrics\\_scorer.py\", line 527, in __call__\n",
      "    return estimator.score(*args, **kwargs)\n",
      "  File \"D:\\anacoda\\envs\\a.i\\lib\\site-packages\\scikeras\\wrappers.py\", line 1117, in score\n",
      "    return self.scorer(y, y_pred, sample_weight=sample_weight, **score_args)\n",
      "  File \"D:\\anacoda\\envs\\a.i\\lib\\site-packages\\scikeras\\wrappers.py\", line 1714, in scorer\n",
      "    return sklearn_r2_score(y_true, y_pred, **kwargs)\n",
      "  File \"D:\\anacoda\\envs\\a.i\\lib\\site-packages\\sklearn\\utils\\_param_validation.py\", line 214, in wrapper\n",
      "    return func(*args, **kwargs)\n",
      "  File \"D:\\anacoda\\envs\\a.i\\lib\\site-packages\\sklearn\\metrics\\_regression.py\", line 989, in r2_score\n",
      "    y_type, y_true, y_pred, multioutput = _check_reg_targets(\n",
      "  File \"D:\\anacoda\\envs\\a.i\\lib\\site-packages\\sklearn\\metrics\\_regression.py\", line 101, in _check_reg_targets\n",
      "    y_pred = check_array(y_pred, ensure_2d=False, dtype=dtype)\n",
      "  File \"D:\\anacoda\\envs\\a.i\\lib\\site-packages\\sklearn\\utils\\validation.py\", line 957, in check_array\n",
      "    _assert_all_finite(\n",
      "  File \"D:\\anacoda\\envs\\a.i\\lib\\site-packages\\sklearn\\utils\\validation.py\", line 122, in _assert_all_finite\n",
      "    _assert_all_finite_element_wise(\n",
      "  File \"D:\\anacoda\\envs\\a.i\\lib\\site-packages\\sklearn\\utils\\validation.py\", line 171, in _assert_all_finite_element_wise\n",
      "    raise ValueError(msg_err)\n",
      "ValueError: Input contains NaN.\n",
      "\n",
      "  warnings.warn(\n"
     ]
    },
    {
     "name": "stdout",
     "output_type": "stream",
     "text": [
      "242/242 [==============================] - 1s 2ms/step - loss: nan - val_loss: nan\n",
      "Epoch 2/2\n",
      "242/242 [==============================] - 0s 1ms/step - loss: nan - val_loss: nan\n",
      "121/121 [==============================] - 0s 864us/step\n",
      "Epoch 1/2\n"
     ]
    },
    {
     "name": "stderr",
     "output_type": "stream",
     "text": [
      "D:\\anacoda\\envs\\a.i\\lib\\site-packages\\sklearn\\model_selection\\_validation.py:821: UserWarning: Scoring failed. The score on this train-test partition for these parameters will be set to nan. Details: \n",
      "Traceback (most recent call last):\n",
      "  File \"D:\\anacoda\\envs\\a.i\\lib\\site-packages\\sklearn\\model_selection\\_validation.py\", line 810, in _score\n",
      "    scores = scorer(estimator, X_test, y_test)\n",
      "  File \"D:\\anacoda\\envs\\a.i\\lib\\site-packages\\sklearn\\metrics\\_scorer.py\", line 527, in __call__\n",
      "    return estimator.score(*args, **kwargs)\n",
      "  File \"D:\\anacoda\\envs\\a.i\\lib\\site-packages\\scikeras\\wrappers.py\", line 1117, in score\n",
      "    return self.scorer(y, y_pred, sample_weight=sample_weight, **score_args)\n",
      "  File \"D:\\anacoda\\envs\\a.i\\lib\\site-packages\\scikeras\\wrappers.py\", line 1714, in scorer\n",
      "    return sklearn_r2_score(y_true, y_pred, **kwargs)\n",
      "  File \"D:\\anacoda\\envs\\a.i\\lib\\site-packages\\sklearn\\utils\\_param_validation.py\", line 214, in wrapper\n",
      "    return func(*args, **kwargs)\n",
      "  File \"D:\\anacoda\\envs\\a.i\\lib\\site-packages\\sklearn\\metrics\\_regression.py\", line 989, in r2_score\n",
      "    y_type, y_true, y_pred, multioutput = _check_reg_targets(\n",
      "  File \"D:\\anacoda\\envs\\a.i\\lib\\site-packages\\sklearn\\metrics\\_regression.py\", line 101, in _check_reg_targets\n",
      "    y_pred = check_array(y_pred, ensure_2d=False, dtype=dtype)\n",
      "  File \"D:\\anacoda\\envs\\a.i\\lib\\site-packages\\sklearn\\utils\\validation.py\", line 957, in check_array\n",
      "    _assert_all_finite(\n",
      "  File \"D:\\anacoda\\envs\\a.i\\lib\\site-packages\\sklearn\\utils\\validation.py\", line 122, in _assert_all_finite\n",
      "    _assert_all_finite_element_wise(\n",
      "  File \"D:\\anacoda\\envs\\a.i\\lib\\site-packages\\sklearn\\utils\\validation.py\", line 171, in _assert_all_finite_element_wise\n",
      "    raise ValueError(msg_err)\n",
      "ValueError: Input contains NaN.\n",
      "\n",
      "  warnings.warn(\n"
     ]
    },
    {
     "name": "stdout",
     "output_type": "stream",
     "text": [
      "242/242 [==============================] - 1s 2ms/step - loss: nan - val_loss: nan\n",
      "Epoch 2/2\n",
      "242/242 [==============================] - 0s 1ms/step - loss: nan - val_loss: nan\n",
      "121/121 [==============================] - 0s 814us/step\n",
      "Epoch 1/2\n"
     ]
    },
    {
     "name": "stderr",
     "output_type": "stream",
     "text": [
      "D:\\anacoda\\envs\\a.i\\lib\\site-packages\\sklearn\\model_selection\\_validation.py:821: UserWarning: Scoring failed. The score on this train-test partition for these parameters will be set to nan. Details: \n",
      "Traceback (most recent call last):\n",
      "  File \"D:\\anacoda\\envs\\a.i\\lib\\site-packages\\sklearn\\model_selection\\_validation.py\", line 810, in _score\n",
      "    scores = scorer(estimator, X_test, y_test)\n",
      "  File \"D:\\anacoda\\envs\\a.i\\lib\\site-packages\\sklearn\\metrics\\_scorer.py\", line 527, in __call__\n",
      "    return estimator.score(*args, **kwargs)\n",
      "  File \"D:\\anacoda\\envs\\a.i\\lib\\site-packages\\scikeras\\wrappers.py\", line 1117, in score\n",
      "    return self.scorer(y, y_pred, sample_weight=sample_weight, **score_args)\n",
      "  File \"D:\\anacoda\\envs\\a.i\\lib\\site-packages\\scikeras\\wrappers.py\", line 1714, in scorer\n",
      "    return sklearn_r2_score(y_true, y_pred, **kwargs)\n",
      "  File \"D:\\anacoda\\envs\\a.i\\lib\\site-packages\\sklearn\\utils\\_param_validation.py\", line 214, in wrapper\n",
      "    return func(*args, **kwargs)\n",
      "  File \"D:\\anacoda\\envs\\a.i\\lib\\site-packages\\sklearn\\metrics\\_regression.py\", line 989, in r2_score\n",
      "    y_type, y_true, y_pred, multioutput = _check_reg_targets(\n",
      "  File \"D:\\anacoda\\envs\\a.i\\lib\\site-packages\\sklearn\\metrics\\_regression.py\", line 101, in _check_reg_targets\n",
      "    y_pred = check_array(y_pred, ensure_2d=False, dtype=dtype)\n",
      "  File \"D:\\anacoda\\envs\\a.i\\lib\\site-packages\\sklearn\\utils\\validation.py\", line 957, in check_array\n",
      "    _assert_all_finite(\n",
      "  File \"D:\\anacoda\\envs\\a.i\\lib\\site-packages\\sklearn\\utils\\validation.py\", line 122, in _assert_all_finite\n",
      "    _assert_all_finite_element_wise(\n",
      "  File \"D:\\anacoda\\envs\\a.i\\lib\\site-packages\\sklearn\\utils\\validation.py\", line 171, in _assert_all_finite_element_wise\n",
      "    raise ValueError(msg_err)\n",
      "ValueError: Input contains NaN.\n",
      "\n",
      "  warnings.warn(\n"
     ]
    },
    {
     "name": "stdout",
     "output_type": "stream",
     "text": [
      "242/242 [==============================] - 1s 2ms/step - loss: nan - val_loss: nan\n",
      "Epoch 2/2\n",
      "242/242 [==============================] - 0s 2ms/step - loss: nan - val_loss: nan\n",
      "121/121 [==============================] - 0s 888us/step\n",
      "Epoch 1/2\n"
     ]
    },
    {
     "name": "stderr",
     "output_type": "stream",
     "text": [
      "D:\\anacoda\\envs\\a.i\\lib\\site-packages\\sklearn\\model_selection\\_validation.py:821: UserWarning: Scoring failed. The score on this train-test partition for these parameters will be set to nan. Details: \n",
      "Traceback (most recent call last):\n",
      "  File \"D:\\anacoda\\envs\\a.i\\lib\\site-packages\\sklearn\\model_selection\\_validation.py\", line 810, in _score\n",
      "    scores = scorer(estimator, X_test, y_test)\n",
      "  File \"D:\\anacoda\\envs\\a.i\\lib\\site-packages\\sklearn\\metrics\\_scorer.py\", line 527, in __call__\n",
      "    return estimator.score(*args, **kwargs)\n",
      "  File \"D:\\anacoda\\envs\\a.i\\lib\\site-packages\\scikeras\\wrappers.py\", line 1117, in score\n",
      "    return self.scorer(y, y_pred, sample_weight=sample_weight, **score_args)\n",
      "  File \"D:\\anacoda\\envs\\a.i\\lib\\site-packages\\scikeras\\wrappers.py\", line 1714, in scorer\n",
      "    return sklearn_r2_score(y_true, y_pred, **kwargs)\n",
      "  File \"D:\\anacoda\\envs\\a.i\\lib\\site-packages\\sklearn\\utils\\_param_validation.py\", line 214, in wrapper\n",
      "    return func(*args, **kwargs)\n",
      "  File \"D:\\anacoda\\envs\\a.i\\lib\\site-packages\\sklearn\\metrics\\_regression.py\", line 989, in r2_score\n",
      "    y_type, y_true, y_pred, multioutput = _check_reg_targets(\n",
      "  File \"D:\\anacoda\\envs\\a.i\\lib\\site-packages\\sklearn\\metrics\\_regression.py\", line 101, in _check_reg_targets\n",
      "    y_pred = check_array(y_pred, ensure_2d=False, dtype=dtype)\n",
      "  File \"D:\\anacoda\\envs\\a.i\\lib\\site-packages\\sklearn\\utils\\validation.py\", line 957, in check_array\n",
      "    _assert_all_finite(\n",
      "  File \"D:\\anacoda\\envs\\a.i\\lib\\site-packages\\sklearn\\utils\\validation.py\", line 122, in _assert_all_finite\n",
      "    _assert_all_finite_element_wise(\n",
      "  File \"D:\\anacoda\\envs\\a.i\\lib\\site-packages\\sklearn\\utils\\validation.py\", line 171, in _assert_all_finite_element_wise\n",
      "    raise ValueError(msg_err)\n",
      "ValueError: Input contains NaN.\n",
      "\n",
      "  warnings.warn(\n"
     ]
    },
    {
     "name": "stdout",
     "output_type": "stream",
     "text": [
      "242/242 [==============================] - 1s 2ms/step - loss: nan - val_loss: nan\n",
      "Epoch 2/2\n",
      "242/242 [==============================] - 0s 2ms/step - loss: nan - val_loss: nan\n",
      "121/121 [==============================] - 0s 864us/step\n",
      "Epoch 1/2\n"
     ]
    },
    {
     "name": "stderr",
     "output_type": "stream",
     "text": [
      "D:\\anacoda\\envs\\a.i\\lib\\site-packages\\sklearn\\model_selection\\_validation.py:821: UserWarning: Scoring failed. The score on this train-test partition for these parameters will be set to nan. Details: \n",
      "Traceback (most recent call last):\n",
      "  File \"D:\\anacoda\\envs\\a.i\\lib\\site-packages\\sklearn\\model_selection\\_validation.py\", line 810, in _score\n",
      "    scores = scorer(estimator, X_test, y_test)\n",
      "  File \"D:\\anacoda\\envs\\a.i\\lib\\site-packages\\sklearn\\metrics\\_scorer.py\", line 527, in __call__\n",
      "    return estimator.score(*args, **kwargs)\n",
      "  File \"D:\\anacoda\\envs\\a.i\\lib\\site-packages\\scikeras\\wrappers.py\", line 1117, in score\n",
      "    return self.scorer(y, y_pred, sample_weight=sample_weight, **score_args)\n",
      "  File \"D:\\anacoda\\envs\\a.i\\lib\\site-packages\\scikeras\\wrappers.py\", line 1714, in scorer\n",
      "    return sklearn_r2_score(y_true, y_pred, **kwargs)\n",
      "  File \"D:\\anacoda\\envs\\a.i\\lib\\site-packages\\sklearn\\utils\\_param_validation.py\", line 214, in wrapper\n",
      "    return func(*args, **kwargs)\n",
      "  File \"D:\\anacoda\\envs\\a.i\\lib\\site-packages\\sklearn\\metrics\\_regression.py\", line 989, in r2_score\n",
      "    y_type, y_true, y_pred, multioutput = _check_reg_targets(\n",
      "  File \"D:\\anacoda\\envs\\a.i\\lib\\site-packages\\sklearn\\metrics\\_regression.py\", line 101, in _check_reg_targets\n",
      "    y_pred = check_array(y_pred, ensure_2d=False, dtype=dtype)\n",
      "  File \"D:\\anacoda\\envs\\a.i\\lib\\site-packages\\sklearn\\utils\\validation.py\", line 957, in check_array\n",
      "    _assert_all_finite(\n",
      "  File \"D:\\anacoda\\envs\\a.i\\lib\\site-packages\\sklearn\\utils\\validation.py\", line 122, in _assert_all_finite\n",
      "    _assert_all_finite_element_wise(\n",
      "  File \"D:\\anacoda\\envs\\a.i\\lib\\site-packages\\sklearn\\utils\\validation.py\", line 171, in _assert_all_finite_element_wise\n",
      "    raise ValueError(msg_err)\n",
      "ValueError: Input contains NaN.\n",
      "\n",
      "  warnings.warn(\n"
     ]
    },
    {
     "name": "stdout",
     "output_type": "stream",
     "text": [
      "242/242 [==============================] - 1s 2ms/step - loss: nan - val_loss: nan\n",
      "Epoch 2/2\n",
      "242/242 [==============================] - 0s 2ms/step - loss: nan - val_loss: nan\n",
      "121/121 [==============================] - 0s 914us/step\n",
      "Epoch 1/2\n"
     ]
    },
    {
     "name": "stderr",
     "output_type": "stream",
     "text": [
      "D:\\anacoda\\envs\\a.i\\lib\\site-packages\\sklearn\\model_selection\\_validation.py:821: UserWarning: Scoring failed. The score on this train-test partition for these parameters will be set to nan. Details: \n",
      "Traceback (most recent call last):\n",
      "  File \"D:\\anacoda\\envs\\a.i\\lib\\site-packages\\sklearn\\model_selection\\_validation.py\", line 810, in _score\n",
      "    scores = scorer(estimator, X_test, y_test)\n",
      "  File \"D:\\anacoda\\envs\\a.i\\lib\\site-packages\\sklearn\\metrics\\_scorer.py\", line 527, in __call__\n",
      "    return estimator.score(*args, **kwargs)\n",
      "  File \"D:\\anacoda\\envs\\a.i\\lib\\site-packages\\scikeras\\wrappers.py\", line 1117, in score\n",
      "    return self.scorer(y, y_pred, sample_weight=sample_weight, **score_args)\n",
      "  File \"D:\\anacoda\\envs\\a.i\\lib\\site-packages\\scikeras\\wrappers.py\", line 1714, in scorer\n",
      "    return sklearn_r2_score(y_true, y_pred, **kwargs)\n",
      "  File \"D:\\anacoda\\envs\\a.i\\lib\\site-packages\\sklearn\\utils\\_param_validation.py\", line 214, in wrapper\n",
      "    return func(*args, **kwargs)\n",
      "  File \"D:\\anacoda\\envs\\a.i\\lib\\site-packages\\sklearn\\metrics\\_regression.py\", line 989, in r2_score\n",
      "    y_type, y_true, y_pred, multioutput = _check_reg_targets(\n",
      "  File \"D:\\anacoda\\envs\\a.i\\lib\\site-packages\\sklearn\\metrics\\_regression.py\", line 101, in _check_reg_targets\n",
      "    y_pred = check_array(y_pred, ensure_2d=False, dtype=dtype)\n",
      "  File \"D:\\anacoda\\envs\\a.i\\lib\\site-packages\\sklearn\\utils\\validation.py\", line 957, in check_array\n",
      "    _assert_all_finite(\n",
      "  File \"D:\\anacoda\\envs\\a.i\\lib\\site-packages\\sklearn\\utils\\validation.py\", line 122, in _assert_all_finite\n",
      "    _assert_all_finite_element_wise(\n",
      "  File \"D:\\anacoda\\envs\\a.i\\lib\\site-packages\\sklearn\\utils\\validation.py\", line 171, in _assert_all_finite_element_wise\n",
      "    raise ValueError(msg_err)\n",
      "ValueError: Input contains NaN.\n",
      "\n",
      "  warnings.warn(\n"
     ]
    },
    {
     "name": "stdout",
     "output_type": "stream",
     "text": [
      "242/242 [==============================] - 1s 2ms/step - loss: nan - val_loss: nan\n",
      "Epoch 2/2\n",
      "242/242 [==============================] - 0s 2ms/step - loss: nan - val_loss: nan\n",
      "121/121 [==============================] - 0s 947us/step\n",
      "Epoch 1/2\n"
     ]
    },
    {
     "name": "stderr",
     "output_type": "stream",
     "text": [
      "D:\\anacoda\\envs\\a.i\\lib\\site-packages\\sklearn\\model_selection\\_validation.py:821: UserWarning: Scoring failed. The score on this train-test partition for these parameters will be set to nan. Details: \n",
      "Traceback (most recent call last):\n",
      "  File \"D:\\anacoda\\envs\\a.i\\lib\\site-packages\\sklearn\\model_selection\\_validation.py\", line 810, in _score\n",
      "    scores = scorer(estimator, X_test, y_test)\n",
      "  File \"D:\\anacoda\\envs\\a.i\\lib\\site-packages\\sklearn\\metrics\\_scorer.py\", line 527, in __call__\n",
      "    return estimator.score(*args, **kwargs)\n",
      "  File \"D:\\anacoda\\envs\\a.i\\lib\\site-packages\\scikeras\\wrappers.py\", line 1117, in score\n",
      "    return self.scorer(y, y_pred, sample_weight=sample_weight, **score_args)\n",
      "  File \"D:\\anacoda\\envs\\a.i\\lib\\site-packages\\scikeras\\wrappers.py\", line 1714, in scorer\n",
      "    return sklearn_r2_score(y_true, y_pred, **kwargs)\n",
      "  File \"D:\\anacoda\\envs\\a.i\\lib\\site-packages\\sklearn\\utils\\_param_validation.py\", line 214, in wrapper\n",
      "    return func(*args, **kwargs)\n",
      "  File \"D:\\anacoda\\envs\\a.i\\lib\\site-packages\\sklearn\\metrics\\_regression.py\", line 989, in r2_score\n",
      "    y_type, y_true, y_pred, multioutput = _check_reg_targets(\n",
      "  File \"D:\\anacoda\\envs\\a.i\\lib\\site-packages\\sklearn\\metrics\\_regression.py\", line 101, in _check_reg_targets\n",
      "    y_pred = check_array(y_pred, ensure_2d=False, dtype=dtype)\n",
      "  File \"D:\\anacoda\\envs\\a.i\\lib\\site-packages\\sklearn\\utils\\validation.py\", line 957, in check_array\n",
      "    _assert_all_finite(\n",
      "  File \"D:\\anacoda\\envs\\a.i\\lib\\site-packages\\sklearn\\utils\\validation.py\", line 122, in _assert_all_finite\n",
      "    _assert_all_finite_element_wise(\n",
      "  File \"D:\\anacoda\\envs\\a.i\\lib\\site-packages\\sklearn\\utils\\validation.py\", line 171, in _assert_all_finite_element_wise\n",
      "    raise ValueError(msg_err)\n",
      "ValueError: Input contains NaN.\n",
      "\n",
      "  warnings.warn(\n"
     ]
    },
    {
     "name": "stdout",
     "output_type": "stream",
     "text": [
      "242/242 [==============================] - 1s 2ms/step - loss: nan - val_loss: nan\n",
      "Epoch 2/2\n",
      "242/242 [==============================] - 0s 2ms/step - loss: nan - val_loss: nan\n",
      "121/121 [==============================] - 0s 963us/step\n",
      "Epoch 1/2\n"
     ]
    },
    {
     "name": "stderr",
     "output_type": "stream",
     "text": [
      "D:\\anacoda\\envs\\a.i\\lib\\site-packages\\sklearn\\model_selection\\_validation.py:821: UserWarning: Scoring failed. The score on this train-test partition for these parameters will be set to nan. Details: \n",
      "Traceback (most recent call last):\n",
      "  File \"D:\\anacoda\\envs\\a.i\\lib\\site-packages\\sklearn\\model_selection\\_validation.py\", line 810, in _score\n",
      "    scores = scorer(estimator, X_test, y_test)\n",
      "  File \"D:\\anacoda\\envs\\a.i\\lib\\site-packages\\sklearn\\metrics\\_scorer.py\", line 527, in __call__\n",
      "    return estimator.score(*args, **kwargs)\n",
      "  File \"D:\\anacoda\\envs\\a.i\\lib\\site-packages\\scikeras\\wrappers.py\", line 1117, in score\n",
      "    return self.scorer(y, y_pred, sample_weight=sample_weight, **score_args)\n",
      "  File \"D:\\anacoda\\envs\\a.i\\lib\\site-packages\\scikeras\\wrappers.py\", line 1714, in scorer\n",
      "    return sklearn_r2_score(y_true, y_pred, **kwargs)\n",
      "  File \"D:\\anacoda\\envs\\a.i\\lib\\site-packages\\sklearn\\utils\\_param_validation.py\", line 214, in wrapper\n",
      "    return func(*args, **kwargs)\n",
      "  File \"D:\\anacoda\\envs\\a.i\\lib\\site-packages\\sklearn\\metrics\\_regression.py\", line 989, in r2_score\n",
      "    y_type, y_true, y_pred, multioutput = _check_reg_targets(\n",
      "  File \"D:\\anacoda\\envs\\a.i\\lib\\site-packages\\sklearn\\metrics\\_regression.py\", line 101, in _check_reg_targets\n",
      "    y_pred = check_array(y_pred, ensure_2d=False, dtype=dtype)\n",
      "  File \"D:\\anacoda\\envs\\a.i\\lib\\site-packages\\sklearn\\utils\\validation.py\", line 957, in check_array\n",
      "    _assert_all_finite(\n",
      "  File \"D:\\anacoda\\envs\\a.i\\lib\\site-packages\\sklearn\\utils\\validation.py\", line 122, in _assert_all_finite\n",
      "    _assert_all_finite_element_wise(\n",
      "  File \"D:\\anacoda\\envs\\a.i\\lib\\site-packages\\sklearn\\utils\\validation.py\", line 171, in _assert_all_finite_element_wise\n",
      "    raise ValueError(msg_err)\n",
      "ValueError: Input contains NaN.\n",
      "\n",
      "  warnings.warn(\n"
     ]
    },
    {
     "name": "stdout",
     "output_type": "stream",
     "text": [
      "242/242 [==============================] - 1s 2ms/step - loss: nan - val_loss: nan\n",
      "Epoch 2/2\n",
      "242/242 [==============================] - 0s 2ms/step - loss: nan - val_loss: nan\n",
      "121/121 [==============================] - 0s 938us/step\n",
      "Epoch 1/2\n"
     ]
    },
    {
     "name": "stderr",
     "output_type": "stream",
     "text": [
      "D:\\anacoda\\envs\\a.i\\lib\\site-packages\\sklearn\\model_selection\\_validation.py:821: UserWarning: Scoring failed. The score on this train-test partition for these parameters will be set to nan. Details: \n",
      "Traceback (most recent call last):\n",
      "  File \"D:\\anacoda\\envs\\a.i\\lib\\site-packages\\sklearn\\model_selection\\_validation.py\", line 810, in _score\n",
      "    scores = scorer(estimator, X_test, y_test)\n",
      "  File \"D:\\anacoda\\envs\\a.i\\lib\\site-packages\\sklearn\\metrics\\_scorer.py\", line 527, in __call__\n",
      "    return estimator.score(*args, **kwargs)\n",
      "  File \"D:\\anacoda\\envs\\a.i\\lib\\site-packages\\scikeras\\wrappers.py\", line 1117, in score\n",
      "    return self.scorer(y, y_pred, sample_weight=sample_weight, **score_args)\n",
      "  File \"D:\\anacoda\\envs\\a.i\\lib\\site-packages\\scikeras\\wrappers.py\", line 1714, in scorer\n",
      "    return sklearn_r2_score(y_true, y_pred, **kwargs)\n",
      "  File \"D:\\anacoda\\envs\\a.i\\lib\\site-packages\\sklearn\\utils\\_param_validation.py\", line 214, in wrapper\n",
      "    return func(*args, **kwargs)\n",
      "  File \"D:\\anacoda\\envs\\a.i\\lib\\site-packages\\sklearn\\metrics\\_regression.py\", line 989, in r2_score\n",
      "    y_type, y_true, y_pred, multioutput = _check_reg_targets(\n",
      "  File \"D:\\anacoda\\envs\\a.i\\lib\\site-packages\\sklearn\\metrics\\_regression.py\", line 101, in _check_reg_targets\n",
      "    y_pred = check_array(y_pred, ensure_2d=False, dtype=dtype)\n",
      "  File \"D:\\anacoda\\envs\\a.i\\lib\\site-packages\\sklearn\\utils\\validation.py\", line 957, in check_array\n",
      "    _assert_all_finite(\n",
      "  File \"D:\\anacoda\\envs\\a.i\\lib\\site-packages\\sklearn\\utils\\validation.py\", line 122, in _assert_all_finite\n",
      "    _assert_all_finite_element_wise(\n",
      "  File \"D:\\anacoda\\envs\\a.i\\lib\\site-packages\\sklearn\\utils\\validation.py\", line 171, in _assert_all_finite_element_wise\n",
      "    raise ValueError(msg_err)\n",
      "ValueError: Input contains NaN.\n",
      "\n",
      "  warnings.warn(\n"
     ]
    },
    {
     "name": "stdout",
     "output_type": "stream",
     "text": [
      "242/242 [==============================] - 1s 2ms/step - loss: nan - val_loss: nan\n",
      "Epoch 2/2\n",
      "242/242 [==============================] - 0s 2ms/step - loss: nan - val_loss: nan\n",
      "121/121 [==============================] - 0s 913us/step\n",
      "Epoch 1/2\n"
     ]
    },
    {
     "name": "stderr",
     "output_type": "stream",
     "text": [
      "D:\\anacoda\\envs\\a.i\\lib\\site-packages\\sklearn\\model_selection\\_validation.py:821: UserWarning: Scoring failed. The score on this train-test partition for these parameters will be set to nan. Details: \n",
      "Traceback (most recent call last):\n",
      "  File \"D:\\anacoda\\envs\\a.i\\lib\\site-packages\\sklearn\\model_selection\\_validation.py\", line 810, in _score\n",
      "    scores = scorer(estimator, X_test, y_test)\n",
      "  File \"D:\\anacoda\\envs\\a.i\\lib\\site-packages\\sklearn\\metrics\\_scorer.py\", line 527, in __call__\n",
      "    return estimator.score(*args, **kwargs)\n",
      "  File \"D:\\anacoda\\envs\\a.i\\lib\\site-packages\\scikeras\\wrappers.py\", line 1117, in score\n",
      "    return self.scorer(y, y_pred, sample_weight=sample_weight, **score_args)\n",
      "  File \"D:\\anacoda\\envs\\a.i\\lib\\site-packages\\scikeras\\wrappers.py\", line 1714, in scorer\n",
      "    return sklearn_r2_score(y_true, y_pred, **kwargs)\n",
      "  File \"D:\\anacoda\\envs\\a.i\\lib\\site-packages\\sklearn\\utils\\_param_validation.py\", line 214, in wrapper\n",
      "    return func(*args, **kwargs)\n",
      "  File \"D:\\anacoda\\envs\\a.i\\lib\\site-packages\\sklearn\\metrics\\_regression.py\", line 989, in r2_score\n",
      "    y_type, y_true, y_pred, multioutput = _check_reg_targets(\n",
      "  File \"D:\\anacoda\\envs\\a.i\\lib\\site-packages\\sklearn\\metrics\\_regression.py\", line 101, in _check_reg_targets\n",
      "    y_pred = check_array(y_pred, ensure_2d=False, dtype=dtype)\n",
      "  File \"D:\\anacoda\\envs\\a.i\\lib\\site-packages\\sklearn\\utils\\validation.py\", line 957, in check_array\n",
      "    _assert_all_finite(\n",
      "  File \"D:\\anacoda\\envs\\a.i\\lib\\site-packages\\sklearn\\utils\\validation.py\", line 122, in _assert_all_finite\n",
      "    _assert_all_finite_element_wise(\n",
      "  File \"D:\\anacoda\\envs\\a.i\\lib\\site-packages\\sklearn\\utils\\validation.py\", line 171, in _assert_all_finite_element_wise\n",
      "    raise ValueError(msg_err)\n",
      "ValueError: Input contains NaN.\n",
      "\n",
      "  warnings.warn(\n"
     ]
    },
    {
     "name": "stdout",
     "output_type": "stream",
     "text": [
      "242/242 [==============================] - 1s 2ms/step - loss: nan - val_loss: nan\n",
      "Epoch 2/2\n",
      "242/242 [==============================] - 0s 2ms/step - loss: nan - val_loss: nan\n",
      "121/121 [==============================] - 0s 864us/step\n",
      "Epoch 1/2\n"
     ]
    },
    {
     "name": "stderr",
     "output_type": "stream",
     "text": [
      "D:\\anacoda\\envs\\a.i\\lib\\site-packages\\sklearn\\model_selection\\_validation.py:821: UserWarning: Scoring failed. The score on this train-test partition for these parameters will be set to nan. Details: \n",
      "Traceback (most recent call last):\n",
      "  File \"D:\\anacoda\\envs\\a.i\\lib\\site-packages\\sklearn\\model_selection\\_validation.py\", line 810, in _score\n",
      "    scores = scorer(estimator, X_test, y_test)\n",
      "  File \"D:\\anacoda\\envs\\a.i\\lib\\site-packages\\sklearn\\metrics\\_scorer.py\", line 527, in __call__\n",
      "    return estimator.score(*args, **kwargs)\n",
      "  File \"D:\\anacoda\\envs\\a.i\\lib\\site-packages\\scikeras\\wrappers.py\", line 1117, in score\n",
      "    return self.scorer(y, y_pred, sample_weight=sample_weight, **score_args)\n",
      "  File \"D:\\anacoda\\envs\\a.i\\lib\\site-packages\\scikeras\\wrappers.py\", line 1714, in scorer\n",
      "    return sklearn_r2_score(y_true, y_pred, **kwargs)\n",
      "  File \"D:\\anacoda\\envs\\a.i\\lib\\site-packages\\sklearn\\utils\\_param_validation.py\", line 214, in wrapper\n",
      "    return func(*args, **kwargs)\n",
      "  File \"D:\\anacoda\\envs\\a.i\\lib\\site-packages\\sklearn\\metrics\\_regression.py\", line 989, in r2_score\n",
      "    y_type, y_true, y_pred, multioutput = _check_reg_targets(\n",
      "  File \"D:\\anacoda\\envs\\a.i\\lib\\site-packages\\sklearn\\metrics\\_regression.py\", line 101, in _check_reg_targets\n",
      "    y_pred = check_array(y_pred, ensure_2d=False, dtype=dtype)\n",
      "  File \"D:\\anacoda\\envs\\a.i\\lib\\site-packages\\sklearn\\utils\\validation.py\", line 957, in check_array\n",
      "    _assert_all_finite(\n",
      "  File \"D:\\anacoda\\envs\\a.i\\lib\\site-packages\\sklearn\\utils\\validation.py\", line 122, in _assert_all_finite\n",
      "    _assert_all_finite_element_wise(\n",
      "  File \"D:\\anacoda\\envs\\a.i\\lib\\site-packages\\sklearn\\utils\\validation.py\", line 171, in _assert_all_finite_element_wise\n",
      "    raise ValueError(msg_err)\n",
      "ValueError: Input contains NaN.\n",
      "\n",
      "  warnings.warn(\n"
     ]
    },
    {
     "name": "stdout",
     "output_type": "stream",
     "text": [
      "242/242 [==============================] - 1s 2ms/step - loss: nan - val_loss: nan\n",
      "Epoch 2/2\n",
      "242/242 [==============================] - 0s 2ms/step - loss: nan - val_loss: nan\n",
      "121/121 [==============================] - 0s 871us/step\n",
      "Epoch 1/2\n"
     ]
    },
    {
     "name": "stderr",
     "output_type": "stream",
     "text": [
      "D:\\anacoda\\envs\\a.i\\lib\\site-packages\\sklearn\\model_selection\\_validation.py:821: UserWarning: Scoring failed. The score on this train-test partition for these parameters will be set to nan. Details: \n",
      "Traceback (most recent call last):\n",
      "  File \"D:\\anacoda\\envs\\a.i\\lib\\site-packages\\sklearn\\model_selection\\_validation.py\", line 810, in _score\n",
      "    scores = scorer(estimator, X_test, y_test)\n",
      "  File \"D:\\anacoda\\envs\\a.i\\lib\\site-packages\\sklearn\\metrics\\_scorer.py\", line 527, in __call__\n",
      "    return estimator.score(*args, **kwargs)\n",
      "  File \"D:\\anacoda\\envs\\a.i\\lib\\site-packages\\scikeras\\wrappers.py\", line 1117, in score\n",
      "    return self.scorer(y, y_pred, sample_weight=sample_weight, **score_args)\n",
      "  File \"D:\\anacoda\\envs\\a.i\\lib\\site-packages\\scikeras\\wrappers.py\", line 1714, in scorer\n",
      "    return sklearn_r2_score(y_true, y_pred, **kwargs)\n",
      "  File \"D:\\anacoda\\envs\\a.i\\lib\\site-packages\\sklearn\\utils\\_param_validation.py\", line 214, in wrapper\n",
      "    return func(*args, **kwargs)\n",
      "  File \"D:\\anacoda\\envs\\a.i\\lib\\site-packages\\sklearn\\metrics\\_regression.py\", line 989, in r2_score\n",
      "    y_type, y_true, y_pred, multioutput = _check_reg_targets(\n",
      "  File \"D:\\anacoda\\envs\\a.i\\lib\\site-packages\\sklearn\\metrics\\_regression.py\", line 101, in _check_reg_targets\n",
      "    y_pred = check_array(y_pred, ensure_2d=False, dtype=dtype)\n",
      "  File \"D:\\anacoda\\envs\\a.i\\lib\\site-packages\\sklearn\\utils\\validation.py\", line 957, in check_array\n",
      "    _assert_all_finite(\n",
      "  File \"D:\\anacoda\\envs\\a.i\\lib\\site-packages\\sklearn\\utils\\validation.py\", line 122, in _assert_all_finite\n",
      "    _assert_all_finite_element_wise(\n",
      "  File \"D:\\anacoda\\envs\\a.i\\lib\\site-packages\\sklearn\\utils\\validation.py\", line 171, in _assert_all_finite_element_wise\n",
      "    raise ValueError(msg_err)\n",
      "ValueError: Input contains NaN.\n",
      "\n",
      "  warnings.warn(\n"
     ]
    },
    {
     "name": "stdout",
     "output_type": "stream",
     "text": [
      "242/242 [==============================] - 1s 2ms/step - loss: nan - val_loss: nan\n",
      "Epoch 2/2\n",
      "242/242 [==============================] - 0s 2ms/step - loss: nan - val_loss: nan\n",
      "121/121 [==============================] - 0s 963us/step\n",
      "Epoch 1/2\n"
     ]
    },
    {
     "name": "stderr",
     "output_type": "stream",
     "text": [
      "D:\\anacoda\\envs\\a.i\\lib\\site-packages\\sklearn\\model_selection\\_validation.py:821: UserWarning: Scoring failed. The score on this train-test partition for these parameters will be set to nan. Details: \n",
      "Traceback (most recent call last):\n",
      "  File \"D:\\anacoda\\envs\\a.i\\lib\\site-packages\\sklearn\\model_selection\\_validation.py\", line 810, in _score\n",
      "    scores = scorer(estimator, X_test, y_test)\n",
      "  File \"D:\\anacoda\\envs\\a.i\\lib\\site-packages\\sklearn\\metrics\\_scorer.py\", line 527, in __call__\n",
      "    return estimator.score(*args, **kwargs)\n",
      "  File \"D:\\anacoda\\envs\\a.i\\lib\\site-packages\\scikeras\\wrappers.py\", line 1117, in score\n",
      "    return self.scorer(y, y_pred, sample_weight=sample_weight, **score_args)\n",
      "  File \"D:\\anacoda\\envs\\a.i\\lib\\site-packages\\scikeras\\wrappers.py\", line 1714, in scorer\n",
      "    return sklearn_r2_score(y_true, y_pred, **kwargs)\n",
      "  File \"D:\\anacoda\\envs\\a.i\\lib\\site-packages\\sklearn\\utils\\_param_validation.py\", line 214, in wrapper\n",
      "    return func(*args, **kwargs)\n",
      "  File \"D:\\anacoda\\envs\\a.i\\lib\\site-packages\\sklearn\\metrics\\_regression.py\", line 989, in r2_score\n",
      "    y_type, y_true, y_pred, multioutput = _check_reg_targets(\n",
      "  File \"D:\\anacoda\\envs\\a.i\\lib\\site-packages\\sklearn\\metrics\\_regression.py\", line 101, in _check_reg_targets\n",
      "    y_pred = check_array(y_pred, ensure_2d=False, dtype=dtype)\n",
      "  File \"D:\\anacoda\\envs\\a.i\\lib\\site-packages\\sklearn\\utils\\validation.py\", line 957, in check_array\n",
      "    _assert_all_finite(\n",
      "  File \"D:\\anacoda\\envs\\a.i\\lib\\site-packages\\sklearn\\utils\\validation.py\", line 122, in _assert_all_finite\n",
      "    _assert_all_finite_element_wise(\n",
      "  File \"D:\\anacoda\\envs\\a.i\\lib\\site-packages\\sklearn\\utils\\validation.py\", line 171, in _assert_all_finite_element_wise\n",
      "    raise ValueError(msg_err)\n",
      "ValueError: Input contains NaN.\n",
      "\n",
      "  warnings.warn(\n"
     ]
    },
    {
     "name": "stdout",
     "output_type": "stream",
     "text": [
      "242/242 [==============================] - 1s 2ms/step - loss: nan - val_loss: nan\n",
      "Epoch 2/2\n",
      "242/242 [==============================] - 0s 2ms/step - loss: nan - val_loss: nan\n",
      "121/121 [==============================] - 0s 972us/step\n",
      "Epoch 1/2\n"
     ]
    },
    {
     "name": "stderr",
     "output_type": "stream",
     "text": [
      "D:\\anacoda\\envs\\a.i\\lib\\site-packages\\sklearn\\model_selection\\_validation.py:821: UserWarning: Scoring failed. The score on this train-test partition for these parameters will be set to nan. Details: \n",
      "Traceback (most recent call last):\n",
      "  File \"D:\\anacoda\\envs\\a.i\\lib\\site-packages\\sklearn\\model_selection\\_validation.py\", line 810, in _score\n",
      "    scores = scorer(estimator, X_test, y_test)\n",
      "  File \"D:\\anacoda\\envs\\a.i\\lib\\site-packages\\sklearn\\metrics\\_scorer.py\", line 527, in __call__\n",
      "    return estimator.score(*args, **kwargs)\n",
      "  File \"D:\\anacoda\\envs\\a.i\\lib\\site-packages\\scikeras\\wrappers.py\", line 1117, in score\n",
      "    return self.scorer(y, y_pred, sample_weight=sample_weight, **score_args)\n",
      "  File \"D:\\anacoda\\envs\\a.i\\lib\\site-packages\\scikeras\\wrappers.py\", line 1714, in scorer\n",
      "    return sklearn_r2_score(y_true, y_pred, **kwargs)\n",
      "  File \"D:\\anacoda\\envs\\a.i\\lib\\site-packages\\sklearn\\utils\\_param_validation.py\", line 214, in wrapper\n",
      "    return func(*args, **kwargs)\n",
      "  File \"D:\\anacoda\\envs\\a.i\\lib\\site-packages\\sklearn\\metrics\\_regression.py\", line 989, in r2_score\n",
      "    y_type, y_true, y_pred, multioutput = _check_reg_targets(\n",
      "  File \"D:\\anacoda\\envs\\a.i\\lib\\site-packages\\sklearn\\metrics\\_regression.py\", line 101, in _check_reg_targets\n",
      "    y_pred = check_array(y_pred, ensure_2d=False, dtype=dtype)\n",
      "  File \"D:\\anacoda\\envs\\a.i\\lib\\site-packages\\sklearn\\utils\\validation.py\", line 957, in check_array\n",
      "    _assert_all_finite(\n",
      "  File \"D:\\anacoda\\envs\\a.i\\lib\\site-packages\\sklearn\\utils\\validation.py\", line 122, in _assert_all_finite\n",
      "    _assert_all_finite_element_wise(\n",
      "  File \"D:\\anacoda\\envs\\a.i\\lib\\site-packages\\sklearn\\utils\\validation.py\", line 171, in _assert_all_finite_element_wise\n",
      "    raise ValueError(msg_err)\n",
      "ValueError: Input contains NaN.\n",
      "\n",
      "  warnings.warn(\n"
     ]
    },
    {
     "name": "stdout",
     "output_type": "stream",
     "text": [
      "242/242 [==============================] - 1s 2ms/step - loss: nan - val_loss: nan\n",
      "Epoch 2/2\n",
      "242/242 [==============================] - 0s 2ms/step - loss: nan - val_loss: nan\n",
      "121/121 [==============================] - 0s 963us/step\n",
      "Epoch 1/2\n"
     ]
    },
    {
     "name": "stderr",
     "output_type": "stream",
     "text": [
      "D:\\anacoda\\envs\\a.i\\lib\\site-packages\\sklearn\\model_selection\\_validation.py:821: UserWarning: Scoring failed. The score on this train-test partition for these parameters will be set to nan. Details: \n",
      "Traceback (most recent call last):\n",
      "  File \"D:\\anacoda\\envs\\a.i\\lib\\site-packages\\sklearn\\model_selection\\_validation.py\", line 810, in _score\n",
      "    scores = scorer(estimator, X_test, y_test)\n",
      "  File \"D:\\anacoda\\envs\\a.i\\lib\\site-packages\\sklearn\\metrics\\_scorer.py\", line 527, in __call__\n",
      "    return estimator.score(*args, **kwargs)\n",
      "  File \"D:\\anacoda\\envs\\a.i\\lib\\site-packages\\scikeras\\wrappers.py\", line 1117, in score\n",
      "    return self.scorer(y, y_pred, sample_weight=sample_weight, **score_args)\n",
      "  File \"D:\\anacoda\\envs\\a.i\\lib\\site-packages\\scikeras\\wrappers.py\", line 1714, in scorer\n",
      "    return sklearn_r2_score(y_true, y_pred, **kwargs)\n",
      "  File \"D:\\anacoda\\envs\\a.i\\lib\\site-packages\\sklearn\\utils\\_param_validation.py\", line 214, in wrapper\n",
      "    return func(*args, **kwargs)\n",
      "  File \"D:\\anacoda\\envs\\a.i\\lib\\site-packages\\sklearn\\metrics\\_regression.py\", line 989, in r2_score\n",
      "    y_type, y_true, y_pred, multioutput = _check_reg_targets(\n",
      "  File \"D:\\anacoda\\envs\\a.i\\lib\\site-packages\\sklearn\\metrics\\_regression.py\", line 101, in _check_reg_targets\n",
      "    y_pred = check_array(y_pred, ensure_2d=False, dtype=dtype)\n",
      "  File \"D:\\anacoda\\envs\\a.i\\lib\\site-packages\\sklearn\\utils\\validation.py\", line 957, in check_array\n",
      "    _assert_all_finite(\n",
      "  File \"D:\\anacoda\\envs\\a.i\\lib\\site-packages\\sklearn\\utils\\validation.py\", line 122, in _assert_all_finite\n",
      "    _assert_all_finite_element_wise(\n",
      "  File \"D:\\anacoda\\envs\\a.i\\lib\\site-packages\\sklearn\\utils\\validation.py\", line 171, in _assert_all_finite_element_wise\n",
      "    raise ValueError(msg_err)\n",
      "ValueError: Input contains NaN.\n",
      "\n",
      "  warnings.warn(\n"
     ]
    },
    {
     "name": "stdout",
     "output_type": "stream",
     "text": [
      "242/242 [==============================] - 1s 3ms/step - loss: nan - val_loss: nan\n",
      "Epoch 2/2\n",
      "242/242 [==============================] - 1s 2ms/step - loss: nan - val_loss: nan\n",
      "121/121 [==============================] - 0s 1ms/step\n",
      "Epoch 1/2\n"
     ]
    },
    {
     "name": "stderr",
     "output_type": "stream",
     "text": [
      "D:\\anacoda\\envs\\a.i\\lib\\site-packages\\sklearn\\model_selection\\_validation.py:821: UserWarning: Scoring failed. The score on this train-test partition for these parameters will be set to nan. Details: \n",
      "Traceback (most recent call last):\n",
      "  File \"D:\\anacoda\\envs\\a.i\\lib\\site-packages\\sklearn\\model_selection\\_validation.py\", line 810, in _score\n",
      "    scores = scorer(estimator, X_test, y_test)\n",
      "  File \"D:\\anacoda\\envs\\a.i\\lib\\site-packages\\sklearn\\metrics\\_scorer.py\", line 527, in __call__\n",
      "    return estimator.score(*args, **kwargs)\n",
      "  File \"D:\\anacoda\\envs\\a.i\\lib\\site-packages\\scikeras\\wrappers.py\", line 1117, in score\n",
      "    return self.scorer(y, y_pred, sample_weight=sample_weight, **score_args)\n",
      "  File \"D:\\anacoda\\envs\\a.i\\lib\\site-packages\\scikeras\\wrappers.py\", line 1714, in scorer\n",
      "    return sklearn_r2_score(y_true, y_pred, **kwargs)\n",
      "  File \"D:\\anacoda\\envs\\a.i\\lib\\site-packages\\sklearn\\utils\\_param_validation.py\", line 214, in wrapper\n",
      "    return func(*args, **kwargs)\n",
      "  File \"D:\\anacoda\\envs\\a.i\\lib\\site-packages\\sklearn\\metrics\\_regression.py\", line 989, in r2_score\n",
      "    y_type, y_true, y_pred, multioutput = _check_reg_targets(\n",
      "  File \"D:\\anacoda\\envs\\a.i\\lib\\site-packages\\sklearn\\metrics\\_regression.py\", line 101, in _check_reg_targets\n",
      "    y_pred = check_array(y_pred, ensure_2d=False, dtype=dtype)\n",
      "  File \"D:\\anacoda\\envs\\a.i\\lib\\site-packages\\sklearn\\utils\\validation.py\", line 957, in check_array\n",
      "    _assert_all_finite(\n",
      "  File \"D:\\anacoda\\envs\\a.i\\lib\\site-packages\\sklearn\\utils\\validation.py\", line 122, in _assert_all_finite\n",
      "    _assert_all_finite_element_wise(\n",
      "  File \"D:\\anacoda\\envs\\a.i\\lib\\site-packages\\sklearn\\utils\\validation.py\", line 171, in _assert_all_finite_element_wise\n",
      "    raise ValueError(msg_err)\n",
      "ValueError: Input contains NaN.\n",
      "\n",
      "  warnings.warn(\n"
     ]
    },
    {
     "name": "stdout",
     "output_type": "stream",
     "text": [
      "242/242 [==============================] - 1s 3ms/step - loss: nan - val_loss: nan\n",
      "Epoch 2/2\n",
      "242/242 [==============================] - 1s 2ms/step - loss: nan - val_loss: nan\n",
      "121/121 [==============================] - 0s 1ms/step\n",
      "Epoch 1/2\n"
     ]
    },
    {
     "name": "stderr",
     "output_type": "stream",
     "text": [
      "D:\\anacoda\\envs\\a.i\\lib\\site-packages\\sklearn\\model_selection\\_validation.py:821: UserWarning: Scoring failed. The score on this train-test partition for these parameters will be set to nan. Details: \n",
      "Traceback (most recent call last):\n",
      "  File \"D:\\anacoda\\envs\\a.i\\lib\\site-packages\\sklearn\\model_selection\\_validation.py\", line 810, in _score\n",
      "    scores = scorer(estimator, X_test, y_test)\n",
      "  File \"D:\\anacoda\\envs\\a.i\\lib\\site-packages\\sklearn\\metrics\\_scorer.py\", line 527, in __call__\n",
      "    return estimator.score(*args, **kwargs)\n",
      "  File \"D:\\anacoda\\envs\\a.i\\lib\\site-packages\\scikeras\\wrappers.py\", line 1117, in score\n",
      "    return self.scorer(y, y_pred, sample_weight=sample_weight, **score_args)\n",
      "  File \"D:\\anacoda\\envs\\a.i\\lib\\site-packages\\scikeras\\wrappers.py\", line 1714, in scorer\n",
      "    return sklearn_r2_score(y_true, y_pred, **kwargs)\n",
      "  File \"D:\\anacoda\\envs\\a.i\\lib\\site-packages\\sklearn\\utils\\_param_validation.py\", line 214, in wrapper\n",
      "    return func(*args, **kwargs)\n",
      "  File \"D:\\anacoda\\envs\\a.i\\lib\\site-packages\\sklearn\\metrics\\_regression.py\", line 989, in r2_score\n",
      "    y_type, y_true, y_pred, multioutput = _check_reg_targets(\n",
      "  File \"D:\\anacoda\\envs\\a.i\\lib\\site-packages\\sklearn\\metrics\\_regression.py\", line 101, in _check_reg_targets\n",
      "    y_pred = check_array(y_pred, ensure_2d=False, dtype=dtype)\n",
      "  File \"D:\\anacoda\\envs\\a.i\\lib\\site-packages\\sklearn\\utils\\validation.py\", line 957, in check_array\n",
      "    _assert_all_finite(\n",
      "  File \"D:\\anacoda\\envs\\a.i\\lib\\site-packages\\sklearn\\utils\\validation.py\", line 122, in _assert_all_finite\n",
      "    _assert_all_finite_element_wise(\n",
      "  File \"D:\\anacoda\\envs\\a.i\\lib\\site-packages\\sklearn\\utils\\validation.py\", line 171, in _assert_all_finite_element_wise\n",
      "    raise ValueError(msg_err)\n",
      "ValueError: Input contains NaN.\n",
      "\n",
      "  warnings.warn(\n"
     ]
    },
    {
     "name": "stdout",
     "output_type": "stream",
     "text": [
      "242/242 [==============================] - 1s 3ms/step - loss: nan - val_loss: nan\n",
      "Epoch 2/2\n",
      "242/242 [==============================] - 1s 2ms/step - loss: nan - val_loss: nan\n",
      "121/121 [==============================] - 0s 1ms/step\n",
      "Epoch 1/2\n"
     ]
    },
    {
     "name": "stderr",
     "output_type": "stream",
     "text": [
      "D:\\anacoda\\envs\\a.i\\lib\\site-packages\\sklearn\\model_selection\\_validation.py:821: UserWarning: Scoring failed. The score on this train-test partition for these parameters will be set to nan. Details: \n",
      "Traceback (most recent call last):\n",
      "  File \"D:\\anacoda\\envs\\a.i\\lib\\site-packages\\sklearn\\model_selection\\_validation.py\", line 810, in _score\n",
      "    scores = scorer(estimator, X_test, y_test)\n",
      "  File \"D:\\anacoda\\envs\\a.i\\lib\\site-packages\\sklearn\\metrics\\_scorer.py\", line 527, in __call__\n",
      "    return estimator.score(*args, **kwargs)\n",
      "  File \"D:\\anacoda\\envs\\a.i\\lib\\site-packages\\scikeras\\wrappers.py\", line 1117, in score\n",
      "    return self.scorer(y, y_pred, sample_weight=sample_weight, **score_args)\n",
      "  File \"D:\\anacoda\\envs\\a.i\\lib\\site-packages\\scikeras\\wrappers.py\", line 1714, in scorer\n",
      "    return sklearn_r2_score(y_true, y_pred, **kwargs)\n",
      "  File \"D:\\anacoda\\envs\\a.i\\lib\\site-packages\\sklearn\\utils\\_param_validation.py\", line 214, in wrapper\n",
      "    return func(*args, **kwargs)\n",
      "  File \"D:\\anacoda\\envs\\a.i\\lib\\site-packages\\sklearn\\metrics\\_regression.py\", line 989, in r2_score\n",
      "    y_type, y_true, y_pred, multioutput = _check_reg_targets(\n",
      "  File \"D:\\anacoda\\envs\\a.i\\lib\\site-packages\\sklearn\\metrics\\_regression.py\", line 101, in _check_reg_targets\n",
      "    y_pred = check_array(y_pred, ensure_2d=False, dtype=dtype)\n",
      "  File \"D:\\anacoda\\envs\\a.i\\lib\\site-packages\\sklearn\\utils\\validation.py\", line 957, in check_array\n",
      "    _assert_all_finite(\n",
      "  File \"D:\\anacoda\\envs\\a.i\\lib\\site-packages\\sklearn\\utils\\validation.py\", line 122, in _assert_all_finite\n",
      "    _assert_all_finite_element_wise(\n",
      "  File \"D:\\anacoda\\envs\\a.i\\lib\\site-packages\\sklearn\\utils\\validation.py\", line 171, in _assert_all_finite_element_wise\n",
      "    raise ValueError(msg_err)\n",
      "ValueError: Input contains NaN.\n",
      "\n",
      "  warnings.warn(\n",
      "D:\\anacoda\\envs\\a.i\\lib\\site-packages\\sklearn\\model_selection\\_search.py:979: UserWarning: One or more of the test scores are non-finite: [ 0.52613621  0.54270835  0.53354373  0.54746419  0.58608646  0.60666031\n",
      "  0.62092337  0.65844218  0.66392329  0.09058934 -0.76706338         nan\n",
      "  0.60958947         nan         nan  0.68518034  0.62511146  0.67544362\n",
      "         nan         nan         nan         nan         nan         nan\n",
      "         nan         nan         nan]\n",
      "  warnings.warn(\n"
     ]
    },
    {
     "name": "stdout",
     "output_type": "stream",
     "text": [
      "363/363 [==============================] - 1s 2ms/step - loss: 0.5404 - val_loss: 0.4521\n",
      "Epoch 2/2\n",
      "363/363 [==============================] - 0s 1ms/step - loss: 0.4162 - val_loss: 0.4028\n"
     ]
    },
    {
     "data": {
      "text/html": [
       "<style>#sk-container-id-1 {color: black;}#sk-container-id-1 pre{padding: 0;}#sk-container-id-1 div.sk-toggleable {background-color: white;}#sk-container-id-1 label.sk-toggleable__label {cursor: pointer;display: block;width: 100%;margin-bottom: 0;padding: 0.3em;box-sizing: border-box;text-align: center;}#sk-container-id-1 label.sk-toggleable__label-arrow:before {content: \"▸\";float: left;margin-right: 0.25em;color: #696969;}#sk-container-id-1 label.sk-toggleable__label-arrow:hover:before {color: black;}#sk-container-id-1 div.sk-estimator:hover label.sk-toggleable__label-arrow:before {color: black;}#sk-container-id-1 div.sk-toggleable__content {max-height: 0;max-width: 0;overflow: hidden;text-align: left;background-color: #f0f8ff;}#sk-container-id-1 div.sk-toggleable__content pre {margin: 0.2em;color: black;border-radius: 0.25em;background-color: #f0f8ff;}#sk-container-id-1 input.sk-toggleable__control:checked~div.sk-toggleable__content {max-height: 200px;max-width: 100%;overflow: auto;}#sk-container-id-1 input.sk-toggleable__control:checked~label.sk-toggleable__label-arrow:before {content: \"▾\";}#sk-container-id-1 div.sk-estimator input.sk-toggleable__control:checked~label.sk-toggleable__label {background-color: #d4ebff;}#sk-container-id-1 div.sk-label input.sk-toggleable__control:checked~label.sk-toggleable__label {background-color: #d4ebff;}#sk-container-id-1 input.sk-hidden--visually {border: 0;clip: rect(1px 1px 1px 1px);clip: rect(1px, 1px, 1px, 1px);height: 1px;margin: -1px;overflow: hidden;padding: 0;position: absolute;width: 1px;}#sk-container-id-1 div.sk-estimator {font-family: monospace;background-color: #f0f8ff;border: 1px dotted black;border-radius: 0.25em;box-sizing: border-box;margin-bottom: 0.5em;}#sk-container-id-1 div.sk-estimator:hover {background-color: #d4ebff;}#sk-container-id-1 div.sk-parallel-item::after {content: \"\";width: 100%;border-bottom: 1px solid gray;flex-grow: 1;}#sk-container-id-1 div.sk-label:hover label.sk-toggleable__label {background-color: #d4ebff;}#sk-container-id-1 div.sk-serial::before {content: \"\";position: absolute;border-left: 1px solid gray;box-sizing: border-box;top: 0;bottom: 0;left: 50%;z-index: 0;}#sk-container-id-1 div.sk-serial {display: flex;flex-direction: column;align-items: center;background-color: white;padding-right: 0.2em;padding-left: 0.2em;position: relative;}#sk-container-id-1 div.sk-item {position: relative;z-index: 1;}#sk-container-id-1 div.sk-parallel {display: flex;align-items: stretch;justify-content: center;background-color: white;position: relative;}#sk-container-id-1 div.sk-item::before, #sk-container-id-1 div.sk-parallel-item::before {content: \"\";position: absolute;border-left: 1px solid gray;box-sizing: border-box;top: 0;bottom: 0;left: 50%;z-index: -1;}#sk-container-id-1 div.sk-parallel-item {display: flex;flex-direction: column;z-index: 1;position: relative;background-color: white;}#sk-container-id-1 div.sk-parallel-item:first-child::after {align-self: flex-end;width: 50%;}#sk-container-id-1 div.sk-parallel-item:last-child::after {align-self: flex-start;width: 50%;}#sk-container-id-1 div.sk-parallel-item:only-child::after {width: 0;}#sk-container-id-1 div.sk-dashed-wrapped {border: 1px dashed gray;margin: 0 0.4em 0.5em 0.4em;box-sizing: border-box;padding-bottom: 0.4em;background-color: white;}#sk-container-id-1 div.sk-label label {font-family: monospace;font-weight: bold;display: inline-block;line-height: 1.2em;}#sk-container-id-1 div.sk-label-container {text-align: center;}#sk-container-id-1 div.sk-container {/* jupyter's `normalize.less` sets `[hidden] { display: none; }` but bootstrap.min.css set `[hidden] { display: none !important; }` so we also need the `!important` here to be able to override the default hidden behavior on the sphinx rendered scikit-learn.org. See: https://github.com/scikit-learn/scikit-learn/issues/21755 */display: inline-block !important;position: relative;}#sk-container-id-1 div.sk-text-repr-fallback {display: none;}</style><div id=\"sk-container-id-1\" class=\"sk-top-container\"><div class=\"sk-text-repr-fallback\"><pre>GridSearchCV(cv=3,\n",
       "             estimator=KerasRegressor(model=&lt;function ann_model at 0x00000281575E3D30&gt;),\n",
       "             param_grid={&#x27;model__learning_rate&#x27;: [0.001, 0.01, 0.1],\n",
       "                         &#x27;model__number_of_hidden_layers&#x27;: [1, 3, 5],\n",
       "                         &#x27;model__number_of_neurons&#x27;: [50, 100, 150]})</pre><b>In a Jupyter environment, please rerun this cell to show the HTML representation or trust the notebook. <br />On GitHub, the HTML representation is unable to render, please try loading this page with nbviewer.org.</b></div><div class=\"sk-container\" hidden><div class=\"sk-item sk-dashed-wrapped\"><div class=\"sk-label-container\"><div class=\"sk-label sk-toggleable\"><input class=\"sk-toggleable__control sk-hidden--visually\" id=\"sk-estimator-id-1\" type=\"checkbox\" ><label for=\"sk-estimator-id-1\" class=\"sk-toggleable__label sk-toggleable__label-arrow\">GridSearchCV</label><div class=\"sk-toggleable__content\"><pre>GridSearchCV(cv=3,\n",
       "             estimator=KerasRegressor(model=&lt;function ann_model at 0x00000281575E3D30&gt;),\n",
       "             param_grid={&#x27;model__learning_rate&#x27;: [0.001, 0.01, 0.1],\n",
       "                         &#x27;model__number_of_hidden_layers&#x27;: [1, 3, 5],\n",
       "                         &#x27;model__number_of_neurons&#x27;: [50, 100, 150]})</pre></div></div></div><div class=\"sk-parallel\"><div class=\"sk-parallel-item\"><div class=\"sk-item\"><div class=\"sk-label-container\"><div class=\"sk-label sk-toggleable\"><input class=\"sk-toggleable__control sk-hidden--visually\" id=\"sk-estimator-id-2\" type=\"checkbox\" ><label for=\"sk-estimator-id-2\" class=\"sk-toggleable__label sk-toggleable__label-arrow\">estimator: KerasRegressor</label><div class=\"sk-toggleable__content\"><pre>KerasRegressor(\n",
       "\tmodel=&lt;function ann_model at 0x00000281575E3D30&gt;\n",
       "\tbuild_fn=None\n",
       "\twarm_start=False\n",
       "\trandom_state=None\n",
       "\toptimizer=rmsprop\n",
       "\tloss=None\n",
       "\tmetrics=None\n",
       "\tbatch_size=None\n",
       "\tvalidation_batch_size=None\n",
       "\tverbose=1\n",
       "\tcallbacks=None\n",
       "\tvalidation_split=0.0\n",
       "\tshuffle=True\n",
       "\trun_eagerly=False\n",
       "\tepochs=1\n",
       ")</pre></div></div></div><div class=\"sk-serial\"><div class=\"sk-item\"><div class=\"sk-estimator sk-toggleable\"><input class=\"sk-toggleable__control sk-hidden--visually\" id=\"sk-estimator-id-3\" type=\"checkbox\" ><label for=\"sk-estimator-id-3\" class=\"sk-toggleable__label sk-toggleable__label-arrow\">KerasRegressor</label><div class=\"sk-toggleable__content\"><pre>KerasRegressor(\n",
       "\tmodel=&lt;function ann_model at 0x00000281575E3D30&gt;\n",
       "\tbuild_fn=None\n",
       "\twarm_start=False\n",
       "\trandom_state=None\n",
       "\toptimizer=rmsprop\n",
       "\tloss=None\n",
       "\tmetrics=None\n",
       "\tbatch_size=None\n",
       "\tvalidation_batch_size=None\n",
       "\tverbose=1\n",
       "\tcallbacks=None\n",
       "\tvalidation_split=0.0\n",
       "\tshuffle=True\n",
       "\trun_eagerly=False\n",
       "\tepochs=1\n",
       ")</pre></div></div></div></div></div></div></div></div></div></div>"
      ],
      "text/plain": [
       "GridSearchCV(cv=3,\n",
       "             estimator=KerasRegressor(model=<function ann_model at 0x00000281575E3D30>),\n",
       "             param_grid={'model__learning_rate': [0.001, 0.01, 0.1],\n",
       "                         'model__number_of_hidden_layers': [1, 3, 5],\n",
       "                         'model__number_of_neurons': [50, 100, 150]})"
      ]
     },
     "execution_count": 71,
     "metadata": {},
     "output_type": "execute_result"
    }
   ],
   "source": [
    "# Fit the GridSearchCV object\n",
    "keras_sikit_learn_regresion_GS.fit(\n",
    "    X_train_s,\n",
    "    y_train1,\n",
    "    validation_data=(X_validaion_s, y_validaion),\n",
    "    callbacks=[keras.callbacks.EarlyStopping(patience=5)],\n",
    "    epochs=2\n",
    ")"
   ]
  },
  {
   "cell_type": "code",
   "execution_count": null,
   "id": "cfef610b-72f8-4f16-b365-b3fba2dbfea6",
   "metadata": {},
   "outputs": [
    {
     "data": {
      "text/plain": [
       "{'model__learning_rate': 0.01,\n",
       " 'model__number_of_hidden_layers': 5,\n",
       " 'model__number_of_neurons': 50}"
      ]
     },
     "execution_count": 73,
     "metadata": {},
     "output_type": "execute_result"
    }
   ],
   "source": [
    "keras_sikit_learn_regresion_GS.best_params_"
   ]
  },
  {
   "cell_type": "code",
   "execution_count": null,
   "id": "9dbc3d61-de25-4ff9-9b49-5f22571b4e14",
   "metadata": {},
   "outputs": [
    {
     "data": {
      "text/plain": [
       "0.6851803360367911"
      ]
     },
     "execution_count": 74,
     "metadata": {},
     "output_type": "execute_result"
    }
   ],
   "source": [
    "keras_sikit_learn_regresion_GS.best_score_"
   ]
  },
  {
   "cell_type": "code",
   "execution_count": null,
   "id": "d6fd57f1-9b65-4ce1-be74-6a54a42d1789",
   "metadata": {},
   "outputs": [],
   "source": [
    "model_gs = keras_sikit_learn_regresion_GS.best_estimator_.model"
   ]
  },
  {
   "cell_type": "markdown",
   "id": "bef4828d-a6bb-431a-accc-2e55cbc5ef15",
   "metadata": {},
   "source": [
    "## hyper opt and hyperas and keras_tuner and Hyperband and skopt are another methode  to set hyper parameter \n",
    "### https://github.com/hyperopt/hyperopt \n",
    "### https://github.com/maxpumperla/hyperas\n",
    "### https://github.com/keras-team/keras-tuner\n",
    "### https://scikit-optimize.github.io/stable/modules/generated/skopt.BayesSearchCV.html\n",
    "### https://github.com/scikit-optimize/scikit-optimize\n",
    "### https://github.com/zygmuntz/hyperband"
   ]
  }
 ],
 "metadata": {
  "kernelspec": {
   "display_name": "ai",
   "language": "python",
   "name": "python3"
  },
  "language_info": {
   "codemirror_mode": {
    "name": "ipython",
    "version": 3
   },
   "file_extension": ".py",
   "mimetype": "text/x-python",
   "name": "python",
   "nbconvert_exporter": "python",
   "pygments_lexer": "ipython3",
   "version": "3.9.21"
  }
 },
 "nbformat": 4,
 "nbformat_minor": 5
}
